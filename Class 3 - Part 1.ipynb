{
 "cells": [
  {
   "cell_type": "markdown",
   "metadata": {},
   "source": [
    "# Word Representations and Text/Document Similarity (Count Based)"
   ]
  },
  {
   "cell_type": "markdown",
   "metadata": {},
   "source": [
    "# Bag of Words"
   ]
  },
  {
   "cell_type": "code",
   "execution_count": 41,
   "metadata": {},
   "outputs": [],
   "source": [
    "import pandas as pd\n",
    "import numpy as np\n",
    "import nltk\n",
    "from nltk import word_tokenize"
   ]
  },
  {
   "cell_type": "code",
   "execution_count": 42,
   "metadata": {},
   "outputs": [],
   "source": [
    "review_1 = 'The movie was good and we really like it'\n",
    "review_2 = 'the movie was good but the ending was boring'\n",
    "review_3 = 'we did not like the movie as it was too lengthy'"
   ]
  },
  {
   "cell_type": "code",
   "execution_count": 43,
   "metadata": {},
   "outputs": [],
   "source": [
    "review_1_tokens = word_tokenize(review_1)\n",
    "review_2_tokens = word_tokenize(review_2)\n",
    "review_3_tokens = word_tokenize(review_3)"
   ]
  },
  {
   "cell_type": "code",
   "execution_count": 44,
   "metadata": {},
   "outputs": [
    {
     "name": "stdout",
     "output_type": "stream",
     "text": [
      "['the', 'movie', 'was', 'good', 'but', 'the', 'ending', 'was', 'boring']\n",
      "{'the', 'good', 'but', 'movie', 'boring', 'ending', 'was'}\n"
     ]
    }
   ],
   "source": [
    "print(review_2_tokens)\n",
    "print(set(review_2_tokens))"
   ]
  },
  {
   "cell_type": "code",
   "execution_count": 45,
   "metadata": {},
   "outputs": [],
   "source": [
    "review_tokens = set(review_1_tokens).union(set(review_2_tokens)).union(set(review_3_tokens))"
   ]
  },
  {
   "cell_type": "code",
   "execution_count": 46,
   "metadata": {},
   "outputs": [
    {
     "name": "stdout",
     "output_type": "stream",
     "text": [
      "18\n",
      "{'we', 'did', 'too', 'really', 'as', 'ending', 'was', 'the', 'good', 'but', 'lengthy', 'movie', 'boring', 'not', 'The', 'like', 'it', 'and'}\n"
     ]
    }
   ],
   "source": [
    "print(len(review_tokens))\n",
    "print(review_tokens)"
   ]
  },
  {
   "cell_type": "code",
   "execution_count": 51,
   "metadata": {},
   "outputs": [
    {
     "name": "stdout",
     "output_type": "stream",
     "text": [
      "{'we': 0, 'did': 0, 'too': 0, 'really': 0, 'as': 0, 'ending': 0, 'was': 0, 'the': 0, 'good': 0, 'but': 0, 'lengthy': 0, 'movie': 0, 'boring': 0, 'not': 0, 'The': 0, 'like': 0, 'it': 0, 'and': 0}\n"
     ]
    }
   ],
   "source": [
    "review1_dict = dict.fromkeys(review_tokens,0)\n",
    "print(review1_dict)"
   ]
  },
  {
   "cell_type": "code",
   "execution_count": 52,
   "metadata": {},
   "outputs": [
    {
     "name": "stdout",
     "output_type": "stream",
     "text": [
      "{'we': 0, 'did': 0, 'too': 0, 'really': 0, 'as': 0, 'ending': 0, 'was': 0, 'the': 0, 'good': 0, 'but': 0, 'lengthy': 0, 'movie': 0, 'boring': 0, 'not': 0, 'The': 0, 'like': 0, 'it': 0, 'and': 0}\n",
      "{'we': 0, 'did': 0, 'too': 0, 'really': 0, 'as': 0, 'ending': 0, 'was': 0, 'the': 0, 'good': 0, 'but': 0, 'lengthy': 0, 'movie': 0, 'boring': 0, 'not': 0, 'The': 0, 'like': 0, 'it': 0, 'and': 0}\n"
     ]
    }
   ],
   "source": [
    "review2_dict = dict.fromkeys(review_tokens,0)\n",
    "review3_dict = dict.fromkeys(review_tokens,0)\n",
    "print(review2_dict)\n",
    "print(review3_dict)"
   ]
  },
  {
   "cell_type": "code",
   "execution_count": 53,
   "metadata": {},
   "outputs": [
    {
     "name": "stdout",
     "output_type": "stream",
     "text": [
      "{'we': 1, 'did': 0, 'too': 0, 'really': 1, 'as': 0, 'ending': 0, 'was': 1, 'the': 0, 'good': 1, 'but': 0, 'lengthy': 0, 'movie': 1, 'boring': 0, 'not': 0, 'The': 1, 'like': 1, 'it': 1, 'and': 1}\n"
     ]
    }
   ],
   "source": [
    "# review_1 = 'The movie was good and we really like it'\n",
    "for token in review_1_tokens:\n",
    "    review1_dict[token]+=1\n",
    "print(review1_dict)"
   ]
  },
  {
   "cell_type": "code",
   "execution_count": 54,
   "metadata": {},
   "outputs": [],
   "source": [
    "for token in review_2_tokens:\n",
    "    review2_dict[token]+=1\n",
    "    \n",
    "for token in review_3_tokens:\n",
    "    review3_dict[token]+=1"
   ]
  },
  {
   "cell_type": "code",
   "execution_count": 56,
   "metadata": {},
   "outputs": [
    {
     "name": "stdout",
     "output_type": "stream",
     "text": [
      "{'we': 1, 'did': 0, 'too': 0, 'really': 1, 'as': 0, 'ending': 0, 'was': 1, 'the': 0, 'good': 1, 'but': 0, 'lengthy': 0, 'movie': 1, 'boring': 0, 'not': 0, 'The': 1, 'like': 1, 'it': 1, 'and': 1}\n",
      "{'we': 0, 'did': 0, 'too': 0, 'really': 0, 'as': 0, 'ending': 1, 'was': 2, 'the': 2, 'good': 1, 'but': 1, 'lengthy': 0, 'movie': 1, 'boring': 1, 'not': 0, 'The': 0, 'like': 0, 'it': 0, 'and': 0}\n",
      "{'we': 1, 'did': 1, 'too': 1, 'really': 0, 'as': 1, 'ending': 0, 'was': 1, 'the': 1, 'good': 0, 'but': 0, 'lengthy': 1, 'movie': 1, 'boring': 0, 'not': 1, 'The': 0, 'like': 1, 'it': 1, 'and': 0}\n"
     ]
    }
   ],
   "source": [
    "# review_1 = 'The movie was good and we really like it'\n",
    "# review_2 = 'the movie was good but the ending was boring'\n",
    "# review_3 = 'we did not like the movie as it was too lengthy'\n",
    "print(review1_dict)\n",
    "print(review2_dict)\n",
    "print(review3_dict)"
   ]
  },
  {
   "cell_type": "code",
   "execution_count": 57,
   "metadata": {},
   "outputs": [
    {
     "data": {
      "text/html": [
       "<div>\n",
       "<style scoped>\n",
       "    .dataframe tbody tr th:only-of-type {\n",
       "        vertical-align: middle;\n",
       "    }\n",
       "\n",
       "    .dataframe tbody tr th {\n",
       "        vertical-align: top;\n",
       "    }\n",
       "\n",
       "    .dataframe thead th {\n",
       "        text-align: right;\n",
       "    }\n",
       "</style>\n",
       "<table border=\"1\" class=\"dataframe\">\n",
       "  <thead>\n",
       "    <tr style=\"text-align: right;\">\n",
       "      <th></th>\n",
       "      <th>we</th>\n",
       "      <th>did</th>\n",
       "      <th>too</th>\n",
       "      <th>really</th>\n",
       "      <th>as</th>\n",
       "      <th>ending</th>\n",
       "      <th>was</th>\n",
       "      <th>the</th>\n",
       "      <th>good</th>\n",
       "      <th>but</th>\n",
       "      <th>lengthy</th>\n",
       "      <th>movie</th>\n",
       "      <th>boring</th>\n",
       "      <th>not</th>\n",
       "      <th>The</th>\n",
       "      <th>like</th>\n",
       "      <th>it</th>\n",
       "      <th>and</th>\n",
       "    </tr>\n",
       "  </thead>\n",
       "  <tbody>\n",
       "    <tr>\n",
       "      <th>0</th>\n",
       "      <td>1</td>\n",
       "      <td>0</td>\n",
       "      <td>0</td>\n",
       "      <td>1</td>\n",
       "      <td>0</td>\n",
       "      <td>0</td>\n",
       "      <td>1</td>\n",
       "      <td>0</td>\n",
       "      <td>1</td>\n",
       "      <td>0</td>\n",
       "      <td>0</td>\n",
       "      <td>1</td>\n",
       "      <td>0</td>\n",
       "      <td>0</td>\n",
       "      <td>1</td>\n",
       "      <td>1</td>\n",
       "      <td>1</td>\n",
       "      <td>1</td>\n",
       "    </tr>\n",
       "    <tr>\n",
       "      <th>1</th>\n",
       "      <td>0</td>\n",
       "      <td>0</td>\n",
       "      <td>0</td>\n",
       "      <td>0</td>\n",
       "      <td>0</td>\n",
       "      <td>1</td>\n",
       "      <td>2</td>\n",
       "      <td>2</td>\n",
       "      <td>1</td>\n",
       "      <td>1</td>\n",
       "      <td>0</td>\n",
       "      <td>1</td>\n",
       "      <td>1</td>\n",
       "      <td>0</td>\n",
       "      <td>0</td>\n",
       "      <td>0</td>\n",
       "      <td>0</td>\n",
       "      <td>0</td>\n",
       "    </tr>\n",
       "    <tr>\n",
       "      <th>2</th>\n",
       "      <td>1</td>\n",
       "      <td>1</td>\n",
       "      <td>1</td>\n",
       "      <td>0</td>\n",
       "      <td>1</td>\n",
       "      <td>0</td>\n",
       "      <td>1</td>\n",
       "      <td>1</td>\n",
       "      <td>0</td>\n",
       "      <td>0</td>\n",
       "      <td>1</td>\n",
       "      <td>1</td>\n",
       "      <td>0</td>\n",
       "      <td>1</td>\n",
       "      <td>0</td>\n",
       "      <td>1</td>\n",
       "      <td>1</td>\n",
       "      <td>0</td>\n",
       "    </tr>\n",
       "  </tbody>\n",
       "</table>\n",
       "</div>"
      ],
      "text/plain": [
       "   we  did  too  really  as  ending  was  the  good  but  lengthy  movie  \\\n",
       "0   1    0    0       1   0       0    1    0     1    0        0      1   \n",
       "1   0    0    0       0   0       1    2    2     1    1        0      1   \n",
       "2   1    1    1       0   1       0    1    1     0    0        1      1   \n",
       "\n",
       "   boring  not  The  like  it  and  \n",
       "0       0    0    1     1   1    1  \n",
       "1       1    0    0     0   0    0  \n",
       "2       0    1    0     1   1    0  "
      ]
     },
     "execution_count": 57,
     "metadata": {},
     "output_type": "execute_result"
    }
   ],
   "source": [
    "reviews_dict_df = pd.DataFrame([review1_dict,review2_dict,review3_dict])\n",
    "reviews_dict_df"
   ]
  },
  {
   "cell_type": "markdown",
   "metadata": {},
   "source": [
    "This is the Term Frequency Matrix (TFM) or Document Term matrix (DTM) or CV Matrix"
   ]
  },
  {
   "cell_type": "markdown",
   "metadata": {},
   "source": [
    "# Count Vectorizer\n",
    "sklearn implementation of TFM creation using Bag of Words"
   ]
  },
  {
   "cell_type": "code",
   "execution_count": 58,
   "metadata": {},
   "outputs": [],
   "source": [
    "from sklearn.feature_extraction.text import CountVectorizer"
   ]
  },
  {
   "cell_type": "code",
   "execution_count": 59,
   "metadata": {},
   "outputs": [],
   "source": [
    "review_list = [review_1,review_2,review_3]"
   ]
  },
  {
   "cell_type": "code",
   "execution_count": 60,
   "metadata": {},
   "outputs": [
    {
     "data": {
      "text/plain": [
       "['The movie was good and we really like it',\n",
       " 'the movie was good but the ending was boring',\n",
       " 'we did not like the movie as it was too lengthy']"
      ]
     },
     "execution_count": 60,
     "metadata": {},
     "output_type": "execute_result"
    }
   ],
   "source": [
    "review_list"
   ]
  },
  {
   "cell_type": "code",
   "execution_count": 61,
   "metadata": {},
   "outputs": [],
   "source": [
    "# count_vect = CountVectorizer()\n",
    "count_vect = CountVectorizer(stop_words='english')"
   ]
  },
  {
   "cell_type": "code",
   "execution_count": 62,
   "metadata": {},
   "outputs": [
    {
     "data": {
      "text/plain": [
       "scipy.sparse.csr.csr_matrix"
      ]
     },
     "execution_count": 62,
     "metadata": {},
     "output_type": "execute_result"
    }
   ],
   "source": [
    "#Fit - Generate BOW / Vocabulary\n",
    "# Transform  -generate the DTM or CV Matrix \n",
    "X_counts = count_vect.fit_transform(review_list)\n",
    "type(X_counts)"
   ]
  },
  {
   "cell_type": "markdown",
   "metadata": {},
   "source": [
    "CSR means Compressed Sparse Row, which is a row-wise sparse matrix"
   ]
  },
  {
   "cell_type": "code",
   "execution_count": 63,
   "metadata": {},
   "outputs": [
    {
     "data": {
      "text/plain": [
       "array([[0, 0, 0, 1, 0, 1, 1, 1],\n",
       "       [1, 0, 1, 1, 0, 0, 1, 0],\n",
       "       [0, 1, 0, 0, 1, 1, 1, 0]], dtype=int64)"
      ]
     },
     "execution_count": 63,
     "metadata": {},
     "output_type": "execute_result"
    }
   ],
   "source": [
    "X_counts.toarray()"
   ]
  },
  {
   "cell_type": "code",
   "execution_count": 66,
   "metadata": {},
   "outputs": [
    {
     "data": {
      "text/plain": [
       "['The movie was good and we really like it',\n",
       " 'the movie was good but the ending was boring',\n",
       " 'we did not like the movie as it was too lengthy']"
      ]
     },
     "execution_count": 66,
     "metadata": {},
     "output_type": "execute_result"
    }
   ],
   "source": [
    "review_list"
   ]
  },
  {
   "cell_type": "code",
   "execution_count": 65,
   "metadata": {
    "scrolled": true
   },
   "outputs": [
    {
     "data": {
      "text/plain": [
       "['boring', 'did', 'ending', 'good', 'lengthy', 'like', 'movie', 'really']"
      ]
     },
     "execution_count": 65,
     "metadata": {},
     "output_type": "execute_result"
    }
   ],
   "source": [
    "count_vect.get_feature_names()"
   ]
  },
  {
   "cell_type": "code",
   "execution_count": 21,
   "metadata": {},
   "outputs": [
    {
     "data": {
      "text/plain": [
       "['boring', 'did', 'ending', 'good', 'lengthy', 'like', 'movie', 'really']"
      ]
     },
     "execution_count": 21,
     "metadata": {},
     "output_type": "execute_result"
    }
   ],
   "source": [
    "X_names = count_vect.get_feature_names()\n",
    "X_names"
   ]
  },
  {
   "cell_type": "code",
   "execution_count": 67,
   "metadata": {},
   "outputs": [
    {
     "data": {
      "text/html": [
       "<div>\n",
       "<style scoped>\n",
       "    .dataframe tbody tr th:only-of-type {\n",
       "        vertical-align: middle;\n",
       "    }\n",
       "\n",
       "    .dataframe tbody tr th {\n",
       "        vertical-align: top;\n",
       "    }\n",
       "\n",
       "    .dataframe thead th {\n",
       "        text-align: right;\n",
       "    }\n",
       "</style>\n",
       "<table border=\"1\" class=\"dataframe\">\n",
       "  <thead>\n",
       "    <tr style=\"text-align: right;\">\n",
       "      <th></th>\n",
       "      <th>boring</th>\n",
       "      <th>did</th>\n",
       "      <th>ending</th>\n",
       "      <th>good</th>\n",
       "      <th>lengthy</th>\n",
       "      <th>like</th>\n",
       "      <th>movie</th>\n",
       "      <th>really</th>\n",
       "    </tr>\n",
       "  </thead>\n",
       "  <tbody>\n",
       "    <tr>\n",
       "      <th>0</th>\n",
       "      <td>0</td>\n",
       "      <td>0</td>\n",
       "      <td>0</td>\n",
       "      <td>1</td>\n",
       "      <td>0</td>\n",
       "      <td>1</td>\n",
       "      <td>1</td>\n",
       "      <td>1</td>\n",
       "    </tr>\n",
       "    <tr>\n",
       "      <th>1</th>\n",
       "      <td>1</td>\n",
       "      <td>0</td>\n",
       "      <td>1</td>\n",
       "      <td>1</td>\n",
       "      <td>0</td>\n",
       "      <td>0</td>\n",
       "      <td>1</td>\n",
       "      <td>0</td>\n",
       "    </tr>\n",
       "    <tr>\n",
       "      <th>2</th>\n",
       "      <td>0</td>\n",
       "      <td>1</td>\n",
       "      <td>0</td>\n",
       "      <td>0</td>\n",
       "      <td>1</td>\n",
       "      <td>1</td>\n",
       "      <td>1</td>\n",
       "      <td>0</td>\n",
       "    </tr>\n",
       "  </tbody>\n",
       "</table>\n",
       "</div>"
      ],
      "text/plain": [
       "   boring  did  ending  good  lengthy  like  movie  really\n",
       "0       0    0       0     1        0     1      1       1\n",
       "1       1    0       1     1        0     0      1       0\n",
       "2       0    1       0     0        1     1      1       0"
      ]
     },
     "execution_count": 67,
     "metadata": {},
     "output_type": "execute_result"
    }
   ],
   "source": [
    "a = pd.DataFrame(X_counts.toarray(),columns=X_names)\n",
    "a"
   ]
  },
  {
   "cell_type": "markdown",
   "metadata": {},
   "source": [
    "# TF-IDF"
   ]
  },
  {
   "cell_type": "code",
   "execution_count": 68,
   "metadata": {},
   "outputs": [],
   "source": [
    "from sklearn.feature_extraction.text import TfidfVectorizer"
   ]
  },
  {
   "cell_type": "code",
   "execution_count": 69,
   "metadata": {},
   "outputs": [],
   "source": [
    "tf_vect = TfidfVectorizer(min_df=1, lowercase=True, stop_words='english')"
   ]
  },
  {
   "cell_type": "code",
   "execution_count": 70,
   "metadata": {},
   "outputs": [
    {
     "name": "stdout",
     "output_type": "stream",
     "text": [
      "<class 'scipy.sparse.csr.csr_matrix'>\n"
     ]
    },
    {
     "data": {
      "text/plain": [
       "(3, 8)"
      ]
     },
     "execution_count": 70,
     "metadata": {},
     "output_type": "execute_result"
    }
   ],
   "source": [
    "tf_matrix = tf_vect.fit_transform(review_list)\n",
    "print(type(tf_matrix))\n",
    "tf_matrix.shape"
   ]
  },
  {
   "cell_type": "code",
   "execution_count": 71,
   "metadata": {},
   "outputs": [
    {
     "data": {
      "text/plain": [
       "array([[0.        , 0.        , 0.        , 0.4804584 , 0.        ,\n",
       "        0.4804584 , 0.37311881, 0.63174505],\n",
       "       [0.5844829 , 0.        , 0.5844829 , 0.44451431, 0.        ,\n",
       "        0.        , 0.34520502, 0.        ],\n",
       "       [0.        , 0.5844829 , 0.        , 0.        , 0.5844829 ,\n",
       "        0.44451431, 0.34520502, 0.        ]])"
      ]
     },
     "execution_count": 71,
     "metadata": {},
     "output_type": "execute_result"
    }
   ],
   "source": [
    "tf_matrix.toarray()"
   ]
  },
  {
   "cell_type": "code",
   "execution_count": 72,
   "metadata": {},
   "outputs": [
    {
     "data": {
      "text/plain": [
       "['boring', 'did', 'ending', 'good', 'lengthy', 'like', 'movie', 'really']"
      ]
     },
     "execution_count": 72,
     "metadata": {},
     "output_type": "execute_result"
    }
   ],
   "source": [
    "tf_names = tf_vect.get_feature_names()\n",
    "tf_names"
   ]
  },
  {
   "cell_type": "code",
   "execution_count": 73,
   "metadata": {},
   "outputs": [],
   "source": [
    "tf_df = pd.DataFrame(tf_matrix.toarray(),columns=tf_names)"
   ]
  },
  {
   "cell_type": "code",
   "execution_count": 74,
   "metadata": {},
   "outputs": [
    {
     "data": {
      "text/html": [
       "<div>\n",
       "<style scoped>\n",
       "    .dataframe tbody tr th:only-of-type {\n",
       "        vertical-align: middle;\n",
       "    }\n",
       "\n",
       "    .dataframe tbody tr th {\n",
       "        vertical-align: top;\n",
       "    }\n",
       "\n",
       "    .dataframe thead th {\n",
       "        text-align: right;\n",
       "    }\n",
       "</style>\n",
       "<table border=\"1\" class=\"dataframe\">\n",
       "  <thead>\n",
       "    <tr style=\"text-align: right;\">\n",
       "      <th></th>\n",
       "      <th>boring</th>\n",
       "      <th>did</th>\n",
       "      <th>ending</th>\n",
       "      <th>good</th>\n",
       "      <th>lengthy</th>\n",
       "      <th>like</th>\n",
       "      <th>movie</th>\n",
       "      <th>really</th>\n",
       "    </tr>\n",
       "  </thead>\n",
       "  <tbody>\n",
       "    <tr>\n",
       "      <th>0</th>\n",
       "      <td>0.000000</td>\n",
       "      <td>0.000000</td>\n",
       "      <td>0.000000</td>\n",
       "      <td>0.480458</td>\n",
       "      <td>0.000000</td>\n",
       "      <td>0.480458</td>\n",
       "      <td>0.373119</td>\n",
       "      <td>0.631745</td>\n",
       "    </tr>\n",
       "    <tr>\n",
       "      <th>1</th>\n",
       "      <td>0.584483</td>\n",
       "      <td>0.000000</td>\n",
       "      <td>0.584483</td>\n",
       "      <td>0.444514</td>\n",
       "      <td>0.000000</td>\n",
       "      <td>0.000000</td>\n",
       "      <td>0.345205</td>\n",
       "      <td>0.000000</td>\n",
       "    </tr>\n",
       "    <tr>\n",
       "      <th>2</th>\n",
       "      <td>0.000000</td>\n",
       "      <td>0.584483</td>\n",
       "      <td>0.000000</td>\n",
       "      <td>0.000000</td>\n",
       "      <td>0.584483</td>\n",
       "      <td>0.444514</td>\n",
       "      <td>0.345205</td>\n",
       "      <td>0.000000</td>\n",
       "    </tr>\n",
       "  </tbody>\n",
       "</table>\n",
       "</div>"
      ],
      "text/plain": [
       "     boring       did    ending      good   lengthy      like     movie  \\\n",
       "0  0.000000  0.000000  0.000000  0.480458  0.000000  0.480458  0.373119   \n",
       "1  0.584483  0.000000  0.584483  0.444514  0.000000  0.000000  0.345205   \n",
       "2  0.000000  0.584483  0.000000  0.000000  0.584483  0.444514  0.345205   \n",
       "\n",
       "     really  \n",
       "0  0.631745  \n",
       "1  0.000000  \n",
       "2  0.000000  "
      ]
     },
     "execution_count": 74,
     "metadata": {},
     "output_type": "execute_result"
    }
   ],
   "source": [
    "tf_df"
   ]
  },
  {
   "cell_type": "markdown",
   "metadata": {},
   "source": [
    "# Document Similarity Estimation using TF-IDF"
   ]
  },
  {
   "cell_type": "code",
   "execution_count": 75,
   "metadata": {},
   "outputs": [],
   "source": [
    "doc1 = 'Natural Language Processing is the study of making a machine understand and generate languages like humans'\n",
    "doc2 = 'Cricket is a sports played with a bat and a ball. It is not played in many countries'\n",
    "doc3 = 'Languages are the cornerstone of human evolution. Making a machine study languages is not easy'\n",
    "doc4 = 'Football is a sport played in almost all countries of the world. It is played by kicking a ball'"
   ]
  },
  {
   "cell_type": "code",
   "execution_count": 76,
   "metadata": {},
   "outputs": [],
   "source": [
    "documents = [doc1, doc2, doc3, doc4]"
   ]
  },
  {
   "cell_type": "code",
   "execution_count": 77,
   "metadata": {},
   "outputs": [],
   "source": [
    "tf_vect_docs = TfidfVectorizer(min_df=1, lowercase=True, stop_words='english')\n",
    "tf_matrix_docs = tf_vect_docs.fit_transform(documents)"
   ]
  },
  {
   "cell_type": "code",
   "execution_count": 78,
   "metadata": {},
   "outputs": [
    {
     "data": {
      "text/html": [
       "<div>\n",
       "<style scoped>\n",
       "    .dataframe tbody tr th:only-of-type {\n",
       "        vertical-align: middle;\n",
       "    }\n",
       "\n",
       "    .dataframe tbody tr th {\n",
       "        vertical-align: top;\n",
       "    }\n",
       "\n",
       "    .dataframe thead th {\n",
       "        text-align: right;\n",
       "    }\n",
       "</style>\n",
       "<table border=\"1\" class=\"dataframe\">\n",
       "  <thead>\n",
       "    <tr style=\"text-align: right;\">\n",
       "      <th></th>\n",
       "      <th>ball</th>\n",
       "      <th>bat</th>\n",
       "      <th>cornerstone</th>\n",
       "      <th>countries</th>\n",
       "      <th>cricket</th>\n",
       "      <th>easy</th>\n",
       "      <th>evolution</th>\n",
       "      <th>football</th>\n",
       "      <th>generate</th>\n",
       "      <th>human</th>\n",
       "      <th>...</th>\n",
       "      <th>machine</th>\n",
       "      <th>making</th>\n",
       "      <th>natural</th>\n",
       "      <th>played</th>\n",
       "      <th>processing</th>\n",
       "      <th>sport</th>\n",
       "      <th>sports</th>\n",
       "      <th>study</th>\n",
       "      <th>understand</th>\n",
       "      <th>world</th>\n",
       "    </tr>\n",
       "  </thead>\n",
       "  <tbody>\n",
       "    <tr>\n",
       "      <th>0</th>\n",
       "      <td>0.00000</td>\n",
       "      <td>0.000000</td>\n",
       "      <td>0.00000</td>\n",
       "      <td>0.00000</td>\n",
       "      <td>0.000000</td>\n",
       "      <td>0.00000</td>\n",
       "      <td>0.00000</td>\n",
       "      <td>0.000000</td>\n",
       "      <td>0.324676</td>\n",
       "      <td>0.00000</td>\n",
       "      <td>...</td>\n",
       "      <td>0.255978</td>\n",
       "      <td>0.255978</td>\n",
       "      <td>0.324676</td>\n",
       "      <td>0.000000</td>\n",
       "      <td>0.324676</td>\n",
       "      <td>0.000000</td>\n",
       "      <td>0.000000</td>\n",
       "      <td>0.255978</td>\n",
       "      <td>0.324676</td>\n",
       "      <td>0.000000</td>\n",
       "    </tr>\n",
       "    <tr>\n",
       "      <th>1</th>\n",
       "      <td>0.30392</td>\n",
       "      <td>0.385484</td>\n",
       "      <td>0.00000</td>\n",
       "      <td>0.30392</td>\n",
       "      <td>0.385484</td>\n",
       "      <td>0.00000</td>\n",
       "      <td>0.00000</td>\n",
       "      <td>0.000000</td>\n",
       "      <td>0.000000</td>\n",
       "      <td>0.00000</td>\n",
       "      <td>...</td>\n",
       "      <td>0.000000</td>\n",
       "      <td>0.000000</td>\n",
       "      <td>0.000000</td>\n",
       "      <td>0.607841</td>\n",
       "      <td>0.000000</td>\n",
       "      <td>0.000000</td>\n",
       "      <td>0.385484</td>\n",
       "      <td>0.000000</td>\n",
       "      <td>0.000000</td>\n",
       "      <td>0.000000</td>\n",
       "    </tr>\n",
       "    <tr>\n",
       "      <th>2</th>\n",
       "      <td>0.00000</td>\n",
       "      <td>0.000000</td>\n",
       "      <td>0.34604</td>\n",
       "      <td>0.00000</td>\n",
       "      <td>0.000000</td>\n",
       "      <td>0.34604</td>\n",
       "      <td>0.34604</td>\n",
       "      <td>0.000000</td>\n",
       "      <td>0.000000</td>\n",
       "      <td>0.34604</td>\n",
       "      <td>...</td>\n",
       "      <td>0.272822</td>\n",
       "      <td>0.272822</td>\n",
       "      <td>0.000000</td>\n",
       "      <td>0.000000</td>\n",
       "      <td>0.000000</td>\n",
       "      <td>0.000000</td>\n",
       "      <td>0.000000</td>\n",
       "      <td>0.272822</td>\n",
       "      <td>0.000000</td>\n",
       "      <td>0.000000</td>\n",
       "    </tr>\n",
       "    <tr>\n",
       "      <th>3</th>\n",
       "      <td>0.28358</td>\n",
       "      <td>0.000000</td>\n",
       "      <td>0.00000</td>\n",
       "      <td>0.28358</td>\n",
       "      <td>0.000000</td>\n",
       "      <td>0.00000</td>\n",
       "      <td>0.00000</td>\n",
       "      <td>0.359685</td>\n",
       "      <td>0.000000</td>\n",
       "      <td>0.00000</td>\n",
       "      <td>...</td>\n",
       "      <td>0.000000</td>\n",
       "      <td>0.000000</td>\n",
       "      <td>0.000000</td>\n",
       "      <td>0.567160</td>\n",
       "      <td>0.000000</td>\n",
       "      <td>0.359685</td>\n",
       "      <td>0.000000</td>\n",
       "      <td>0.000000</td>\n",
       "      <td>0.000000</td>\n",
       "      <td>0.359685</td>\n",
       "    </tr>\n",
       "  </tbody>\n",
       "</table>\n",
       "<p>4 rows × 25 columns</p>\n",
       "</div>"
      ],
      "text/plain": [
       "      ball       bat  cornerstone  countries   cricket     easy  evolution  \\\n",
       "0  0.00000  0.000000      0.00000    0.00000  0.000000  0.00000    0.00000   \n",
       "1  0.30392  0.385484      0.00000    0.30392  0.385484  0.00000    0.00000   \n",
       "2  0.00000  0.000000      0.34604    0.00000  0.000000  0.34604    0.34604   \n",
       "3  0.28358  0.000000      0.00000    0.28358  0.000000  0.00000    0.00000   \n",
       "\n",
       "   football  generate    human  ...   machine    making   natural    played  \\\n",
       "0  0.000000  0.324676  0.00000  ...  0.255978  0.255978  0.324676  0.000000   \n",
       "1  0.000000  0.000000  0.00000  ...  0.000000  0.000000  0.000000  0.607841   \n",
       "2  0.000000  0.000000  0.34604  ...  0.272822  0.272822  0.000000  0.000000   \n",
       "3  0.359685  0.000000  0.00000  ...  0.000000  0.000000  0.000000  0.567160   \n",
       "\n",
       "   processing     sport    sports     study  understand     world  \n",
       "0    0.324676  0.000000  0.000000  0.255978    0.324676  0.000000  \n",
       "1    0.000000  0.000000  0.385484  0.000000    0.000000  0.000000  \n",
       "2    0.000000  0.000000  0.000000  0.272822    0.000000  0.000000  \n",
       "3    0.000000  0.359685  0.000000  0.000000    0.000000  0.359685  \n",
       "\n",
       "[4 rows x 25 columns]"
      ]
     },
     "execution_count": 78,
     "metadata": {},
     "output_type": "execute_result"
    }
   ],
   "source": [
    "tf_df = pd.DataFrame(tf_matrix_docs.toarray(),columns=tf_vect_docs.get_feature_names())\n",
    "tf_df"
   ]
  },
  {
   "cell_type": "markdown",
   "metadata": {},
   "source": [
    "### Calculating the document similarities\n",
    "* Cosine similarity is a metric used to measure how similar the documents are irrespective of their size. Mathematically, it measures the cosine of the angle between two vectors projected in a multi-dimensional space\n",
    "* The cosine similarity is advantageous because even if the two similar documents are far apart by the Euclidean distance (due to the size of the document), chances are they may still be oriented closer together. The smaller the angle, higher the cosine similarity\n",
    "\n",
    "https://www.machinelearningplus.com/nlp/cosine-similarity/"
   ]
  },
  {
   "cell_type": "code",
   "execution_count": 79,
   "metadata": {},
   "outputs": [],
   "source": [
    "from sklearn.metrics.pairwise import cosine_similarity as c_sim"
   ]
  },
  {
   "cell_type": "code",
   "execution_count": 80,
   "metadata": {},
   "outputs": [],
   "source": [
    "#tf_matrix_docs[0:1].toarray()"
   ]
  },
  {
   "cell_type": "code",
   "execution_count": 81,
   "metadata": {},
   "outputs": [
    {
     "data": {
      "text/plain": [
       "array([[0.        , 0.        , 0.        , 0.        , 0.        ,\n",
       "        0.        , 0.        , 0.        , 0.32467583, 0.        ,\n",
       "        0.32467583, 0.        , 0.32467583, 0.25597815, 0.32467583,\n",
       "        0.25597815, 0.25597815, 0.32467583, 0.        , 0.32467583,\n",
       "        0.        , 0.        , 0.25597815, 0.32467583, 0.        ]])"
      ]
     },
     "execution_count": 81,
     "metadata": {},
     "output_type": "execute_result"
    }
   ],
   "source": [
    "tf_matrix_docs[0].toarray()"
   ]
  },
  {
   "cell_type": "code",
   "execution_count": 82,
   "metadata": {},
   "outputs": [
    {
     "data": {
      "text/plain": [
       "array([[0.34918271]])"
      ]
     },
     "execution_count": 82,
     "metadata": {},
     "output_type": "execute_result"
    }
   ],
   "source": [
    "# doc1 = 'Natural Language Processing is the study of making a machine understand and generate languages like humans'\n",
    "# doc2 = 'Cricket is a sports played with a bat and a ball. It is not played in many countries'\n",
    "# doc3 = 'Languages are the cornerstone of human evolution. Making a machine study languages is not easy'\n",
    "# doc4 = 'Football is a sport played in almost all countries of the world. It is played by kicking a ball'\n",
    "c_sim(tf_matrix_docs[0], tf_matrix_docs[2])\n",
    "#c_sim(tf_matrix_docs[0:1], tf_matrix_docs[2:3])"
   ]
  },
  {
   "cell_type": "code",
   "execution_count": 83,
   "metadata": {},
   "outputs": [
    {
     "data": {
      "text/plain": [
       "array([[0.51711443]])"
      ]
     },
     "execution_count": 83,
     "metadata": {},
     "output_type": "execute_result"
    }
   ],
   "source": [
    "c_sim(tf_matrix_docs[1], tf_matrix_docs[3])"
   ]
  },
  {
   "cell_type": "code",
   "execution_count": 84,
   "metadata": {},
   "outputs": [
    {
     "data": {
      "text/plain": [
       "array([[0.]])"
      ]
     },
     "execution_count": 84,
     "metadata": {},
     "output_type": "execute_result"
    }
   ],
   "source": [
    "c_sim(tf_matrix_docs[1], tf_matrix_docs[2])"
   ]
  },
  {
   "cell_type": "code",
   "execution_count": 85,
   "metadata": {},
   "outputs": [
    {
     "data": {
      "text/plain": [
       "array([[0.]])"
      ]
     },
     "execution_count": 85,
     "metadata": {},
     "output_type": "execute_result"
    }
   ],
   "source": [
    "c_sim(tf_matrix_docs[0], tf_matrix_docs[3])"
   ]
  },
  {
   "cell_type": "code",
   "execution_count": null,
   "metadata": {},
   "outputs": [],
   "source": []
  }
 ],
 "metadata": {
  "kernelspec": {
   "display_name": "Python 3",
   "language": "python",
   "name": "python3"
  },
  "language_info": {
   "codemirror_mode": {
    "name": "ipython",
    "version": 3
   },
   "file_extension": ".py",
   "mimetype": "text/x-python",
   "name": "python",
   "nbconvert_exporter": "python",
   "pygments_lexer": "ipython3",
   "version": "3.8.3"
  }
 },
 "nbformat": 4,
 "nbformat_minor": 2
}
