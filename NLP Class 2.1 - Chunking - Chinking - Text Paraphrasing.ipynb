{
 "cells": [
  {
   "cell_type": "markdown",
   "metadata": {},
   "source": [
    "# Import required libraries"
   ]
  },
  {
   "cell_type": "code",
   "execution_count": 127,
   "metadata": {},
   "outputs": [],
   "source": [
    "import nltk\n",
    "import os "
   ]
  },
  {
   "cell_type": "markdown",
   "metadata": {},
   "source": [
    "Visualize Syntax Tree:\n",
    "\n",
    "Ghost Script Download : https://www.ghostscript.com/download/gsdnld.html"
   ]
  },
  {
   "cell_type": "code",
   "execution_count": 128,
   "metadata": {},
   "outputs": [],
   "source": [
    "# # Ghostscript to visualize the sentence tree\n",
    "#path_to_gs = r\"C:\\Program Files\\gs\\gs9.54.0\\bin\"\n",
    "path_to_gs = 'C:\\\\Program Files\\\\gs\\\\gs9.54.0\\\\bin'\n",
    "# modifying environment variable\n",
    "#os.environ['PATH']+=os.pathsep + path_to_gs"
   ]
  },
  {
   "cell_type": "code",
   "execution_count": 130,
   "metadata": {},
   "outputs": [
    {
     "data": {
      "text/plain": [
       "'C:\\\\Users\\\\navan\\\\anaconda3;C:\\\\Users\\\\navan\\\\anaconda3\\\\Library\\\\mingw-w64\\\\bin;C:\\\\Users\\\\navan\\\\anaconda3\\\\Library\\\\usr\\\\bin;C:\\\\Users\\\\navan\\\\anaconda3\\\\Library\\\\bin;C:\\\\Users\\\\navan\\\\anaconda3\\\\Scripts;C:\\\\Program Files (x86)\\\\Common Files\\\\Oracle\\\\Java\\\\javapath;C:\\\\WINDOWS\\\\system32;C:\\\\WINDOWS;C:\\\\WINDOWS\\\\System32\\\\Wbem;C:\\\\WINDOWS\\\\System32\\\\WindowsPowerShell\\\\v1.0\\\\;C:\\\\WINDOWS\\\\System32\\\\OpenSSH\\\\;C:\\\\Program Files\\\\Graphviz\\\\bin;C:\\\\Users\\\\navan\\\\anaconda3;C:\\\\Users\\\\navan\\\\anaconda3\\\\Library\\\\mingw-w64\\\\bin;C:\\\\Users\\\\navan\\\\anaconda3\\\\Library\\\\usr\\\\bin;C:\\\\Users\\\\navan\\\\anaconda3\\\\Library\\\\bin;C:\\\\Users\\\\navan\\\\anaconda3\\\\Scripts;C:\\\\Users\\\\navan\\\\AppData\\\\Local\\\\Microsoft\\\\WindowsApps;C:\\\\Users\\\\navan\\\\AppData\\\\Local\\\\atom\\\\bin;C:\\\\Program Files\\\\JetBrains\\\\PyCharm Community Edition 2021.1.1\\\\bin;;C:\\\\Users\\\\navan\\\\anaconda3\\\\lib\\\\site-packages\\\\scipy\\\\.libs;C:\\\\Program Files\\\\gs\\\\gs9.54.0\\\\bin;C:\\\\Program Files\\\\gs\\\\gs9.54.0\\\\bin;C:\\\\Program Files\\\\gs\\\\gs9.54.0\\\\bin'"
      ]
     },
     "execution_count": 130,
     "metadata": {},
     "output_type": "execute_result"
    }
   ],
   "source": [
    "os.environ['PATH']"
   ]
  },
  {
   "cell_type": "markdown",
   "metadata": {},
   "source": [
    "# Chunking in Python"
   ]
  },
  {
   "cell_type": "code",
   "execution_count": 132,
   "metadata": {},
   "outputs": [
    {
     "name": "stderr",
     "output_type": "stream",
     "text": [
      "[nltk_data] Downloading package averaged_perceptron_tagger to\n",
      "[nltk_data]     C:\\Users\\navan\\AppData\\Roaming\\nltk_data...\n",
      "[nltk_data]   Package averaged_perceptron_tagger is already up-to-\n",
      "[nltk_data]       date!\n"
     ]
    }
   ],
   "source": [
    "nltk.download('averaged_perceptron_tagger')\n",
    "from nltk.tokenize import word_tokenize\n",
    "from nltk.tokenize import RegexpTokenizer\n",
    "from nltk import RegexpParser as regex_parser"
   ]
  },
  {
   "cell_type": "markdown",
   "metadata": {},
   "source": [
    "## Example 1\n",
    "#### Extracting Noun Phrases from the sentence  (chunking)"
   ]
  },
  {
   "cell_type": "code",
   "execution_count": 134,
   "metadata": {},
   "outputs": [
    {
     "data": {
      "text/plain": [
       "[('The', 'DT'),\n",
       " ('little', 'JJ'),\n",
       " ('mouse', 'NN'),\n",
       " ('ate', 'VB'),\n",
       " ('the', 'DT'),\n",
       " ('fresh', 'JJ'),\n",
       " ('cheese', 'NN')]"
      ]
     },
     "execution_count": 134,
     "metadata": {},
     "output_type": "execute_result"
    }
   ],
   "source": [
    "sent = \"The little mouse ate the fresh cheese\"\n",
    "sent_tokens = nltk.pos_tag(word_tokenize(sent)) \n",
    "sent_tokens"
   ]
  },
  {
   "cell_type": "code",
   "execution_count": 135,
   "metadata": {},
   "outputs": [],
   "source": [
    "# we are chunking Noun Phrase using the following reg.exp.\n",
    "# regex:\n",
    "#     the pos tags are in angular brackets, ? -> 0 or 1 occurences, * -> 0 or many occurences, + -> 1 or many occurences \n",
    "#     <DT>? means, the determinant can have 0 or 1 occurences\n",
    "#     <JJ>* means, the adjective can have 0 or many occurences\n",
    "#     <NN> means, the noun has to occur exactly one time at that place\n",
    "#     In the regexp below:\n",
    "#       <DT> can occur 0 or 1 times, followed by <JJ> Adjective 0 or multiple times followed by exactly one <NN> Noun\n",
    "# \"The little mouse ate the fresh cheese\"\n",
    "\n",
    "#phrase name\n",
    "grammar_np = r\"NP: {<DT>?<JJ>*<NN>}\" # mouse / little mouse / the little mouse / the fresh hot cheese -> are valid as per this\n",
    "# grammar_np = r\"NP: {<NN><VB>}"
   ]
  },
  {
   "cell_type": "code",
   "execution_count": 136,
   "metadata": {},
   "outputs": [],
   "source": [
    "chunk_parser = regex_parser(grammar_np)"
   ]
  },
  {
   "cell_type": "code",
   "execution_count": 137,
   "metadata": {},
   "outputs": [
    {
     "data": {
      "image/png": "[encoded data removed]",
      "text/plain": [
       "Tree('S', [Tree('NP', [('The', 'DT'), ('little', 'JJ'), ('mouse', 'NN')]), ('ate', 'VB'), Tree('NP', [('the', 'DT'), ('fresh', 'JJ'), ('cheese', 'NN')])])"
      ]
     },
     "execution_count": 137,
     "metadata": {},
     "output_type": "execute_result"
    }
   ],
   "source": [
    "chunk_result = chunk_parser.parse(sent_tokens)\n",
    "chunk_result"
   ]
  },
  {
   "cell_type": "code",
   "execution_count": 84,
   "metadata": {},
   "outputs": [
    {
     "name": "stdout",
     "output_type": "stream",
     "text": [
      "(S\n",
      "  (NP The/DT little/JJ mouse/NN)\n",
      "  ate/VB\n",
      "  (NP the/DT fresh/JJ cheese/NN))\n"
     ]
    }
   ],
   "source": [
    "print(chunk_result)"
   ]
  },
  {
   "cell_type": "code",
   "execution_count": 138,
   "metadata": {},
   "outputs": [
    {
     "data": {
      "text/plain": [
       "[('He', 'PRP'),\n",
       " ('said', 'VBD'),\n",
       " ('that', 'IN'),\n",
       " ('the', 'DT'),\n",
       " ('little', 'JJ'),\n",
       " ('mouse', 'NN'),\n",
       " ('ate', 'VB'),\n",
       " ('the', 'DT'),\n",
       " ('fresh', 'JJ'),\n",
       " ('cheese', 'NN')]"
      ]
     },
     "execution_count": 138,
     "metadata": {},
     "output_type": "execute_result"
    }
   ],
   "source": [
    "sent = \"He said that the little mouse ate the fresh cheese\"\n",
    "sent_tokens = nltk.pos_tag(word_tokenize(sent)) \n",
    "sent_tokens"
   ]
  },
  {
   "cell_type": "code",
   "execution_count": 139,
   "metadata": {},
   "outputs": [
    {
     "data": {
      "image/png": "[encoded data removed]",
      "text/plain": [
       "Tree('S', [('He', 'PRP'), ('said', 'VBD'), ('that', 'IN'), Tree('NP', [('the', 'DT'), ('little', 'JJ'), ('mouse', 'NN')]), ('ate', 'VB'), Tree('NP', [('the', 'DT'), ('fresh', 'JJ'), ('cheese', 'NN')])])"
      ]
     },
     "execution_count": 139,
     "metadata": {},
     "output_type": "execute_result"
    }
   ],
   "source": [
    "chunk_result = chunk_parser.parse(sent_tokens)\n",
    "chunk_result"
   ]
  },
  {
   "cell_type": "code",
   "execution_count": 140,
   "metadata": {},
   "outputs": [
    {
     "data": {
      "image/png": "[encoded data removed]",
      "text/plain": [
       "Tree('S', [Tree('TST', [('He', 'PRP'), ('said', 'VBD')]), ('that', 'IN'), ('the', 'DT'), ('little', 'JJ'), ('mouse', 'NN'), ('ate', 'VB'), ('the', 'DT'), ('fresh', 'JJ'), ('cheese', 'NN')])"
      ]
     },
     "execution_count": 140,
     "metadata": {},
     "output_type": "execute_result"
    }
   ],
   "source": [
    "grammar_tst = r\"TST: {<PRP><VB|VBD>?}\"\n",
    "chunk_parser = regex_parser(grammar_tst)\n",
    "chunk_result = chunk_parser.parse(sent_tokens)\n",
    "chunk_result"
   ]
  },
  {
   "cell_type": "markdown",
   "metadata": {},
   "source": [
    "## Example 2\n",
    "#### Extracting Noun Phrases from the sentence (chunking)"
   ]
  },
  {
   "cell_type": "code",
   "execution_count": 141,
   "metadata": {},
   "outputs": [
    {
     "data": {
      "text/plain": [
       "[('She', 'PRP'),\n",
       " ('is', 'VBZ'),\n",
       " ('wearing', 'VBG'),\n",
       " ('a', 'DT'),\n",
       " ('beautiful', 'JJ'),\n",
       " ('dress', 'NN')]"
      ]
     },
     "execution_count": 141,
     "metadata": {},
     "output_type": "execute_result"
    }
   ],
   "source": [
    "grammar_np = r\"NP: {<DT>?<JJ>*<NN>}\" \n",
    "chunk_parser = regex_parser(grammar_np)\n",
    "sent2 = \"She is wearing a beautiful dress\"\n",
    "sent_tokens2 = nltk.pos_tag(word_tokenize(sent2))\n",
    "sent_tokens2"
   ]
  },
  {
   "cell_type": "code",
   "execution_count": 143,
   "metadata": {},
   "outputs": [
    {
     "name": "stdout",
     "output_type": "stream",
     "text": [
      "(S She/PRP is/VBZ wearing/VBG (NP a/DT beautiful/JJ dress/NN))\n"
     ]
    }
   ],
   "source": [
    "chunk_result2 = chunk_parser.parse(sent_tokens2) \n",
    "print(chunk_result2)"
   ]
  },
  {
   "cell_type": "code",
   "execution_count": 144,
   "metadata": {},
   "outputs": [
    {
     "data": {
      "text/plain": [
       "[('she', 'PRP'),\n",
       " ('sells', 'VBZ'),\n",
       " ('sea', 'NN'),\n",
       " ('shells', 'NNS'),\n",
       " ('by', 'IN'),\n",
       " ('sea', 'NN'),\n",
       " ('side', 'NN')]"
      ]
     },
     "execution_count": 144,
     "metadata": {},
     "output_type": "execute_result"
    }
   ],
   "source": [
    "grammar_np = r\"NP: {<DT>?<JJ>*<NN>}\" \n",
    "# sent2 = \"The man walked to the bank and asked for water\"\n",
    "sent2 = \"she sells sea shells by sea side\"\n",
    "sent_tokens2 = nltk.pos_tag(word_tokenize(sent2))\n",
    "sent_tokens2"
   ]
  },
  {
   "cell_type": "code",
   "execution_count": 145,
   "metadata": {},
   "outputs": [
    {
     "data": {
      "image/png": "[encoded data removed]",
      "text/plain": [
       "Tree('S', [('she', 'PRP'), ('sells', 'VBZ'), Tree('NP', [('sea', 'NN')]), ('shells', 'NNS'), ('by', 'IN'), Tree('NP', [('sea', 'NN')]), Tree('NP', [('side', 'NN')])])"
      ]
     },
     "execution_count": 145,
     "metadata": {},
     "output_type": "execute_result"
    }
   ],
   "source": [
    "chunk_result2 = chunk_parser.parse(sent_tokens2) \n",
    "chunk_result2"
   ]
  },
  {
   "cell_type": "markdown",
   "metadata": {},
   "source": [
    "## Example 3\n",
    "#### Extracting Verb Phrases from the sentence (chunking)"
   ]
  },
  {
   "cell_type": "code",
   "execution_count": 151,
   "metadata": {},
   "outputs": [
    {
     "data": {
      "text/plain": [
       "'MYVP: {<PRP>?<VB|VBD|VBZ|VBG>*<RB|RBR>}'"
      ]
     },
     "execution_count": 151,
     "metadata": {},
     "output_type": "execute_result"
    }
   ],
   "source": [
    "grammar_vp = r\"MYVP: {<PRP>?<VB|VBD|VBZ|VBG>*<RB|RBR>}\"\n",
    "grammar_vp"
   ]
  },
  {
   "cell_type": "code",
   "execution_count": 152,
   "metadata": {},
   "outputs": [],
   "source": [
    "chunk_parser2 = nltk.RegexpParser(grammar_vp)"
   ]
  },
  {
   "cell_type": "code",
   "execution_count": 148,
   "metadata": {},
   "outputs": [
    {
     "data": {
      "text/plain": [
       "[('She', 'PRP'),\n",
       " ('is', 'VBZ'),\n",
       " ('walking', 'VBG'),\n",
       " ('very', 'RB'),\n",
       " ('quickly', 'RB'),\n",
       " ('to', 'TO'),\n",
       " ('the', 'DT'),\n",
       " ('mall', 'NN')]"
      ]
     },
     "execution_count": 148,
     "metadata": {},
     "output_type": "execute_result"
    }
   ],
   "source": [
    "sent3 = \"She is walking very quickly to the mall\"\n",
    "# sent3 = \"She is not walking to the mall\"\n",
    "# sent3 = \"She is not walking quickly to the mall\"\n",
    "sent_tokens3 = nltk.pos_tag(word_tokenize(sent3))\n",
    "sent_tokens3"
   ]
  },
  {
   "cell_type": "code",
   "execution_count": 153,
   "metadata": {},
   "outputs": [
    {
     "data": {
      "image/png": "[encoded data removed]",
      "text/plain": [
       "Tree('S', [Tree('MYVP', [('She', 'PRP'), ('is', 'VBZ'), ('walking', 'VBG'), ('very', 'RB')]), Tree('MYVP', [('quickly', 'RB')]), ('to', 'TO'), ('the', 'DT'), ('mall', 'NN')])"
      ]
     },
     "execution_count": 153,
     "metadata": {},
     "output_type": "execute_result"
    }
   ],
   "source": [
    "chunk_result2 = chunk_parser2.parse(sent_tokens3) \n",
    "chunk_result2"
   ]
  },
  {
   "cell_type": "code",
   "execution_count": 154,
   "metadata": {},
   "outputs": [
    {
     "data": {
      "text/plain": [
       "[('she', 'PRP'),\n",
       " ('sells', 'VBZ'),\n",
       " ('sea', 'NN'),\n",
       " ('shells', 'NNS'),\n",
       " ('by', 'IN'),\n",
       " ('sea', 'NN'),\n",
       " ('side', 'NN')]"
      ]
     },
     "execution_count": 154,
     "metadata": {},
     "output_type": "execute_result"
    }
   ],
   "source": [
    "sent3 = \"she sells sea shells by sea side\"\n",
    "sent_tokens3 = nltk.pos_tag(word_tokenize(sent3))\n",
    "sent_tokens3"
   ]
  },
  {
   "cell_type": "code",
   "execution_count": 155,
   "metadata": {},
   "outputs": [
    {
     "data": {
      "image/png": "[encoded data removed]",
      "text/plain": [
       "Tree('S', [Tree('VP', [('she', 'PRP'), ('sells', 'VBZ')]), ('sea', 'NN'), ('shells', 'NNS'), ('by', 'IN'), ('sea', 'NN'), ('side', 'NN')])"
      ]
     },
     "execution_count": 155,
     "metadata": {},
     "output_type": "execute_result"
    }
   ],
   "source": [
    "grammar_vp = r\"VP: {<PRP><VB|VBD|VBZ|VBG>*<RB|RBR>?}\"\n",
    "chunk_parser3 = nltk.RegexpParser(grammar_vp)\n",
    "chunk_result3 = chunk_parser3.parse(sent_tokens3) \n",
    "chunk_result3"
   ]
  },
  {
   "cell_type": "markdown",
   "metadata": {},
   "source": [
    "## Example 4"
   ]
  },
  {
   "cell_type": "code",
   "execution_count": 156,
   "metadata": {},
   "outputs": [
    {
     "data": {
      "text/plain": [
       "[('He', 'PRP'),\n",
       " ('drives', 'VBZ'),\n",
       " ('fast', 'RB'),\n",
       " ('on', 'IN'),\n",
       " ('highways', 'NNS')]"
      ]
     },
     "execution_count": 156,
     "metadata": {},
     "output_type": "execute_result"
    }
   ],
   "source": [
    "sent4 = \"He drives fast on highways\"\n",
    "# sent4 = \"He is driving fast on highways\"\n",
    "sent_tokens4 = nltk.pos_tag(word_tokenize(sent4))\n",
    "sent_tokens4"
   ]
  },
  {
   "cell_type": "code",
   "execution_count": 157,
   "metadata": {},
   "outputs": [
    {
     "data": {
      "image/png": "[encoded data removed]",
      "text/plain": [
       "Tree('S', [Tree('MYVP', [('He', 'PRP'), ('drives', 'VBZ'), ('fast', 'RB')]), ('on', 'IN'), ('highways', 'NNS')])"
      ]
     },
     "execution_count": 157,
     "metadata": {},
     "output_type": "execute_result"
    }
   ],
   "source": [
    "grammar_vp = r\"MYVP: {<PRP>?<VB|VBD|VBZ|VBG>*<RB|RBR>}\"\n",
    "chunk_parser2 = nltk.RegexpParser(grammar_vp)\n",
    "chunk_result4 = chunk_parser2.parse(sent_tokens4) \n",
    "chunk_result4"
   ]
  },
  {
   "cell_type": "markdown",
   "metadata": {},
   "source": [
    "## Example 5"
   ]
  },
  {
   "cell_type": "code",
   "execution_count": 158,
   "metadata": {},
   "outputs": [
    {
     "data": {
      "text/plain": [
       "[('The', 'DT'),\n",
       " ('quick', 'JJ'),\n",
       " ('brown', 'NN'),\n",
       " ('fox', 'NN'),\n",
       " ('jumped', 'VBD'),\n",
       " ('over', 'IN'),\n",
       " ('the', 'DT'),\n",
       " ('lazy', 'JJ'),\n",
       " ('dog', 'NN')]"
      ]
     },
     "execution_count": 158,
     "metadata": {},
     "output_type": "execute_result"
    }
   ],
   "source": [
    "sent5 = \"The quick brown fox jumped over the lazy dog\"\n",
    "# sent4 = \"He is driving fast on highways\"\n",
    "sent_tokens5 = nltk.pos_tag(word_tokenize(sent5))\n",
    "sent_tokens5"
   ]
  },
  {
   "cell_type": "code",
   "execution_count": 159,
   "metadata": {},
   "outputs": [],
   "source": [
    "grammar_np = r\"NP: {<DT>?<JJ>*<NN>}\" "
   ]
  },
  {
   "cell_type": "code",
   "execution_count": 160,
   "metadata": {},
   "outputs": [],
   "source": [
    "chunk_parser3 = regex_parser(grammar_np)"
   ]
  },
  {
   "cell_type": "code",
   "execution_count": 161,
   "metadata": {},
   "outputs": [
    {
     "data": {
      "image/png": "[encoded data removed]",
      "text/plain": [
       "Tree('S', [Tree('NP', [('The', 'DT'), ('quick', 'JJ'), ('brown', 'NN')]), Tree('NP', [('fox', 'NN')]), ('jumped', 'VBD'), ('over', 'IN'), Tree('NP', [('the', 'DT'), ('lazy', 'JJ'), ('dog', 'NN')])])"
      ]
     },
     "execution_count": 161,
     "metadata": {},
     "output_type": "execute_result"
    }
   ],
   "source": [
    "chunk_result5 = chunk_parser3.parse(sent_tokens5) \n",
    "chunk_result5"
   ]
  },
  {
   "cell_type": "markdown",
   "metadata": {},
   "source": [
    "## Example 6 - Multiple chunks\n",
    "This format permits us to represent more than one chunk type, so long as the chunks do not overlap"
   ]
  },
  {
   "cell_type": "code",
   "execution_count": 162,
   "metadata": {},
   "outputs": [
    {
     "data": {
      "text/plain": [
       "[('The', 'DT'),\n",
       " ('quick', 'JJ'),\n",
       " ('brown', 'NN'),\n",
       " ('fox', 'NN'),\n",
       " ('jumped', 'VBD'),\n",
       " ('quickly', 'RB'),\n",
       " ('over', 'IN'),\n",
       " ('the', 'DT'),\n",
       " ('lazy', 'JJ'),\n",
       " ('dog', 'NN')]"
      ]
     },
     "execution_count": 162,
     "metadata": {},
     "output_type": "execute_result"
    }
   ],
   "source": [
    "sent6 = \"The quick brown fox jumped quickly over the lazy dog\"\n",
    "sent_tokens6 = nltk.pos_tag(word_tokenize(sent6))\n",
    "sent_tokens6"
   ]
  },
  {
   "cell_type": "code",
   "execution_count": 163,
   "metadata": {},
   "outputs": [],
   "source": [
    "grammar_np = r\"\"\"NP: {<DT>?<JJ>*<NN>}\n",
    "               VP: {<PRP>?<VB|VBD|VBZ|VBG>*<RB|RBR>?}\"\"\""
   ]
  },
  {
   "cell_type": "code",
   "execution_count": 164,
   "metadata": {},
   "outputs": [
    {
     "data": {
      "image/png": "[encoded data removed]",
      "text/plain": [
       "Tree('S', [Tree('NP', [('The', 'DT'), ('quick', 'JJ'), ('brown', 'NN')]), Tree('NP', [('fox', 'NN')]), Tree('VP', [('jumped', 'VBD'), ('quickly', 'RB')]), ('over', 'IN'), Tree('NP', [('the', 'DT'), ('lazy', 'JJ'), ('dog', 'NN')])])"
      ]
     },
     "execution_count": 164,
     "metadata": {},
     "output_type": "execute_result"
    }
   ],
   "source": [
    "chunk_parser4 = regex_parser(grammar_np)\n",
    "chunk_result6 = chunk_parser4.parse(sent_tokens6) \n",
    "chunk_result6"
   ]
  },
  {
   "cell_type": "markdown",
   "metadata": {},
   "source": [
    "# Chinking in Python\n",
    "Excluding a Chink from a Chunk !!!"
   ]
  },
  {
   "cell_type": "markdown",
   "metadata": {},
   "source": [
    "## Example 1"
   ]
  },
  {
   "cell_type": "code",
   "execution_count": 165,
   "metadata": {},
   "outputs": [
    {
     "data": {
      "text/plain": [
       "[('She', 'PRP'),\n",
       " ('is', 'VBZ'),\n",
       " ('walking', 'VBG'),\n",
       " ('very', 'RB'),\n",
       " ('quickly', 'RB'),\n",
       " ('to', 'TO'),\n",
       " ('the', 'DT'),\n",
       " ('mall', 'NN')]"
      ]
     },
     "execution_count": 165,
     "metadata": {},
     "output_type": "execute_result"
    }
   ],
   "source": [
    "sent = \"She is walking very quickly to the mall\"\n",
    "# sent3 = \"She is not walking to the mall\"\n",
    "# sent3 = \"She is not walking quickly to the mall\"\n",
    "sent_tokens = nltk.pos_tag(word_tokenize(sent))\n",
    "sent_tokens"
   ]
  },
  {
   "cell_type": "code",
   "execution_count": 166,
   "metadata": {},
   "outputs": [
    {
     "data": {
      "image/png": "[encoded data removed]",
      "text/plain": [
       "Tree('S', [Tree('VP', [('She', 'PRP'), ('is', 'VBZ'), ('walking', 'VBG'), ('very', 'RB'), ('quickly', 'RB')]), ('to', 'TO'), ('the', 'DT'), ('mall', 'NN')])"
      ]
     },
     "execution_count": 166,
     "metadata": {},
     "output_type": "execute_result"
    }
   ],
   "source": [
    "chunk_grammar = r\"\"\" \n",
    "                    VP : {<PRP>?<VB|VBD|VBZ|VBG>*<RB|RBR>+} #chunk regex sequence\n",
    "                 \"\"\"\n",
    "# above regex will remove adverb from the chunk\n",
    "# }  { -> reverse curly braces for removalchunk_result2 = chunk_parser.parse(sent_tokens2) \n",
    "chunk_parser = regex_parser(chunk_grammar)\n",
    "chunk_result = chunk_parser.parse(sent_tokens) \n",
    "chunk_result"
   ]
  },
  {
   "cell_type": "code",
   "execution_count": 167,
   "metadata": {},
   "outputs": [
    {
     "data": {
      "image/png": "[encoded data removed]",
      "text/plain": [
       "Tree('S', [Tree('VP', [('She', 'PRP'), ('is', 'VBZ'), ('walking', 'VBG')]), ('very', 'RB'), ('quickly', 'RB'), ('to', 'TO'), ('the', 'DT'), ('mall', 'NN')])"
      ]
     },
     "execution_count": 167,
     "metadata": {},
     "output_type": "execute_result"
    }
   ],
   "source": [
    "chink_grammar = r\"\"\" \n",
    "                    VP : {<PRP>?<VB|VBD|VBZ|VBG>*<RB|RBR>+} #chunk regex sequence\n",
    "                         }<RB>+{ #chink regex sequence - adverb\n",
    "                 \"\"\"\n",
    "# above regex will remove adverb from the chunk\n",
    "# }  { -> reverse curly braces for removal\n",
    "\n",
    "chunk_parser = regex_parser(chink_grammar)\n",
    "chunk_result = chunk_parser.parse(sent_tokens) \n",
    "chunk_result"
   ]
  },
  {
   "cell_type": "markdown",
   "metadata": {},
   "source": [
    "## Example 2"
   ]
  },
  {
   "cell_type": "code",
   "execution_count": 168,
   "metadata": {},
   "outputs": [
    {
     "data": {
      "text/plain": [
       "[('She', 'PRP'),\n",
       " ('is', 'VBZ'),\n",
       " ('walking', 'VBG'),\n",
       " ('very', 'RB'),\n",
       " ('quickly', 'RB'),\n",
       " ('to', 'TO'),\n",
       " ('the', 'DT'),\n",
       " ('mall', 'NN')]"
      ]
     },
     "execution_count": 168,
     "metadata": {},
     "output_type": "execute_result"
    }
   ],
   "source": [
    "sent = \"She is walking very quickly to the mall\"\n",
    "# sent3 = \"She is not walking to the mall\"\n",
    "# sent3 = \"She is not walking quickly to the mall\"\n",
    "sent_tokens = nltk.pos_tag(word_tokenize(sent))\n",
    "sent_tokens"
   ]
  },
  {
   "cell_type": "code",
   "execution_count": 169,
   "metadata": {},
   "outputs": [
    {
     "data": {
      "image/png": "[encoded data removed]",
      "text/plain": [
       "Tree('S', [Tree('VP', [('She', 'PRP'), ('is', 'VBZ'), ('walking', 'VBG'), ('very', 'RB'), ('quickly', 'RB')]), ('to', 'TO'), ('the', 'DT'), ('mall', 'NN')])"
      ]
     },
     "execution_count": 169,
     "metadata": {},
     "output_type": "execute_result"
    }
   ],
   "source": [
    "chunk_grammer = r\"\"\" \n",
    "                    VP : {<PRP>?<VB|VBD|VBZ|VBG>*<RB|RBR>+} #chunk regex sequence\n",
    "                 \"\"\"\n",
    "\n",
    "# above regex will remove verb from the chunk\n",
    "# }  { -> reverse curly braces for removal\n",
    "chink_parser = nltk.RegexpParser(chunk_grammer)\n",
    "chink_parser.parse(sent_tokens)"
   ]
  },
  {
   "cell_type": "code",
   "execution_count": 171,
   "metadata": {},
   "outputs": [
    {
     "data": {
      "image/png": "[encoded data removed]",
      "text/plain": [
       "Tree('S', [Tree('VP', [('She', 'PRP'), ('is', 'VBZ')]), ('walking', 'VBG'), Tree('VP', [('very', 'RB'), ('quickly', 'RB')]), ('to', 'TO'), ('the', 'DT'), ('mall', 'NN')])"
      ]
     },
     "execution_count": 171,
     "metadata": {},
     "output_type": "execute_result"
    }
   ],
   "source": [
    "chink_grammar = r\"\"\" \n",
    "                    VP : {<PRP>?<VB|VBD|VBZ|VBG>*<RB|RBR>+} #chunk regex sequence\n",
    "                         }<VBG>+{ #chink regex sequence - adverb\n",
    "                 \"\"\"\n",
    "\n",
    "# above regex will remove verb from the chunk\n",
    "# }  { -> reverse curly braces for removal\n",
    "chink_parser = nltk.RegexpParser(chink_grammar)\n",
    "chink_parser.parse(sent_tokens)"
   ]
  },
  {
   "cell_type": "markdown",
   "metadata": {},
   "source": [
    "# Context Free Grammar\n",
    "\n",
    "A context-free grammar (CFG) is a set of recursive rewriting rules (or productions) used to generate patterns of strings. Any natural language follows context free grammar. The normal grammar that we have been learning in schools is “Context free grammar” or Type-2 grammar\n",
    "\n",
    "A CFG consists of the following components:\n",
    "* a set of terminal symbols (words in natural language)\n",
    "* a set of nonterminal symbols (NP, VP, NN, VB etc)\n",
    "* a set of productions (NP ->  DT JJ NN)  - rules for making phrases\n",
    "* a start symbol (S)\n",
    "\n",
    "The left side of all productions will always be a non-terminal symbol\n"
   ]
  },
  {
   "cell_type": "code",
   "execution_count": 172,
   "metadata": {},
   "outputs": [],
   "source": [
    "# from nltk.parse.generate import generate, demo_grammar\n",
    "from nltk.parse.generate import generate\n",
    "from nltk import CFG"
   ]
  },
  {
   "cell_type": "code",
   "execution_count": 176,
   "metadata": {},
   "outputs": [],
   "source": [
    "my_cfg = \"\"\"\n",
    "S -> NP VP \n",
    "VP -> V N \n",
    "V -> \"saw\"|\"met\" \n",
    "N -> \"dog\"|\"cat\"\n",
    "NP -> \"John\"|\"Jim\"\n",
    "\"\"\"\n",
    "\n",
    "CFG_grammar = nltk.CFG.fromstring(my_cfg)"
   ]
  },
  {
   "cell_type": "code",
   "execution_count": 177,
   "metadata": {},
   "outputs": [
    {
     "name": "stdout",
     "output_type": "stream",
     "text": [
      "['John', 'saw', 'dog']\n",
      "['John', 'saw', 'cat']\n",
      "['John', 'met', 'dog']\n",
      "['John', 'met', 'cat']\n",
      "['Jim', 'saw', 'dog']\n",
      "['Jim', 'saw', 'cat']\n",
      "['Jim', 'met', 'dog']\n",
      "['Jim', 'met', 'cat']\n"
     ]
    }
   ],
   "source": [
    "myLegalSentences = generate(CFG_grammar)\n",
    "\n",
    "for sentence in myLegalSentences:\n",
    "    print(sentence)"
   ]
  },
  {
   "cell_type": "code",
   "execution_count": 178,
   "metadata": {},
   "outputs": [
    {
     "name": "stdout",
     "output_type": "stream",
     "text": [
      "['John', 'saw', 'dog']\n",
      "['John', 'saw', 'cat']\n",
      "['John', 'met', 'dog']\n",
      "['John', 'met', 'cat']\n",
      "['Jim', 'saw', 'dog']\n",
      "['Jim', 'saw', 'cat']\n",
      "['Jim', 'met', 'dog']\n",
      "['Jim', 'met', 'cat']\n",
      "['Ram', 'saw', 'dog']\n",
      "['Ram', 'saw', 'cat']\n",
      "['Ram', 'met', 'dog']\n",
      "['Ram', 'met', 'cat']\n"
     ]
    }
   ],
   "source": [
    "my_cfg = \"\"\"\n",
    "S -> NP VP \n",
    "VP -> V N \n",
    "V -> \"saw\"|\"met\" \n",
    "N -> \"dog\"|\"cat\"\n",
    "NP -> \"John\"|\"Jim\"|\"Ram\" \n",
    "\"\"\"\n",
    "\n",
    "CFG_grammar = nltk.CFG.fromstring(my_cfg)\n",
    "myLegalSentences = generate(CFG_grammar)\n",
    "\n",
    "for sentence in myLegalSentences:\n",
    "    print(sentence)"
   ]
  },
  {
   "cell_type": "code",
   "execution_count": 179,
   "metadata": {},
   "outputs": [
    {
     "name": "stdout",
     "output_type": "stream",
     "text": [
      "['dog', 'John', 'saw', 'dog']\n",
      "['dog', 'John', 'saw', 'cat']\n",
      "['dog', 'John', 'met', 'dog']\n",
      "['dog', 'John', 'met', 'cat']\n",
      "['dog', 'Jim', 'saw', 'dog']\n",
      "['dog', 'Jim', 'saw', 'cat']\n",
      "['dog', 'Jim', 'met', 'dog']\n",
      "['dog', 'Jim', 'met', 'cat']\n",
      "['dog', 'Ram', 'saw', 'dog']\n",
      "['dog', 'Ram', 'saw', 'cat']\n",
      "['dog', 'Ram', 'met', 'dog']\n",
      "['dog', 'Ram', 'met', 'cat']\n",
      "['cat', 'John', 'saw', 'dog']\n",
      "['cat', 'John', 'saw', 'cat']\n",
      "['cat', 'John', 'met', 'dog']\n",
      "['cat', 'John', 'met', 'cat']\n",
      "['cat', 'Jim', 'saw', 'dog']\n",
      "['cat', 'Jim', 'saw', 'cat']\n",
      "['cat', 'Jim', 'met', 'dog']\n",
      "['cat', 'Jim', 'met', 'cat']\n",
      "['cat', 'Ram', 'saw', 'dog']\n",
      "['cat', 'Ram', 'saw', 'cat']\n",
      "['cat', 'Ram', 'met', 'dog']\n",
      "['cat', 'Ram', 'met', 'cat']\n"
     ]
    }
   ],
   "source": [
    "my_cfg = \"\"\"\n",
    "S -> NP VP \n",
    "VP -> V N \n",
    "V -> \"saw\"|\"met\" \n",
    "N -> \"dog\"|\"cat\"\n",
    "NP -> N PN\n",
    "PN -> \"John\"|\"Jim\" | \"Ram\"\n",
    "\"\"\"\n",
    "\n",
    "CFG_grammar = nltk.CFG.fromstring(my_cfg)\n",
    "myLegalSentences = generate(CFG_grammar)\n",
    "\n",
    "for sentence in myLegalSentences:\n",
    "    print(sentence)"
   ]
  },
  {
   "cell_type": "code",
   "execution_count": 180,
   "metadata": {},
   "outputs": [
    {
     "name": "stdout",
     "output_type": "stream",
     "text": [
      "dog John saw dog\n",
      "dog John saw cat\n",
      "dog John met dog\n",
      "dog John met cat\n",
      "dog Jim saw dog\n",
      "dog Jim saw cat\n",
      "dog Jim met dog\n",
      "dog Jim met cat\n",
      "dog Ram saw dog\n",
      "dog Ram saw cat\n",
      "dog Ram met dog\n",
      "dog Ram met cat\n",
      "cat John saw dog\n",
      "cat John saw cat\n",
      "cat John met dog\n",
      "cat John met cat\n",
      "cat Jim saw dog\n",
      "cat Jim saw cat\n",
      "cat Jim met dog\n",
      "cat Jim met cat\n",
      "cat Ram saw dog\n",
      "cat Ram saw cat\n",
      "cat Ram met dog\n",
      "cat Ram met cat\n"
     ]
    }
   ],
   "source": [
    "CFG_grammar = nltk.CFG.fromstring(my_cfg)\n",
    "myLegalSentences = generate(CFG_grammar)\n",
    "for sentence in generate(CFG_grammar):\n",
    "    print(\" \".join(sentence))"
   ]
  },
  {
   "cell_type": "code",
   "execution_count": 118,
   "metadata": {},
   "outputs": [
    {
     "name": "stdout",
     "output_type": "stream",
     "text": [
      "I saw a movie\n"
     ]
    }
   ],
   "source": [
    "mysentence = [\"I\",\"saw\",\"a\", \"movie\"]\n",
    "print(\" \".join(mysentence))"
   ]
  },
  {
   "cell_type": "code",
   "execution_count": 181,
   "metadata": {},
   "outputs": [
    {
     "data": {
      "text/plain": [
       "[S -> NP VP,\n",
       " VP -> V N,\n",
       " V -> 'saw',\n",
       " V -> 'met',\n",
       " N -> 'dog',\n",
       " N -> 'cat',\n",
       " NP -> N PN,\n",
       " PN -> 'John',\n",
       " PN -> 'Jim',\n",
       " PN -> 'Ram']"
      ]
     },
     "execution_count": 181,
     "metadata": {},
     "output_type": "execute_result"
    }
   ],
   "source": [
    "CFG_grammar.productions()  # gives all the productions (rules)"
   ]
  },
  {
   "cell_type": "markdown",
   "metadata": {},
   "source": [
    "## Automating Text Paraphrasing In Python\n"
   ]
  },
  {
   "cell_type": "code",
   "execution_count": 182,
   "metadata": {},
   "outputs": [],
   "source": [
    "# [('John', 'NNP'),\n",
    "#  ('is', 'VBZ'),\n",
    "#  ('walking', 'VBG'),\n",
    "#  ('very', 'RB'),\n",
    "#  ('quickly', 'RB'),\n",
    "#  ('to', 'TO'),\n",
    "#  ('the', 'DT'),\n",
    "#  ('mall', 'NN')]\n",
    "\n",
    "def cfg_parse(sentence):\n",
    "    sent_tk = nltk.pos_tag(word_tokenize(sentence)) # sent_tk will be a list of tuples returned by nltk.pos_tag\n",
    "    for postag in sent_tk:\n",
    "        if postag[1] == 'NNP':\n",
    "            s_NP = \"\\'\" + postag[0] + \"\\'\"  # will create a string like 'John'  -- proper noun in single quotes\n",
    "        if postag[1] == 'VBD' or postag[1]=='VBN':\n",
    "            s_V = \"\\'\" + postag[0] + \"\\'\"   # will create a string like 'saw'   -- verb in single quotes\n",
    "        if postag[1] == 'NN':\n",
    "            s_N = \"\\'\" + postag[0] + \"\\'\"   # will create a string like 'dog'   -- noun in single quotes\n",
    "        if postag[1] == 'DT':\n",
    "            s_DT = \"\\'\" + postag[0] + \"\\'\"   # will create a string like 'a'   -- noun in single quotes\n",
    "        else: pass\n",
    "    cfg_grammar2 = nltk.CFG.fromstring(\"\"\"\n",
    "    S -> NP VP\n",
    "    VP -> V DT N\n",
    "    NP -> {}\n",
    "    V -> {}\n",
    "    N -> {}\n",
    "    DT -> {}\n",
    "    \"\"\".format(s_NP,s_V,s_N,s_DT))\n",
    "    for sentence in generate(cfg_grammar2): \n",
    "        print(\" \".join(sentence)) \n",
    "    return "
   ]
  },
  {
   "cell_type": "code",
   "execution_count": 183,
   "metadata": {},
   "outputs": [
    {
     "name": "stdout",
     "output_type": "stream",
     "text": [
      "John saw a boat\n"
     ]
    }
   ],
   "source": [
    "#example 1\n",
    "cfg_parse(\"John saw a long white boat\")\n",
    "# using CFG we can generate the \"cream\" of the sentence"
   ]
  },
  {
   "cell_type": "code",
   "execution_count": 184,
   "metadata": {},
   "outputs": [
    {
     "name": "stdout",
     "output_type": "stream",
     "text": [
      "John saw a cat\n"
     ]
    }
   ],
   "source": [
    "#example 2\n",
    "cfg_parse(\"John saw a cat\")"
   ]
  },
  {
   "cell_type": "code",
   "execution_count": 185,
   "metadata": {},
   "outputs": [
    {
     "name": "stdout",
     "output_type": "stream",
     "text": [
      "John seen A cat\n"
     ]
    }
   ],
   "source": [
    "#example 3\n",
    "cfg_parse(\"A cat was seen by John\")"
   ]
  },
  {
   "cell_type": "code",
   "execution_count": 187,
   "metadata": {},
   "outputs": [
    {
     "name": "stdout",
     "output_type": "stream",
     "text": [
      "Cat seen A john\n"
     ]
    }
   ],
   "source": [
    "#example 4\n",
    "cfg_parse(\"A Cat was seen by john\")"
   ]
  },
  {
   "cell_type": "markdown",
   "metadata": {},
   "source": [
    "This is wrong!"
   ]
  },
  {
   "cell_type": "code",
   "execution_count": 126,
   "metadata": {},
   "outputs": [
    {
     "data": {
      "text/plain": [
       "[('A', 'DT'),\n",
       " ('Cat', 'NNP'),\n",
       " ('was', 'VBD'),\n",
       " ('seen', 'VBN'),\n",
       " ('by', 'IN'),\n",
       " ('john', 'NN')]"
      ]
     },
     "execution_count": 126,
     "metadata": {},
     "output_type": "execute_result"
    }
   ],
   "source": [
    "nltk.pos_tag(word_tokenize(\"A Cat was seen by john\"))"
   ]
  },
  {
   "cell_type": "code",
   "execution_count": 188,
   "metadata": {},
   "outputs": [
    {
     "name": "stdout",
     "output_type": "stream",
     "text": [
      "The value of x =100 , and y = 50 , and their sum = 150\n"
     ]
    }
   ],
   "source": [
    "x = 100\n",
    "y = 50\n",
    "z = x+y\n",
    "print(\"The value of x ={} , and y = {} , and their sum = {}\".format(x,y,z))"
   ]
  },
  {
   "cell_type": "code",
   "execution_count": 189,
   "metadata": {},
   "outputs": [
    {
     "data": {
      "text/plain": [
       "Text(0.5, 1.0, 'The Title of plot : 150 ')"
      ]
     },
     "execution_count": 189,
     "metadata": {},
     "output_type": "execute_result"
    },
    {
     "data": {
      "image/png": "[encoded data removed]",
      "text/plain": [
       "<Figure size 432x288 with 1 Axes>"
      ]
     },
     "metadata": {
      "needs_background": "light"
     },
     "output_type": "display_data"
    }
   ],
   "source": [
    "import numpy as np\n",
    "import matplotlib.pyplot as plt\n",
    "x = np.arange(10)\n",
    "y = np.arange(10,20)\n",
    "plt.plot(x,y)\n",
    "plt.title(\"The Title of plot : {} \".format(z))"
   ]
  },
  {
   "cell_type": "code",
   "execution_count": 197,
   "metadata": {},
   "outputs": [
    {
     "name": "stdout",
     "output_type": "stream",
     "text": [
      "The value of x =100 , and x = 50 , and their sum = 150\n"
     ]
    }
   ],
   "source": [
    "x = 100\n",
    "y = 50\n",
    "z = x+y\n",
    "print(\"The value of x ={} , and x = {} , and their sum = {}\".format(x,y,z))"
   ]
  },
  {
   "cell_type": "code",
   "execution_count": null,
   "metadata": {},
   "outputs": [],
   "source": []
  },
  {
   "cell_type": "code",
   "execution_count": null,
   "metadata": {},
   "outputs": [],
   "source": []
  },
  {
   "cell_type": "markdown",
   "metadata": {},
   "source": [
    "Because cat with upper case ‘C’ is a proper noun and John with a lower case ‘j’ is a common noun and with respect to our CFG rule proper noun should come first. Therefore, when working with CFG’s and complicated sentences other complex parsers are used"
   ]
  }
 ],
 "metadata": {
  "kernelspec": {
   "display_name": "Python 3",
   "language": "python",
   "name": "python3"
  },
  "language_info": {
   "codemirror_mode": {
    "name": "ipython",
    "version": 3
   },
   "file_extension": ".py",
   "mimetype": "text/x-python",
   "name": "python",
   "nbconvert_exporter": "python",
   "pygments_lexer": "ipython3",
   "version": "3.8.3"
  }
 },
 "nbformat": 4,
 "nbformat_minor": 2
}
