{
  "nbformat": 4,
  "nbformat_minor": 0,
  "metadata": {
    "kernelspec": {
      "display_name": "Python 3",
      "language": "python",
      "name": "python3"
    },
    "language_info": {
      "codemirror_mode": {
        "name": "ipython",
        "version": 3
      },
      "file_extension": ".py",
      "mimetype": "text/x-python",
      "name": "python",
      "nbconvert_exporter": "python",
      "pygments_lexer": "ipython3",
      "version": "3.7.6"
    },
    "colab": {
      "name": "VBot.ipynb",
      "provenance": []
    }
  },
  "cells": [
    {
      "cell_type": "code",
      "metadata": {
        "id": "daeCxvTPiUzH"
      },
      "source": [
        "#importing natural language toolkit python libray\n",
        "\n",
        "from nltk.chat.util import Chat, reflections"
      ],
      "execution_count": 1,
      "outputs": []
    },
    {
      "cell_type": "code",
      "metadata": {
        "id": "lR8U2dU4iUzS"
      },
      "source": [
        "# A dictionary contaning input and output values.\n",
        "\n",
        "reflections = {\n",
        "  \"i am\"       : \"you are\",\n",
        "  \"i was\"      : \"you were\",\n",
        "  \"i\"          : \"you\",\n",
        "  \"i'm\"        : \"you are\",\n",
        "  \"i'd\"        : \"you would\",\n",
        "  \"i've\"       : \"you have\",\n",
        "  \"i'll\"       : \"you will\",\n",
        "  \"your\"       : \"my\",\n",
        "  \"yours\"      : \"mine\",\n",
        "  \"you\"        : \"me\",\n",
        "  \"me\"         : \"you\",\n",
        "  \"my\"         : \"your\",\n",
        "  \"you are\"    : \"I am\",\n",
        "  \"you were\"   : \"I was\",\n",
        "  \"you've\"     : \"I have\",\n",
        "  \"you'll\"     : \"I will\",\n",
        "\n",
        "}"
      ],
      "execution_count": 2,
      "outputs": []
    },
    {
      "cell_type": "code",
      "metadata": {
        "colab": {
          "base_uri": "https://localhost:8080/"
        },
        "id": "1GTiRIxmiUzV",
        "outputId": "ca652e06-1a2f-4438-853e-b40276ccb5eb"
      },
      "source": [
        "#you can print the values by key.\n",
        "\n",
        "print(reflections[\"i am\"])\n",
        "print(reflections[\"i'd\"])"
      ],
      "execution_count": 3,
      "outputs": [
        {
          "output_type": "stream",
          "text": [
            "you are\n",
            "you would\n"
          ],
          "name": "stdout"
        }
      ]
    },
    {
      "cell_type": "code",
      "metadata": {
        "id": "kiIkM6SZiUzX"
      },
      "source": [
        "# chat_Pairs is a list contaning sublists.\n",
        "# Each sublist has a input and output response\n",
        "#Here is just 5 pairs. You can add as many as you can.\n",
        "\n",
        "chat_pairs = [\n",
        "    \n",
        "     [\n",
        "        r\"hi|hey|hello\",\n",
        "        [\"Hello\", \"Hey there\",]\n",
        "    ],\n",
        "    \n",
        "     [\n",
        "        r\"what is your name ?\",\n",
        "        [\"My name is VBot and I'm a chatbot ?\",]\n",
        "    ],\n",
        "    \n",
        "    [\n",
        "        r\"how are you ?\",\n",
        "        [\"I'm doing good\\nThanks for asking. ?\",]\n",
        "    ],\n",
        "   \n",
        "    [\n",
        "        r\"What is your age?\",\n",
        "        [\"I'm a computer program dude\\nSeriously you are asking me this?\",]\n",
        "        \n",
        "    ],\n",
        "    \n",
        "    [\n",
        "        r\"quit\",\n",
        "        [\"BBye take care. See you soon :) \",\"It was nice talking to you. See you soon :)\"]\n",
        "],\n",
        "]\n"
      ],
      "execution_count": 4,
      "outputs": []
    },
    {
      "cell_type": "code",
      "metadata": {
        "colab": {
          "base_uri": "https://localhost:8080/"
        },
        "id": "TPugqjraiUzZ",
        "outputId": "a7d8d59e-1d36-4ee5-d000-e6335be31a46"
      },
      "source": [
        "#you can print by index number\n",
        "\n",
        "print(chat_pairs[0])\n",
        "print(chat_pairs[1])"
      ],
      "execution_count": 5,
      "outputs": [
        {
          "output_type": "stream",
          "text": [
            "['hi|hey|hello', ['Hello', 'Hey there']]\n",
            "['what is your name ?', [\"My name is VBot and I'm a chatbot ?\"]]\n"
          ],
          "name": "stdout"
        }
      ]
    },
    {
      "cell_type": "code",
      "metadata": {
        "colab": {
          "base_uri": "https://localhost:8080/"
        },
        "id": "peGAp_HOiUza",
        "outputId": "6b04623c-ca9d-4ba1-b862-f635414293ce"
      },
      "source": [
        "#define a function vbot\n",
        "\n",
        "def vbot():\n",
        "    \n",
        "        #default message at the start\n",
        "    print('''Hi, I'm VBot and I chat alot ;)\n",
        "Please type lowercase English language to start a conversation. \n",
        "Type quit to leave ''')\n",
        "    \n",
        "    chat = Chat(chat_pairs, reflections)\n",
        "    chat.converse()\n",
        "\n",
        "vbot()"
      ],
      "execution_count": 6,
      "outputs": [
        {
          "output_type": "stream",
          "text": [
            "Hi, I'm VBot and I chat alot ;)\n",
            "Please type lowercase English language to start a conversation. \n",
            "Type quit to leave \n",
            ">hi\n",
            "Hello\n",
            ">hey there\n",
            "Hey there\n",
            ">whats your age\n",
            "None\n",
            ">quit\n",
            "It was nice talking to you. See you soon :)\n"
          ],
          "name": "stdout"
        }
      ]
    },
    {
      "cell_type": "markdown",
      "metadata": {
        "id": "cl9-CwnpiUzc"
      },
      "source": [
        "# Creating Inteligent Chatbot using Regualr Expressioins"
      ]
    },
    {
      "cell_type": "code",
      "metadata": {
        "id": "TfqekWWkiUzd"
      },
      "source": [
        "chat_pairs = [\n",
        "    \n",
        "     [\n",
        "        r\"hi|hey|hello\",\n",
        "        [\"Hello\", \"Hey there\",]\n",
        "    ],\n",
        "    \n",
        "     [\n",
        "        r\"what is your name ?\",\n",
        "        [\"My name is VBot and I'm a chatbot ?\",]\n",
        "    ],\n",
        "    \n",
        "    [\n",
        "        r\"how are you ?\",\n",
        "        [\"I'm doing good\\What is your name. ?\",]\n",
        "    ],\n",
        "    \n",
        "     [\n",
        "        r\"my name is (.*)(.*)\",\n",
        "        [\"Hello %1, How are you today ?\",]\n",
        "    ],\n",
        "    \n",
        "   [\n",
        "        r\"sorry (.*)\",\n",
        "        [\"Its alright\",\"Its OK, never mind\",]\n",
        "    ],\n",
        "    [\n",
        "        r\"(.*) (good|great|fine)\",\n",
        "        [\"Nice to hear!\",]\n",
        "    ],\n",
        "    \n",
        "    [\n",
        "        r\"i'm (.*) doing good\",\n",
        "        [\"Nice to hear that\",\"Alright :)\",]\n",
        "    ],\n",
        "    \n",
        "    [\n",
        "        r\"What is your age?\",\n",
        "        [\"I'm a computer program dude\\nSeriously you are asking me this?\",]\n",
        "        \n",
        "    ],\n",
        "    \n",
        "     [\n",
        "        r\"what (.*) want ?\",\n",
        "        [\"Make me an offer I can't refuse\",]\n",
        "        \n",
        "    ],\n",
        "    \n",
        "    [\n",
        "        r\"(.*) created ?\",\n",
        "        [\"Haseeb created me using Python's NLTK library \",\"top secret ;)\",]\n",
        "    ],\n",
        "    \n",
        "    [\n",
        "        r\"(.*) (location|city) ?\",\n",
        "        ['Islamabad, Pakistan',]\n",
        "    ],\n",
        "    [\n",
        "        r\"how is weather in (.*)?\",\n",
        "        [\"Weather in %1 is awesome like always\",\"Too hot man here in %1\",\"Too cold man here in %1\",\"Never even heard about %1\"]\n",
        "    ],\n",
        "    [\n",
        "        r\"i work in (.*)?\",\n",
        "        [\"%1 is an Amazing company, I have heard about it.\",]\n",
        "    ],\n",
        "    [\n",
        "        r\"(.*)raining in (.*)\",\n",
        "        [\"No rain since last week here in %2\",\"Damn its raining too much here in %2\"]\n",
        "    ],\n",
        "    [\n",
        "        r\"how (.*) health(.*)\",\n",
        "        [\"I'm a computer program, so I'm always healthy \",]\n",
        "    ],\n",
        "    [\n",
        "        r\"(.*) (cooking|cook|kitchen)\",\n",
        "        [\"IYes! I love cooking. My favorite food is noodles.\",]\n",
        "    ],\n",
        "    [\n",
        "        r\"(.*) fact\",\n",
        "        [\"Be yourself; everyone else is already taken.\", \n",
        "        \"You've gotta dance like there's nobody watching\",\n",
        "        \"Be the change that you wish to see in the world\", \n",
        "        \"No one can make you feel inferior without your consent\",\n",
        "        \"Live as if you were to die tomorrow\",\n",
        "        \"Darkness cannot drive out darkness: only light can do that\",]\n",
        "    ],\n",
        "    [\n",
        "        r\"(.*) (language) (.*) ?\",\n",
        "        [\"I am written in python but I speak English.\",]\n",
        "    ],\n",
        "     [\n",
        "        r\"(.*) (friend|best friend) ?\",\n",
        "        [\"Haseeb is my best friend. I love to be a part of Vision Programmer\",]\n",
        "    ],\n",
        "    [\n",
        "        r\"(.*) (love|like) (.*)?\",\n",
        "        [\"I love to chat and meet new peoples.\",]\n",
        "    ],\n",
        "    [\n",
        "        r\"(.*) (created) ?\",\n",
        "        [\"Haseeb created me so that I can talk with beautiful peoples like you\",]\n",
        "    ],\n",
        "    [\n",
        "        r\"(.*) (visionprogrammer|vision programmer) ?\",\n",
        "        [\"Well Vision Programmer is a blogging site. It contains blog on Programming, Freelancing, Android and many other.\",]\n",
        "    ],\n",
        "     [\n",
        "        r\"(.*) (fruit|eat|food) ?\",\n",
        "        [\"HaHa nice question. I am a robot I don't eat.\",]\n",
        "    ],\n",
        "    [\n",
        "        r\"quit\",\n",
        "        [\"Bye take care. See you soon :) \",\"It was nice talking to you. See you soon :)\"]\n",
        "],\n",
        "]\n"
      ],
      "execution_count": 7,
      "outputs": []
    },
    {
      "cell_type": "code",
      "metadata": {
        "id": "MFwKxjt3iUzg",
        "outputId": "e6a95978-a1c2-4431-ebf3-f836a3e1ddfe"
      },
      "source": [
        "#define a function vbot\n",
        "\n",
        "def vbot():\n",
        "    \n",
        "        #default message at the start\n",
        "    print('''Hi, I'm VBot and I chat alot ;)\n",
        "Please type lowercase English language to start a conversation. \n",
        "Type quit to leave ''')\n",
        "    \n",
        "    chat = Chat(chat_pairs, reflections)\n",
        "    chat.converse()\n",
        "\n",
        "vbot()"
      ],
      "execution_count": null,
      "outputs": [
        {
          "output_type": "stream",
          "text": [
            "Hi, I'm VBot and I chat alot ;)\n",
            "Please type lowercase English language to start a conversation. \n",
            "Type quit to leave \n",
            ">hi\n",
            "Hey there\n",
            ">quit\n",
            "It was nice talking to you. See you soon :)\n"
          ],
          "name": "stdout"
        }
      ]
    },
    {
      "cell_type": "markdown",
      "metadata": {
        "id": "Q3pAY9yCiUzi"
      },
      "source": [
        "# Final VBot Code"
      ]
    },
    {
      "cell_type": "code",
      "metadata": {
        "id": "4NaPmjbZiUzj",
        "outputId": "4444b20f-5f81-42ee-80b2-56f10770488c"
      },
      "source": [
        "#importing natural language toolkit python libray\n",
        "\n",
        "from nltk.chat.util import Chat, reflections\n",
        "\n",
        "# A dictionary contaning input and output values.\n",
        "\n",
        "reflections = {\n",
        "  \"i am\"       : \"you are\",\n",
        "  \"i was\"      : \"you were\",\n",
        "  \"i\"          : \"you\",\n",
        "  \"i'm\"        : \"you are\",\n",
        "  \"i'd\"        : \"you would\",\n",
        "  \"i've\"       : \"you have\",\n",
        "  \"i'll\"       : \"you will\",\n",
        "  \"my\"         : \"your\",\n",
        "  \"you are\"    : \"I am\",\n",
        "  \"you were\"   : \"I was\",\n",
        "  \"you've\"     : \"I have\",\n",
        "  \"you'll\"     : \"I will\",\n",
        "  \"your\"       : \"my\",\n",
        "  \"yours\"      : \"mine\",\n",
        "  \"you\"        : \"me\",\n",
        "  \"me\"         : \"you\"\n",
        "}\n",
        "\n",
        "chat_pairs = [\n",
        "    \n",
        "     [\n",
        "        r\"hi|hey|hello\",\n",
        "        [\"Hello\", \"Hey there\",]\n",
        "    ],\n",
        "    \n",
        "     [\n",
        "        r\"what is your name ?\",\n",
        "        [\"My name is VBot and I'm a chatbot ?\",]\n",
        "    ],\n",
        "    \n",
        "    [\n",
        "        r\"how are you ?\",\n",
        "        [\"I'm doing good\\What is your name. ?\",]\n",
        "    ],\n",
        "    \n",
        "     [\n",
        "        r\"my name is (.*)(.*)\",\n",
        "        [\"Hello %1, How are you today ?\",]\n",
        "    ],\n",
        "    \n",
        "   [\n",
        "        r\"sorry (.*)\",\n",
        "        [\"Its alright\",\"Its OK, never mind\",]\n",
        "    ],\n",
        "    [\n",
        "        r\"(.*) (good|great|fine)\",\n",
        "        [\"Nice to hear!\",]\n",
        "    ],\n",
        "    \n",
        "    [\n",
        "        r\"i'm (.*) doing good\",\n",
        "        [\"Nice to hear that\",\"Alright :)\",]\n",
        "    ],\n",
        "    \n",
        "    [\n",
        "        r\"What is your age?\",\n",
        "        [\"I'm a computer program dude\\nSeriously you are asking me this?\",]\n",
        "        \n",
        "    ],\n",
        "    \n",
        "     [\n",
        "        r\"what (.*) want ?\",\n",
        "        [\"Make me an offer I can't refuse\",]\n",
        "        \n",
        "    ],\n",
        "    \n",
        "    [\n",
        "        r\"(.*) created ?\",\n",
        "        [\"krishna created me using Python's NLTK library \",\"top secret ;)\",]\n",
        "    ],\n",
        "    \n",
        "    [\n",
        "        r\"(.*) (location|city) ?\",\n",
        "        ['Hyderabad, India',]\n",
        "    ],\n",
        "    [\n",
        "        r\"how is weather in (.*)?\",\n",
        "        [\"Weather in %1 is awesome like always\",\"Too hot man here in %1\",\"Too cold man here in %1\",\"Never even heard about %1\"]\n",
        "    ],\n",
        "    [\n",
        "        r\"i work in (.*)?\",\n",
        "        [\"%1 is an Amazing company, I have heard about it.\",]\n",
        "    ],\n",
        "    [\n",
        "        r\"(.*)raining in (.*)\",\n",
        "        [\"No rain since last week here in %2\",\"Damn its raining too much here in %2\"]\n",
        "    ],\n",
        "    [\n",
        "        r\"how (.*) health(.*)\",\n",
        "        [\"I'm a computer program, so I'm always healthy \",]\n",
        "    ],\n",
        "    [\n",
        "        r\"(.*) (cooking|cook|kitchen)\",\n",
        "        [\"IYes! I love cooking. My favorite food is noodles.\",]\n",
        "    ],\n",
        "    [\n",
        "        r\"(.*) fact\",\n",
        "        [\"Be yourself; everyone else is already taken.\", \n",
        "        \"You've gotta dance like there's nobody watching\",\n",
        "        \"Be the change that you wish to see in the world\", \n",
        "        \"No one can make you feel inferior without your consent\",\n",
        "        \"Live as if you were to die tomorrow\",\n",
        "        \"Darkness cannot drive out darkness: only light can do that\",]\n",
        "    ],\n",
        "    [\n",
        "        r\"(.*) (language) (.*) ?\",\n",
        "        [\"I am written in python but I speak English.\",]\n",
        "    ],\n",
        "     [\n",
        "        r\"(.*) (friend|best friend) ?\",\n",
        "        [\"krishna is my best friend. I love to be a part of Vision Programmer\",]\n",
        "    ],\n",
        "    [\n",
        "        r\"(.*) (love|like) (.*)?\",\n",
        "        [\"I love to chat and meet new peoples.\",]\n",
        "    ],\n",
        "    [\n",
        "        r\"(.*) (created) ?\",\n",
        "        [\"krishna created me so that I can talk with beautiful peoples like you\",]\n",
        "    ],\n",
        "    [\n",
        "        r\"(.*) (visionprogrammer|vision programmer) ?\",\n",
        "        [\"Well Vision Programmer is a blogging site. It contains blog on Programming, Freelancing, Android and many other.\",]\n",
        "    ],\n",
        "     [\n",
        "        r\"(.*) (fruit|eat|food) ?\",\n",
        "        [\"HaHa nice question. I am a robot I don't eat.\",]\n",
        "    ],\n",
        "    [\n",
        "        r\"quit\",\n",
        "        [\"Bye take care. See you soon :) \",\"It was nice talking to you. See you soon :)\"]\n",
        "],\n",
        "]\n",
        "\n",
        "#define a function vbot\n",
        "\n",
        "def vbot():\n",
        "    \n",
        "        #default message at the start\n",
        "    print('''Hi, I'm VBot and I chat alot ;)\n",
        "Please type lowercase English language to start a conversation. \n",
        "Type quit to leave ''')\n",
        "    \n",
        "    chat = Chat(chat_pairs, reflections)\n",
        "    chat.converse()\n",
        "\n",
        "vbot()"
      ],
      "execution_count": null,
      "outputs": [
        {
          "output_type": "stream",
          "text": [
            "Hi, I'm VBot and I chat alot ;)\n",
            "Please type lowercase English language to start a conversation. \n",
            "Type quit to leave \n",
            ">Hi\n",
            "Hey there\n",
            ">how are you?\n",
            "I'm doing good\\What is your name. ?\n",
            ">KRISHNA\n",
            "None\n",
            ">Krishna\n",
            "None\n",
            ">my name is krishna\n",
            "Hello krishna, How are you today ?\n",
            ">I'm good how are you?\n",
            "Nice to hear!\n",
            ">what is your age?\n",
            "I'm a computer program dude\n",
            "Seriously you are asking me this?\n",
            ">Yes\n",
            "None\n",
            ">quit\n",
            "Bye take care. See you soon :) \n"
          ],
          "name": "stdout"
        }
      ]
    },
    {
      "cell_type": "code",
      "metadata": {
        "id": "SVHNNz8biUzm"
      },
      "source": [
        ""
      ],
      "execution_count": null,
      "outputs": []
    },
    {
      "cell_type": "code",
      "metadata": {
        "id": "AbsqYs57iUzm"
      },
      "source": [
        ""
      ],
      "execution_count": null,
      "outputs": []
    },
    {
      "cell_type": "code",
      "metadata": {
        "id": "w1Q6IM9fiUzm"
      },
      "source": [
        "from nltk.chat.util import Chat, reflections\n"
      ],
      "execution_count": null,
      "outputs": []
    },
    {
      "cell_type": "code",
      "metadata": {
        "id": "hCFAkAbaiUzo"
      },
      "source": [
        "reflections = {\n",
        "  \"i am\"       : \"you are\",\n",
        "  \"i was\"      : \"you were\",\n",
        "  \"i\"          : \"you\",\n",
        "  \"i'm\"        : \"you are\",\n",
        "  \"i'd\"        : \"you would\",\n",
        "  \"i've\"       : \"you have\",\n",
        "  \"i'll\"       : \"you will\",\n",
        "  \"my\"         : \"your\",\n",
        "  \"you are\"    : \"I am\",\n",
        "  \"you were\"   : \"I was\",\n",
        "  \"you've\"     : \"I have\",\n",
        "  \"you'll\"     : \"I will\",\n",
        "  \"your\"       : \"my\",\n",
        "  \"yours\"      : \"mine\",\n",
        "  \"you\"        : \"me\",\n",
        "  \"me\"         : \"you\"\n",
        "}"
      ],
      "execution_count": null,
      "outputs": []
    },
    {
      "cell_type": "code",
      "metadata": {
        "id": "Y3BdWDa0iUzp"
      },
      "source": [
        "chat_pairs = [\n",
        "    \n",
        "     [\n",
        "        r\"hi|hey|hello\",\n",
        "        [\"Hello\", \"Hey there\",]\n",
        "    ],\n",
        "    \n",
        "     [\n",
        "        r\"what is your name ?\",\n",
        "        [\"My name is VBot and I'm a chatbot ?\",]\n",
        "    ],\n",
        "    \n",
        "    [\n",
        "        r\"how are you ?\",\n",
        "        [\"I'm doing good\\What is your name. ?\",]\n",
        "    ],\n",
        "    \n",
        "     [\n",
        "        r\"my name is (.*)(.*)\",\n",
        "        [\"Hello %1, How are you today ?\",]\n",
        "    ],\n",
        "    \n",
        "   [\n",
        "        r\"sorry (.*)\",\n",
        "        [\"Its alright\",\"Its OK, never mind\",]\n",
        "    ],\n",
        "    [\n",
        "        r\"(.*) (good|great|fine)\",\n",
        "        [\"Nice to hear!\",]\n",
        "    ],\n",
        "    \n",
        "    [\n",
        "        r\"i'm (.*) doing good\",\n",
        "        [\"Nice to hear that\",\"Alright :)\",]\n",
        "    ],\n",
        "    \n",
        "    [\n",
        "        r\"What is your age?\",\n",
        "        [\"I'm a computer program dude\\nSeriously you are asking me this?\",]\n",
        "        \n",
        "    ],\n",
        "    \n",
        "     [\n",
        "        r\"what (.*) want ?\",\n",
        "        [\"Make me an offer I can't refuse\",]\n",
        "        \n",
        "    ],\n",
        "    \n",
        "    [\n",
        "        r\"(.*) created ?\",\n",
        "        [\"krishna created me using Python's NLTK library \",\"top secret ;)\",]\n",
        "    ],\n",
        "    \n",
        "    [\n",
        "        r\"(.*) (location|city) ?\",\n",
        "        ['Hyderabad, India',]\n",
        "    ],\n",
        "    [\n",
        "        r\"how is weather in (.*)?\",\n",
        "        [\"Weather in %1 is awesome like always\",\"Too hot man here in %1\",\"Too cold man here in %1\",\"Never even heard about %1\"]\n",
        "    ],\n",
        "    [\n",
        "        r\"i work in (.*)?\",\n",
        "        [\"%1 is an Amazing company, I have heard about it.\",]\n",
        "    ],\n",
        "    [\n",
        "        r\"(.*)raining in (.*)\",\n",
        "        [\"No rain since last week here in %2\",\"Damn its raining too much here in %2\"]\n",
        "    ],\n",
        "    [\n",
        "        r\"how (.*) health(.*)\",\n",
        "        [\"I'm a computer program, so I'm always healthy \",]\n",
        "    ],\n",
        "    [\n",
        "        r\"(.*) (cooking|cook|kitchen)\",\n",
        "        [\"IYes! I love cooking. My favorite food is noodles.\",]\n",
        "    ],\n",
        "    [\n",
        "        r\"(.*) fact\",\n",
        "        [\"Be yourself; everyone else is already taken.\", \n",
        "        \"You've gotta dance like there's nobody watching\",\n",
        "        \"Be the change that you wish to see in the world\", \n",
        "        \"No one can make you feel inferior without your consent\",\n",
        "        \"Live as if you were to die tomorrow\",\n",
        "        \"Darkness cannot drive out darkness: only light can do that\",]\n",
        "    ],\n",
        "    [\n",
        "        r\"(.*) (language) (.*) ?\",\n",
        "        [\"I am written in python but I speak English.\",]\n",
        "    ],\n",
        "     [\n",
        "        r\"(.*) (friend|best friend) ?\",\n",
        "        [\"krishna is my best friend. I love to be a part of Vision Programmer\",]\n",
        "    ],\n",
        "    [\n",
        "        r\"(.*) (love|like) (.*)?\",\n",
        "        [\"I love to chat and meet new peoples.\",]\n",
        "    ],\n",
        "    [\n",
        "        r\"(.*) (created) ?\",\n",
        "        [\"krishna created me so that I can talk with beautiful peoples like you\",]\n",
        "    ],\n",
        "    [\n",
        "        r\"(.*) (visionprogrammer|vision programmer) ?\",\n",
        "        [\"Well Vision Programmer is a blogging site. It contains blog on Programming, Freelancing, Android and many other.\",]\n",
        "    ],\n",
        "     [\n",
        "        r\"(.*) (fruit|eat|food) ?\",\n",
        "        [\"HaHa nice question. I am a robot I don't eat.\",]\n",
        "    ],\n",
        "    [\n",
        "        r\"quit\",\n",
        "        [\"Bye take care. See you soon :) \",\"It was nice talking to you. See you soon :)\"]\n",
        "],\n",
        "]\n"
      ],
      "execution_count": null,
      "outputs": []
    },
    {
      "cell_type": "code",
      "metadata": {
        "id": "g02-CqUWiUzr",
        "outputId": "492084f1-c5a4-4f5b-f38e-b69c87f2af32"
      },
      "source": [
        "def vbot():\n",
        "    \n",
        "        #default message at the start\n",
        "    print('''Hi, I'm VBot and I chat alot ;)\n",
        "Please type lowercase English language to start a conversation. \n",
        "Type quit to leave ''')\n",
        "    \n",
        "    chat = Chat(chat_pairs, reflections)\n",
        "    chat.converse()\n",
        "\n",
        "vbot()"
      ],
      "execution_count": null,
      "outputs": [
        {
          "output_type": "stream",
          "text": [
            "Hi, I'm VBot and I chat alot ;)\n",
            "Please type lowercase English language to start a conversation. \n",
            "Type quit to leave \n",
            ">Hi\n",
            "Hello\n",
            ">My name is Moses\n",
            "Hello moses, How are you today ?\n",
            ">Hpw was your day\n",
            "None\n",
            ">How was your day?\n",
            "None\n",
            ">Im fine\n",
            "Nice to hear!\n",
            ">What is your name\n",
            "My name is VBot and I'm a chatbot ?\n",
            ">You age?\n",
            "None\n",
            ">What is your age?\n",
            "I'm a computer program dude\n",
            "Seriously you are asking me this?\n",
            ">exit\n",
            "None\n",
            ">quit\n",
            "Bye take care. See you soon :) \n"
          ],
          "name": "stdout"
        }
      ]
    },
    {
      "cell_type": "code",
      "metadata": {
        "id": "rko_eyu9iUzs"
      },
      "source": [
        ""
      ],
      "execution_count": null,
      "outputs": []
    },
    {
      "cell_type": "markdown",
      "metadata": {
        "id": "ftqtuFc8iUzs"
      },
      "source": [
        "# Next code"
      ]
    },
    {
      "cell_type": "code",
      "metadata": {
        "id": "qbcNVA17iUzt"
      },
      "source": [
        "import numpy as np"
      ],
      "execution_count": null,
      "outputs": []
    },
    {
      "cell_type": "code",
      "metadata": {
        "id": "iM9wAhvpiUzt"
      },
      "source": [
        "x = np.array([[1, 2, 3], [4, 5, 6]], np.int32)"
      ],
      "execution_count": null,
      "outputs": []
    },
    {
      "cell_type": "code",
      "metadata": {
        "id": "uBo0clLjiUzu"
      },
      "source": [
        "x"
      ],
      "execution_count": null,
      "outputs": []
    },
    {
      "cell_type": "code",
      "metadata": {
        "id": "chN4j-_PiUzu"
      },
      "source": [
        "x = np.array([[[ 0,  1,  2],\n",
        "        [ 3,  4,  5],\n",
        "        [ 6,  7,  8]],\n",
        "       [[ 9, 10, 11],\n",
        "        [12, 13, 14],\n",
        "        [15, 16, 17]],\n",
        "       [[18, 19, 20],\n",
        "        [21, 22, 23],\n",
        "        [24, 25, 26]]])"
      ],
      "execution_count": null,
      "outputs": []
    },
    {
      "cell_type": "code",
      "metadata": {
        "id": "0Qg1evSbiUzv"
      },
      "source": [
        "x"
      ],
      "execution_count": null,
      "outputs": []
    },
    {
      "cell_type": "code",
      "metadata": {
        "id": "84oEwUf8iUzv"
      },
      "source": [
        "x.sum(axis=0)"
      ],
      "execution_count": null,
      "outputs": []
    },
    {
      "cell_type": "code",
      "metadata": {
        "id": "eKHa0V-yiUzw"
      },
      "source": [
        "x.sum(0), x.sum(1), x.sum(2)"
      ],
      "execution_count": null,
      "outputs": []
    }
  ]
}