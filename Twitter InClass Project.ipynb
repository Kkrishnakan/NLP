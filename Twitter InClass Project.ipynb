{
 "cells": [
  {
   "cell_type": "markdown",
   "metadata": {},
   "source": [
    "# Fetching Tweets using Tweepy"
   ]
  },
  {
   "cell_type": "code",
   "execution_count": 35,
   "metadata": {},
   "outputs": [],
   "source": [
    "#!pip install tweepy"
   ]
  },
  {
   "cell_type": "code",
   "execution_count": 36,
   "metadata": {},
   "outputs": [],
   "source": [
    "import eduAuth as auth\n",
    "#import myAuth as auth\n",
    "\n",
    "ACCESS_TOKEN = auth.ACCESS_TOKEN\n",
    "ACCESS_SECRET = auth.ACCESS_SECRET\n",
    "CONSUMER_KEY = auth.CONSUMER_KEY\n",
    "CONSUMER_SECRET = auth.CONSUMER_SECRET"
   ]
  },
  {
   "cell_type": "code",
   "execution_count": 37,
   "metadata": {},
   "outputs": [],
   "source": [
    "import tweepy\n",
    "\n",
    "# Variables that contains the credentials to access Twitter API\n",
    "# ACCESS_TOKEN = '1014097837381111808-1ZmyTn9NwXhnlnH3rLJdjLg7WmwFTG'\n",
    "# ACCESS_SECRET = 'siiC7b529NpcGT8uwopjOaauSRZoUQdlN38mLL0gX2TLK'\n",
    "# CONSUMER_KEY = 'ZSTjRgpSwrcpgLDqTug1tnHVS'\n",
    "# CONSUMER_SECRET = '2mfFBHGIV0OT7b5LbgWrAbBhoyr3tB7GiGTtCGiz0pN8S9EFKv'\n",
    "\n",
    "\n",
    "# Setup access to API\n",
    "def connect_to_twitter_OAuth():\n",
    "    auth = tweepy.OAuthHandler(CONSUMER_KEY, CONSUMER_SECRET)\n",
    "    auth.set_access_token(ACCESS_TOKEN, ACCESS_SECRET)\n",
    "    api = tweepy.API(auth)\n",
    "    return api\n",
    "\n",
    "# Create API object\n",
    "api = connect_to_twitter_OAuth()"
   ]
  },
  {
   "cell_type": "code",
   "execution_count": 38,
   "metadata": {},
   "outputs": [
    {
     "name": "stdout",
     "output_type": "stream",
     "text": [
      "Read my full statement: \n",
      " \n",
      " https://t.co/mClnWjyYXd\n",
      "Yesterday’s Federal court ruling is deeply disappointing. While the court’s order does not now affect current DACA… https://t.co/6OLI167qrS\n",
      "The Build Back Better Agenda combined with the Bipartisan Infrastructure Framework is a once-in-a-generation invest… https://t.co/5yx402NGYz\n",
      "The Build Back Better Agenda starts with education. We’re going to provide four additional years of school to every… https://t.co/5edHVosDik\n",
      "As the first woman chancellor, Angela Merkel’s life is one of groundbreaking service to Germany and the world. Than… https://t.co/rPlgSe38RS\n",
      "Folks, it’s never been more convenient or more important to get vaccinated. Watch Dr. Fauci and @Olivia_Rodrigo ans… https://t.co/K8bgyVNWEV\n",
      "Under Chancellor Merkel, the friendship and cooperation between Germany and the United States has grown stronger an… https://t.co/qXSSZgTypH\n",
      "It was an honor to welcome my dear friend Chancellor Merkel to the White House. In today’s meetings we agreed to th… https://t.co/dCkvnxcDER\n",
      "Tune in as I host a press conference with German Chancellor Angela Merkel.  https://t.co/dhybt35FlZ\n",
      "There’s just one month left to sign up for health insurance on https://t.co/gRX1fGFEzj — with costs at an all-time… https://t.co/KnCU6ofwge\n",
      "Today, help is here. And my Build Back Better Agenda keeps this tax cut for working families in place for years to… https://t.co/1ynFprn10H\n",
      "To give you a sense of how transformative the expanded Child Tax Credit is: It’s going to spur the largest-ever one… https://t.co/MdBSaAEP81\n",
      "The expanded Child Tax Credit is one of the largest-ever single-year tax cuts for families with children. And it’s… https://t.co/93YJWOB54h\n",
      "Tune in as the Vice President and I deliver remarks on the start of monthly Child Tax Credit relief payments. https://t.co/qssgsJb9EX\n",
      "I look forward to welcoming German Chancellor Angela Merkel to the White House this afternoon for a bilateral meeti… https://t.co/BuaXwT3Fyi\n",
      "My Build Back Better Agenda will provide access to quality, affordable child care. Middle-class families will pay n… https://t.co/bDW0fL3XHF\n",
      "Today is a historic day for our country. Because beginning this morning, nearly all working families started receiv… https://t.co/v38J0d7WJl\n",
      "Thanks for stopping by, Olivia, and for using your voice to urge young people to get vaccinated. If we all do our p… https://t.co/BPP9dmr71h\n",
      "Today, I stopped by Capitol Hill to continue making the case for the Bipartisan Infrastructure Framework and my Bui… https://t.co/RemM5mkIQF\n",
      "This afternoon, I’ll be meeting with a bipartisan group of governors and mayors to discuss the Bipartisan Infrastru… https://t.co/GfPz76qqWs\n"
     ]
    }
   ],
   "source": [
    "# tweets from a specific user\n",
    "# @narendramodi\n",
    "# @potus\n",
    "tweets = api.user_timeline('@potus')\n",
    "for tweet in tweets:\n",
    "    print(tweet.text)"
   ]
  },
  {
   "cell_type": "code",
   "execution_count": 39,
   "metadata": {},
   "outputs": [
    {
     "data": {
      "text/plain": [
       "Status(_api=<tweepy.api.API object at 0x000002646228F520>, _json={'created_at': 'Wed Jul 14 15:33:13 +0000 2021', 'id': 1415333571229896711, 'id_str': '1415333571229896711', 'text': 'This afternoon, I’ll be meeting with a bipartisan group of governors and mayors to discuss the Bipartisan Infrastru… https://t.co/GfPz76qqWs', 'truncated': True, 'entities': {'hashtags': [], 'symbols': [], 'user_mentions': [], 'urls': [{'url': 'https://t.co/GfPz76qqWs', 'expanded_url': 'https://twitter.com/i/web/status/1415333571229896711', 'display_url': 'twitter.com/i/web/status/1…', 'indices': [117, 140]}]}, 'source': '<a href=\"https://www.sprinklr.com\" rel=\"nofollow\">The White House</a>', 'in_reply_to_status_id': None, 'in_reply_to_status_id_str': None, 'in_reply_to_user_id': None, 'in_reply_to_user_id_str': None, 'in_reply_to_screen_name': None, 'user': {'id': 1349149096909668363, 'id_str': '1349149096909668363', 'name': 'President Biden', 'screen_name': 'POTUS', 'location': '', 'description': '46th President of the United States, husband to @FLOTUS, proud dad & pop. Tweets may be archived: https://t.co/IURuMIrzxb', 'url': 'https://t.co/IxLjEB2zlE', 'entities': {'url': {'urls': [{'url': 'https://t.co/IxLjEB2zlE', 'expanded_url': 'http://WhiteHouse.gov', 'display_url': 'WhiteHouse.gov', 'indices': [0, 23]}]}, 'description': {'urls': [{'url': 'https://t.co/IURuMIrzxb', 'expanded_url': 'http://whitehouse.gov/privacy', 'display_url': 'whitehouse.gov/privacy', 'indices': [98, 121]}]}}, 'protected': False, 'followers_count': 12628087, 'friends_count': 12, 'listed_count': 12359, 'created_at': 'Wed Jan 13 00:37:08 +0000 2021', 'favourites_count': 0, 'utc_offset': None, 'time_zone': None, 'geo_enabled': False, 'verified': True, 'statuses_count': 1106, 'lang': None, 'contributors_enabled': False, 'is_translator': False, 'is_translation_enabled': False, 'profile_background_color': 'F5F8FA', 'profile_background_image_url': None, 'profile_background_image_url_https': None, 'profile_background_tile': False, 'profile_image_url': 'http://pbs.twimg.com/profile_images/1380530524779859970/TfwVAbyX_normal.jpg', 'profile_image_url_https': 'https://pbs.twimg.com/profile_images/1380530524779859970/TfwVAbyX_normal.jpg', 'profile_banner_url': 'https://pbs.twimg.com/profile_banners/1349149096909668363/1625108660', 'profile_link_color': '1DA1F2', 'profile_sidebar_border_color': 'C0DEED', 'profile_sidebar_fill_color': 'DDEEF6', 'profile_text_color': '333333', 'profile_use_background_image': True, 'has_extended_profile': True, 'default_profile': True, 'default_profile_image': False, 'following': False, 'follow_request_sent': False, 'notifications': False, 'translator_type': 'none', 'withheld_in_countries': []}, 'geo': None, 'coordinates': None, 'place': None, 'contributors': None, 'is_quote_status': False, 'retweet_count': 3284, 'favorite_count': 25473, 'favorited': False, 'retweeted': False, 'lang': 'en'}, created_at=datetime.datetime(2021, 7, 14, 15, 33, 13), id=1415333571229896711, id_str='1415333571229896711', text='This afternoon, I’ll be meeting with a bipartisan group of governors and mayors to discuss the Bipartisan Infrastru… https://t.co/GfPz76qqWs', truncated=True, entities={'hashtags': [], 'symbols': [], 'user_mentions': [], 'urls': [{'url': 'https://t.co/GfPz76qqWs', 'expanded_url': 'https://twitter.com/i/web/status/1415333571229896711', 'display_url': 'twitter.com/i/web/status/1…', 'indices': [117, 140]}]}, source='The White House', source_url='https://www.sprinklr.com', in_reply_to_status_id=None, in_reply_to_status_id_str=None, in_reply_to_user_id=None, in_reply_to_user_id_str=None, in_reply_to_screen_name=None, author=User(_api=<tweepy.api.API object at 0x000002646228F520>, _json={'id': 1349149096909668363, 'id_str': '1349149096909668363', 'name': 'President Biden', 'screen_name': 'POTUS', 'location': '', 'description': '46th President of the United States, husband to @FLOTUS, proud dad & pop. Tweets may be archived: https://t.co/IURuMIrzxb', 'url': 'https://t.co/IxLjEB2zlE', 'entities': {'url': {'urls': [{'url': 'https://t.co/IxLjEB2zlE', 'expanded_url': 'http://WhiteHouse.gov', 'display_url': 'WhiteHouse.gov', 'indices': [0, 23]}]}, 'description': {'urls': [{'url': 'https://t.co/IURuMIrzxb', 'expanded_url': 'http://whitehouse.gov/privacy', 'display_url': 'whitehouse.gov/privacy', 'indices': [98, 121]}]}}, 'protected': False, 'followers_count': 12628087, 'friends_count': 12, 'listed_count': 12359, 'created_at': 'Wed Jan 13 00:37:08 +0000 2021', 'favourites_count': 0, 'utc_offset': None, 'time_zone': None, 'geo_enabled': False, 'verified': True, 'statuses_count': 1106, 'lang': None, 'contributors_enabled': False, 'is_translator': False, 'is_translation_enabled': False, 'profile_background_color': 'F5F8FA', 'profile_background_image_url': None, 'profile_background_image_url_https': None, 'profile_background_tile': False, 'profile_image_url': 'http://pbs.twimg.com/profile_images/1380530524779859970/TfwVAbyX_normal.jpg', 'profile_image_url_https': 'https://pbs.twimg.com/profile_images/1380530524779859970/TfwVAbyX_normal.jpg', 'profile_banner_url': 'https://pbs.twimg.com/profile_banners/1349149096909668363/1625108660', 'profile_link_color': '1DA1F2', 'profile_sidebar_border_color': 'C0DEED', 'profile_sidebar_fill_color': 'DDEEF6', 'profile_text_color': '333333', 'profile_use_background_image': True, 'has_extended_profile': True, 'default_profile': True, 'default_profile_image': False, 'following': False, 'follow_request_sent': False, 'notifications': False, 'translator_type': 'none', 'withheld_in_countries': []}, id=1349149096909668363, id_str='1349149096909668363', name='President Biden', screen_name='POTUS', location='', description='46th President of the United States, husband to @FLOTUS, proud dad & pop. Tweets may be archived: https://t.co/IURuMIrzxb', url='https://t.co/IxLjEB2zlE', entities={'url': {'urls': [{'url': 'https://t.co/IxLjEB2zlE', 'expanded_url': 'http://WhiteHouse.gov', 'display_url': 'WhiteHouse.gov', 'indices': [0, 23]}]}, 'description': {'urls': [{'url': 'https://t.co/IURuMIrzxb', 'expanded_url': 'http://whitehouse.gov/privacy', 'display_url': 'whitehouse.gov/privacy', 'indices': [98, 121]}]}}, protected=False, followers_count=12628087, friends_count=12, listed_count=12359, created_at=datetime.datetime(2021, 1, 13, 0, 37, 8), favourites_count=0, utc_offset=None, time_zone=None, geo_enabled=False, verified=True, statuses_count=1106, lang=None, contributors_enabled=False, is_translator=False, is_translation_enabled=False, profile_background_color='F5F8FA', profile_background_image_url=None, profile_background_image_url_https=None, profile_background_tile=False, profile_image_url='http://pbs.twimg.com/profile_images/1380530524779859970/TfwVAbyX_normal.jpg', profile_image_url_https='https://pbs.twimg.com/profile_images/1380530524779859970/TfwVAbyX_normal.jpg', profile_banner_url='https://pbs.twimg.com/profile_banners/1349149096909668363/1625108660', profile_link_color='1DA1F2', profile_sidebar_border_color='C0DEED', profile_sidebar_fill_color='DDEEF6', profile_text_color='333333', profile_use_background_image=True, has_extended_profile=True, default_profile=True, default_profile_image=False, following=False, follow_request_sent=False, notifications=False, translator_type='none', withheld_in_countries=[]), user=User(_api=<tweepy.api.API object at 0x000002646228F520>, _json={'id': 1349149096909668363, 'id_str': '1349149096909668363', 'name': 'President Biden', 'screen_name': 'POTUS', 'location': '', 'description': '46th President of the United States, husband to @FLOTUS, proud dad & pop. Tweets may be archived: https://t.co/IURuMIrzxb', 'url': 'https://t.co/IxLjEB2zlE', 'entities': {'url': {'urls': [{'url': 'https://t.co/IxLjEB2zlE', 'expanded_url': 'http://WhiteHouse.gov', 'display_url': 'WhiteHouse.gov', 'indices': [0, 23]}]}, 'description': {'urls': [{'url': 'https://t.co/IURuMIrzxb', 'expanded_url': 'http://whitehouse.gov/privacy', 'display_url': 'whitehouse.gov/privacy', 'indices': [98, 121]}]}}, 'protected': False, 'followers_count': 12628087, 'friends_count': 12, 'listed_count': 12359, 'created_at': 'Wed Jan 13 00:37:08 +0000 2021', 'favourites_count': 0, 'utc_offset': None, 'time_zone': None, 'geo_enabled': False, 'verified': True, 'statuses_count': 1106, 'lang': None, 'contributors_enabled': False, 'is_translator': False, 'is_translation_enabled': False, 'profile_background_color': 'F5F8FA', 'profile_background_image_url': None, 'profile_background_image_url_https': None, 'profile_background_tile': False, 'profile_image_url': 'http://pbs.twimg.com/profile_images/1380530524779859970/TfwVAbyX_normal.jpg', 'profile_image_url_https': 'https://pbs.twimg.com/profile_images/1380530524779859970/TfwVAbyX_normal.jpg', 'profile_banner_url': 'https://pbs.twimg.com/profile_banners/1349149096909668363/1625108660', 'profile_link_color': '1DA1F2', 'profile_sidebar_border_color': 'C0DEED', 'profile_sidebar_fill_color': 'DDEEF6', 'profile_text_color': '333333', 'profile_use_background_image': True, 'has_extended_profile': True, 'default_profile': True, 'default_profile_image': False, 'following': False, 'follow_request_sent': False, 'notifications': False, 'translator_type': 'none', 'withheld_in_countries': []}, id=1349149096909668363, id_str='1349149096909668363', name='President Biden', screen_name='POTUS', location='', description='46th President of the United States, husband to @FLOTUS, proud dad & pop. Tweets may be archived: https://t.co/IURuMIrzxb', url='https://t.co/IxLjEB2zlE', entities={'url': {'urls': [{'url': 'https://t.co/IxLjEB2zlE', 'expanded_url': 'http://WhiteHouse.gov', 'display_url': 'WhiteHouse.gov', 'indices': [0, 23]}]}, 'description': {'urls': [{'url': 'https://t.co/IURuMIrzxb', 'expanded_url': 'http://whitehouse.gov/privacy', 'display_url': 'whitehouse.gov/privacy', 'indices': [98, 121]}]}}, protected=False, followers_count=12628087, friends_count=12, listed_count=12359, created_at=datetime.datetime(2021, 1, 13, 0, 37, 8), favourites_count=0, utc_offset=None, time_zone=None, geo_enabled=False, verified=True, statuses_count=1106, lang=None, contributors_enabled=False, is_translator=False, is_translation_enabled=False, profile_background_color='F5F8FA', profile_background_image_url=None, profile_background_image_url_https=None, profile_background_tile=False, profile_image_url='http://pbs.twimg.com/profile_images/1380530524779859970/TfwVAbyX_normal.jpg', profile_image_url_https='https://pbs.twimg.com/profile_images/1380530524779859970/TfwVAbyX_normal.jpg', profile_banner_url='https://pbs.twimg.com/profile_banners/1349149096909668363/1625108660', profile_link_color='1DA1F2', profile_sidebar_border_color='C0DEED', profile_sidebar_fill_color='DDEEF6', profile_text_color='333333', profile_use_background_image=True, has_extended_profile=True, default_profile=True, default_profile_image=False, following=False, follow_request_sent=False, notifications=False, translator_type='none', withheld_in_countries=[]), geo=None, coordinates=None, place=None, contributors=None, is_quote_status=False, retweet_count=3284, favorite_count=25473, favorited=False, retweeted=False, lang='en')"
      ]
     },
     "execution_count": 39,
     "metadata": {},
     "output_type": "execute_result"
    }
   ],
   "source": [
    "tweet"
   ]
  },
  {
   "cell_type": "code",
   "execution_count": 40,
   "metadata": {},
   "outputs": [
    {
     "data": {
      "text/plain": [
       "20"
      ]
     },
     "execution_count": 40,
     "metadata": {},
     "output_type": "execute_result"
    }
   ],
   "source": [
    "len(tweets)"
   ]
  },
  {
   "cell_type": "code",
   "execution_count": 41,
   "metadata": {},
   "outputs": [
    {
     "name": "stdout",
     "output_type": "stream",
     "text": [
      "Need something to watch this weekend? Look no further. https://t.co/ArX6Lv9SOp\n",
      "RT @ie_mumbai: As Covid downs curtain on stage, TheatreDost helps Mumbai artistes, backstage workers\n",
      "https://t.co/1MEE2QZ0jG\n",
      "#JustIn | The Ministry of Foreign Affairs, #Afghanistan summoned the Ambassador of the Islamic Republic of… https://t.co/wBatPZdv8C\n",
      "#LIVE: Watch #BrassTacks with @maryashakil https://t.co/zG9IFPj2Sy\n",
      "RT @htshowbiz: Jameela Jamil officially joins MCU, confirms action-packed role in She-Hulk\n",
      "https://t.co/hyh6DjD28U https://t.co/kahhH8yfgM\n",
      "RT @HTSportsNews: For Kuldeep Yadav, the stakes are much higher – he has to prove his form if he has to retain his place in the limited ove…\n",
      "Tesla offers a Full Self-Driving subscription for $199 per month https://t.co/p2ljczhUUX https://t.co/yo6PwBG44o\n",
      "Artificial Intelligence, Machine Learning and Deep Learning https://t.co/4lqOBZmeFy  #ArtificialIntelligence #MachineLearning #DeepLearning\n",
      "Amid reports of infighting within #PunjabCongress, speculations come up over a possibility of #NavjotSinghSidhu bei… https://t.co/5Jor8ZNN7d\n",
      "Are we hurtling towards a ‘third wave’?\n",
      "\n",
      "Watch #BrassTacks with @maryashakil at 8:58 PM only on CNN-News18. https://t.co/uSlYYVTRQE\n",
      "RT @arstechnica: Facebook catches Iranian spies catfishing US military targets https://t.co/PAOSbe1KzX by @wired\n",
      "Low Level Books or Courses https://t.co/4Og6GKbdjl\n",
      "RT @JoshuaPotash: Cops do “homeless outreach” to the community by destroying people’s shelters and arresting them. The actual community doe…\n",
      "#HTNewsBrief | Here's a look at everything that's making news at this hour\n",
      "\n",
      "https://t.co/gPqhp8gkbl\n",
      "कांग्रेस नेता प्रताप सिंह बाजवा ने पंजाब सीएम कैप्टन अमरिंदर सिंह से मुलाकात की है. इस दौरान राणा गुरमीत और राणा के… https://t.co/VhHBnJ6DBE\n",
      "Supreme Court judge DY Chandrachud asserted that majoritarian tendencies must be questioned against the background… https://t.co/kz9z34q516\n",
      "Rajasthan governor called for the development of high-quality varieties of crops under agricultural education accor… https://t.co/dz3NzW2hnD\n",
      "Watch: We used radar technology to peer through the clouds at the devastation caused by floods in multiple European… https://t.co/XF109zL3Qe\n",
      "Any semblance of majoritarian tendencies, any clampdown on civil liberties or religious freedom upset a sacred prom… https://t.co/pR0VHFpsjt\n",
      "Did we even understand what happened with Ethereum hard fork and TheDAO, how it influences today’s decisions and ho… https://t.co/fLTr7MxX0Z\n",
      "Union health ministry recommends Tuberculosis screening for all Covid-19 positive patients https://t.co/vAWgu0hNMF\n",
      "“We want to help the Cuban people, but we should not empower the regime. We should not make it flush with money to… https://t.co/fZTvAFfbaV\n",
      "#YogiAdityanath's brand of politics is built on a very classic template. All classic tropes – love jihad, terrorist… https://t.co/mX4sSD52Tr\n",
      "RT @internetarchive: The 70’s Shaft music alone makes this a must watch video.  But when you consider it was produced by the US government?…\n",
      "कयास लगाए जा रहे हैं कि कर्नाटक में येदियुरप्पा के हाथ से मुख्यमंत्री की कुर्सी जा सकती है. \n",
      "\n",
      "#BSYediyurappa… https://t.co/1hpgkpqaHM\n",
      "दिल्ली सरकार की कैबिनेट ने डीटीसी और क्लस्टर बसों के यात्रियों को कॉन्टैक्टलेस टिकटिंग मोबाइल फोन ऐप के माध्यम से ब… https://t.co/d23RixysMM\n",
      "A rare case of #monkeypox was detected in Texas, marking the first such cases recorded in the state, the Centers fo… https://t.co/ObcnXewLtN\n",
      "This 3D-printed bridge is made of 4.5 tons of stainless steel https://t.co/5V0K3VDzqc\n",
      "A flash flood killed a Grand Canyon visitor this week. Here's why drought in the Southwest could be making monsoon… https://t.co/771kSmnHbU\n",
      "RT @CNBCTV18News: A #MiniCooper can brighten up the gloomiest of weather.\n",
      "\n",
      "So we took the opportunity of driving a Mini #CooperConvertible…\n",
      "Amid reports of infighting within #PunjabCongress, speculations come up over a possibility of #NavjotSinghSidhu bei… https://t.co/uo7L8V0SUJ\n",
      "\"अगर ये कानून इतने ही अच्छे हैं, किसानों के हक़ में हैं तो किसान सड़कों पर क्यों है?\" - कृषि कानूनों पर बोले कां… https://t.co/mdVL8zHg1y\n",
      "The ministry issued the advisory after reports of rising cases of Tuberculosis among patients who were infected wit… https://t.co/ebkHST1Yja\n",
      "RT @ndtvfeed: Chief Justice Says Top Court May Go Live Soon, Shares Advice For Judges https://t.co/dmHZegpY8Q https://t.co/AN7a4jpczB\n",
      "This weekend on Frankly Speaking with Navika Kumar, #Uttarakhand CM @pushkardhami takes the hot seat and reacts on… https://t.co/qkUSYV6UaA\n",
      "RT @NASAHubble: All instruments on the Hubble Space Telescope are now in operational status, and science data is once again being collected…\n",
      "#InPics | Thousand of people fled their homes in Southern Netherlands on Friday as intense flooding grips the regio… https://t.co/KiIZATG35f\n",
      "India’s cumulative #COVID vaccination coverage has surpassed 40 crore (40,44,67,526), as per the 7 pm provisional r… https://t.co/zu7g6b5e7Q\n",
      "Kerala Government enhanced the daily limit of pilgrims permitted for this year's Sabrimala monthly (Karkkidaka) poo… https://t.co/xfgCaYa0Sa\n",
      "कांग्रेस के 'shrinking base' के लिए कौन है ज़िम्मेदार? जानिये इस पर क्या बोले कांग्रेस नेता और पूर्व केंद्रीय मं… https://t.co/cuLeZwioMF\n",
      "People must carry a certificate showing two doses of vaccination while attending the activities for which RT-PCR ce… https://t.co/FLkGVTuPlK\n",
      "Punjab Vidhan Sabha Speaker Rana KP Singh, Rajya Sabha MP and former INC Punjab president Partap Singh Bajwa and ca… https://t.co/yv9zcelamp\n",
      "#DelhiUniversity to start the registration process of the 65,000 seats for undergraduate courses at its colleges on… https://t.co/oLaurqCojS\n",
      "It’s a different story in the women’s singles event. After #SerenaWilliams’ dominance waned, new and younger champi… https://t.co/kbiOyyDxx4\n",
      "#SBI's digital banking services will remain suspended for a period of two hours from tonight 11.30pm till 1.30am to… https://t.co/SFsyyrb3kA\n",
      "Ordnance Factory Tiruchirappalli hands over 25 remote control guns to Navy, Coast Guard https://t.co/WU1aWnaUda\n",
      "The Justice Department is setting up a reporting system on the dark web and is open to paying out informants with c… https://t.co/SvAqMTXIj7\n",
      "For more than nine years, DREAMers have watched courts and politicians debate whether they’ll be allowed to stay in… https://t.co/78AlKj922E\n",
      "क्या गांधी परिवार के बिना नहीं होता कांग्रेस का बेड़ापार? 'शीर्ष नेतृत्व की तरफ से चुनाव कराने के लिए कभी संकोच न… https://t.co/kuhMnoC7Ne\n",
      "Nasa tracks soaring temperatures amid reports of another #heatwave in the western US, Canada\n",
      "\n",
      "https://t.co/0goMYKnVNk\n",
      "Airplanes equipped with hundreds of pounds of water — and up to 35,000 fish — drop them into the lakes below https://t.co/kB1gTXIpdO\n",
      "RT @htshowbiz: Sara Ali Khan aces 15 expressions in 30 seconds challenge, her fans call her a 'queen'. Watch\n",
      "https://t.co/SLkuYqpZQj https:…\n",
      "RT @lifestyle_ie: It’s unclear what role crafting will continue to play in the lives of those who adopted it as a stress relief measure dur…\n",
      "If you're concerned about sharing joints, a glass tip is a tool that can keep your germs to yourself.  https://t.co/ayKIZX88Iq\n",
      "RT @Gizmodo: This All-in-One 4K Projector Is the Easiest Way to Build a Home Movie Theater https://t.co/aJmuoGKAxp https://t.co/ZBjGtTNZY2\n",
      "#Tokyo in a state of emergency during games. Report by @Paulomi_Barman\n",
      "\n",
      "#Tokyo2020 #ITVideo https://t.co/wKwLSZMGvH\n",
      "राजस्थान के धौलपुर में एक ही समुदाय के दो पक्षों में मेहमानों की दावत रद्द होने के बाद झगड़ा हो गया \n",
      "#Rajasthan \n",
      "https://t.co/IOY0cNdhjG\n",
      "RT @HTSportsNews: Sania Mirza is gearing up for her fourth Olympic appearance at 34; dabbling between being a tennis pro and a mother of a…\n",
      "There is no Opposition in #UttarPradesh because, people there after the rule of #BJP realized that the previous gov… https://t.co/iDzFZHd3G4\n",
      "As NetBlocks has attained stardom among internet-watchers, a question has rumbled on: how does it know that the int… https://t.co/Ozv6s66rxX\n",
      "RT @ndtvfeed: 16 Dead At Bihar Village Allegedly After Consuming Spurious Liquor https://t.co/L3NbxB2ftS https://t.co/031rO290v8\n",
      "RT @sahitya_tak: तुमने मुझे छोड़ा क्यूं छोड़ा था... इश्क वाला Love में @sanjeevpaliwal से सुनिए नितिन यादव की यह कहानी.\n",
      "https://t.co/edTRWj…\n",
      "Local #crypto exchange, Valr says clients now need to wait for each foreign investment allowance (FIA) application… https://t.co/fIWyVXn390\n",
      "कोरोना 3.0 का countdown शुरू? R-value ने बढ़ाई टेंशन | #ATLivestream | @swetasinghat https://t.co/BbW9OFwOyb\n",
      "On Frankly Speaking with Navika Kumar, #Uttarakhand CM @pushkardhami explains his #KanwarYatra stand, shares his vi… https://t.co/4ZNQOQdkXt\n",
      "Are Chinese miners moving to Russia? A new project aims to recruit mining-related companies to Russia. https://t.co/MynewM7nlk\n",
      "For decades, Riad Salameh, Lebanon’s central bank chief, was lauded as a financial wizard who kept the economy runn… https://t.co/QKxNVVWwsD\n",
      "\"The term 'great American' gets thrown around a lot but Congressman John Lewis is truly a great American.\"… https://t.co/opiU3FfEbv\n",
      "Amid reports of infighting within #PunjabCongress, speculations come up over a possibility of #NavjotSinghSidhu bei… https://t.co/ewfzCnaIRX\n",
      "Central leaders asked me to continue as Karnataka CM: BS Yediyurappa https://t.co/1BQG26OxjB https://t.co/gDJQSvL85X\n",
      "Are we hurtling towards a ‘third wave’?\n",
      "\n",
      "Watch #BrassTacks with @maryashakil at 8:58 PM only on CNN-News18. https://t.co/9aAOxCokuL\n",
      "Just In | #BJP expels senior leader and former Rajasthan Minister Rohitash Sharma from the party's primary membersh… https://t.co/BuB0lmEJmF\n",
      "The Drugs network has really proved unshakable. They have existed for centuries: Sameer Patil, Fellow, Gateway Hous… https://t.co/pjM5RNHnfP\n",
      "The intrinsic strength of #YogiAdityanath is not on the basis of his achievements, but is because of the weakness o… https://t.co/Ryqg6RbPeg\n",
      "It requires certain audacity on part of #PMModi to so vehemently congratulate #YogiAdityanath for handling #COVID a… https://t.co/nR2niZdX2R\n",
      "Exploratory Data Analysis for Machine Learning https://t.co/oswnN7cPLW  #machinelearning #datascience #bigdata #AI… https://t.co/vx6x3HZzLU\n",
      "There is something so fucked up about our relationship with police that people who have been given extraordinary po… https://t.co/ZOe1fexpdZ\n",
      "सीएम अमरिंदर सिंह ने अपने धुर विरोधी प्रताप सिंह बाजवा को अपने आवास पर बुलाया और उनके बीच एक अहम मीटिंग चल रही है… https://t.co/l6aaAGGxPC\n",
      "Experts predict 3rd wave could hit India soon. Report by @snehamordani \n",
      "#ITVideo #ThirdWave #Covid19 https://t.co/WfU2Lb44kL\n",
      "किसके नेतृत्व में 2022 का पंजाब चुनाव लड़ने में कांग्रेस को फायदा होगा? कांग्रेस नेता मनीष तिवारी (@ManishTewari)… https://t.co/outiZnE9ML\n"
     ]
    },
    {
     "name": "stdout",
     "output_type": "stream",
     "text": [
      "Nagaland govt asks staff to get vaccinated or show no-Covid report to receive salary\n",
      "https://t.co/GZI2QU14c2\n",
      "Landslide warning issued for #HimachalPradesh; heavy rain predicted for next three-four days\n",
      "https://t.co/5BnkJejwTX\n",
      "Canada has surpassed the US in the percentage of people fully vaccinated against Covid-19, according to data from b… https://t.co/Ax7joDxHSK\n",
      "Here's a look at the Narcotics top smuggled commodity.\n",
      "\n",
      "Watch #TheRightPerspective with @AnchorAnandN https://t.co/g5imPfZWDc\n",
      "On our (India) one side is Afghanistan, which has produced 85% of global opium output and to our east is Myanmar wh… https://t.co/SgYSsdH1UR\n",
      "Centre calls for tuberculosis screening among COVID-infected patients, as TB cases surge\n",
      "\n",
      "#COVID19 #Coronavirus… https://t.co/ktEm30jOAB\n",
      "The latest unwinding of BitFinex BTCUSD shorts could push the price of Bitcoin higher. https://t.co/dIzWCXClAZ\n",
      "The interBTC product enables users to invest, earn and pay with Bitcoin on any blockchain. https://t.co/ys05oyZb2L\n",
      "Trichy's Manaparai Manikandam block is educating its elderly illiterate population\n",
      "(@Akshayanath)\n",
      "https://t.co/IpjIxVvLhL\n",
      "\"दिल्ली वालों को मिल रहा है गंदा पानी\": कांग्रेस का दिल्ली सरकार पर हमला\n",
      "(@sushantm870 ) \n",
      "#Delhi #India #News \n",
      "\n",
      "https://t.co/NQOrcb9Lvs\n",
      "The #Odisha government on Saturday announced the reopening of schools for Class 10 and Class 12 from July 26 follow… https://t.co/dWGubD0TMC\n",
      "Afghan politicians, Taliban meet in Doha as fighting continues \n",
      "\n",
      "https://t.co/aSMLSnKRkz via @TOIWorld https://t.co/pjtPrKqZSC\n",
      "CM BSY to resign soon? Congress' Aiyshwarya Mahadev @AiyshwaryaM &amp; Senior Journalist T S Sudhir (@Iamtssudhir) shar… https://t.co/uE8yMvx9aZ\n",
      "RT @toisports: #Tokyo2020  #TokyoOlympics  #Wrestling \n",
      "\n",
      "The tale of Anshu and Sonam Malik, young members of India's wrestling squad \n",
      "\n",
      "READ:…\n",
      "RT @ndtvfeed: Gujarat Cadets To Send 30,000 Greeting Cards To Kargil Soldiers https://t.co/85SArLr2Gr https://t.co/noOqhm6TpA\n",
      "RT @ndtvfeed: \"No Truth In It\": Karnataka Chief Minister On Speculation He Will Resign https://t.co/Ne3l5bErpO https://t.co/WJFmtIDDe1\n",
      "RT @ndtvfeed: UK Health Minister Tests Positive For Coronavirus https://t.co/7bR21rtk4J https://t.co/LMTDKOZGOz\n",
      "RT @ndtvfeed: Singapore Court Dismisses Couple's Appeal Against Conviction For Assault https://t.co/ohtM1qtYqj https://t.co/BNq88FxSQz\n",
      "\"पंजाब के लोगों में आक्रोश है और उस आक्रोश को समझने की ज़रुरत है। अगर केंद्र सरकार अपनी ज़िद्द नहीं छोड़ेगी, किसा… https://t.co/uHN0z8cjCO\n",
      "RT @Commercial_Crew: 🚀 @BoeingSpace’s CST-100 Starliner spacecraft has started its expedition to Space Launch Complex-41! Once it arrives,…\n"
     ]
    },
    {
     "ename": "TweepError",
     "evalue": "Twitter error response: status code = 429",
     "output_type": "error",
     "traceback": [
      "\u001b[1;31m---------------------------------------------------------------------------\u001b[0m",
      "\u001b[1;31mTweepError\u001b[0m                                Traceback (most recent call last)",
      "\u001b[1;32m<ipython-input-41-2e22e11e4829>\u001b[0m in \u001b[0;36m<module>\u001b[1;34m\u001b[0m\n\u001b[0;32m      1\u001b[0m \u001b[1;31m# Iterate through the first 200 statuses in the home timeline\u001b[0m\u001b[1;33m\u001b[0m\u001b[1;33m\u001b[0m\u001b[1;33m\u001b[0m\u001b[0m\n\u001b[1;32m----> 2\u001b[1;33m \u001b[1;32mfor\u001b[0m \u001b[0mstatus\u001b[0m \u001b[1;32min\u001b[0m \u001b[0mtweepy\u001b[0m\u001b[1;33m.\u001b[0m\u001b[0mCursor\u001b[0m\u001b[1;33m(\u001b[0m\u001b[0mapi\u001b[0m\u001b[1;33m.\u001b[0m\u001b[0mhome_timeline\u001b[0m\u001b[1;33m)\u001b[0m\u001b[1;33m.\u001b[0m\u001b[0mitems\u001b[0m\u001b[1;33m(\u001b[0m\u001b[1;36m200\u001b[0m\u001b[1;33m)\u001b[0m\u001b[1;33m:\u001b[0m\u001b[1;33m\u001b[0m\u001b[1;33m\u001b[0m\u001b[0m\n\u001b[0m\u001b[0;32m      3\u001b[0m     \u001b[1;31m# Process the status here\u001b[0m\u001b[1;33m\u001b[0m\u001b[1;33m\u001b[0m\u001b[1;33m\u001b[0m\u001b[0m\n\u001b[0;32m      4\u001b[0m     \u001b[0mprint\u001b[0m\u001b[1;33m(\u001b[0m\u001b[0mstatus\u001b[0m\u001b[1;33m.\u001b[0m\u001b[0mtext\u001b[0m\u001b[1;33m)\u001b[0m\u001b[1;33m\u001b[0m\u001b[1;33m\u001b[0m\u001b[0m\n",
      "\u001b[1;32m~\\anaconda3\\lib\\site-packages\\tweepy\\cursor.py\u001b[0m in \u001b[0;36m__next__\u001b[1;34m(self)\u001b[0m\n\u001b[0;32m     49\u001b[0m \u001b[1;33m\u001b[0m\u001b[0m\n\u001b[0;32m     50\u001b[0m     \u001b[1;32mdef\u001b[0m \u001b[0m__next__\u001b[0m\u001b[1;33m(\u001b[0m\u001b[0mself\u001b[0m\u001b[1;33m)\u001b[0m\u001b[1;33m:\u001b[0m\u001b[1;33m\u001b[0m\u001b[1;33m\u001b[0m\u001b[0m\n\u001b[1;32m---> 51\u001b[1;33m         \u001b[1;32mreturn\u001b[0m \u001b[0mself\u001b[0m\u001b[1;33m.\u001b[0m\u001b[0mnext\u001b[0m\u001b[1;33m(\u001b[0m\u001b[1;33m)\u001b[0m\u001b[1;33m\u001b[0m\u001b[1;33m\u001b[0m\u001b[0m\n\u001b[0m\u001b[0;32m     52\u001b[0m \u001b[1;33m\u001b[0m\u001b[0m\n\u001b[0;32m     53\u001b[0m     \u001b[1;32mdef\u001b[0m \u001b[0mnext\u001b[0m\u001b[1;33m(\u001b[0m\u001b[0mself\u001b[0m\u001b[1;33m)\u001b[0m\u001b[1;33m:\u001b[0m\u001b[1;33m\u001b[0m\u001b[1;33m\u001b[0m\u001b[0m\n",
      "\u001b[1;32m~\\anaconda3\\lib\\site-packages\\tweepy\\cursor.py\u001b[0m in \u001b[0;36mnext\u001b[1;34m(self)\u001b[0m\n\u001b[0;32m    241\u001b[0m         \u001b[1;32mif\u001b[0m \u001b[0mself\u001b[0m\u001b[1;33m.\u001b[0m\u001b[0mcurrent_page\u001b[0m \u001b[1;32mis\u001b[0m \u001b[1;32mNone\u001b[0m \u001b[1;32mor\u001b[0m \u001b[0mself\u001b[0m\u001b[1;33m.\u001b[0m\u001b[0mpage_index\u001b[0m \u001b[1;33m==\u001b[0m \u001b[0mlen\u001b[0m\u001b[1;33m(\u001b[0m\u001b[0mself\u001b[0m\u001b[1;33m.\u001b[0m\u001b[0mcurrent_page\u001b[0m\u001b[1;33m)\u001b[0m \u001b[1;33m-\u001b[0m \u001b[1;36m1\u001b[0m\u001b[1;33m:\u001b[0m\u001b[1;33m\u001b[0m\u001b[1;33m\u001b[0m\u001b[0m\n\u001b[0;32m    242\u001b[0m             \u001b[1;31m# Reached end of current page, get the next page...\u001b[0m\u001b[1;33m\u001b[0m\u001b[1;33m\u001b[0m\u001b[1;33m\u001b[0m\u001b[0m\n\u001b[1;32m--> 243\u001b[1;33m             \u001b[0mself\u001b[0m\u001b[1;33m.\u001b[0m\u001b[0mcurrent_page\u001b[0m \u001b[1;33m=\u001b[0m \u001b[0mself\u001b[0m\u001b[1;33m.\u001b[0m\u001b[0mpage_iterator\u001b[0m\u001b[1;33m.\u001b[0m\u001b[0mnext\u001b[0m\u001b[1;33m(\u001b[0m\u001b[1;33m)\u001b[0m\u001b[1;33m\u001b[0m\u001b[1;33m\u001b[0m\u001b[0m\n\u001b[0m\u001b[0;32m    244\u001b[0m             \u001b[1;32mwhile\u001b[0m \u001b[0mlen\u001b[0m\u001b[1;33m(\u001b[0m\u001b[0mself\u001b[0m\u001b[1;33m.\u001b[0m\u001b[0mcurrent_page\u001b[0m\u001b[1;33m)\u001b[0m \u001b[1;33m==\u001b[0m \u001b[1;36m0\u001b[0m\u001b[1;33m:\u001b[0m\u001b[1;33m\u001b[0m\u001b[1;33m\u001b[0m\u001b[0m\n\u001b[0;32m    245\u001b[0m                 \u001b[0mself\u001b[0m\u001b[1;33m.\u001b[0m\u001b[0mcurrent_page\u001b[0m \u001b[1;33m=\u001b[0m \u001b[0mself\u001b[0m\u001b[1;33m.\u001b[0m\u001b[0mpage_iterator\u001b[0m\u001b[1;33m.\u001b[0m\u001b[0mnext\u001b[0m\u001b[1;33m(\u001b[0m\u001b[1;33m)\u001b[0m\u001b[1;33m\u001b[0m\u001b[1;33m\u001b[0m\u001b[0m\n",
      "\u001b[1;32m~\\anaconda3\\lib\\site-packages\\tweepy\\cursor.py\u001b[0m in \u001b[0;36mnext\u001b[1;34m(self)\u001b[0m\n\u001b[0;32m    130\u001b[0m \u001b[1;33m\u001b[0m\u001b[0m\n\u001b[0;32m    131\u001b[0m         \u001b[1;32mif\u001b[0m \u001b[0mself\u001b[0m\u001b[1;33m.\u001b[0m\u001b[0mindex\u001b[0m \u001b[1;33m>=\u001b[0m \u001b[0mlen\u001b[0m\u001b[1;33m(\u001b[0m\u001b[0mself\u001b[0m\u001b[1;33m.\u001b[0m\u001b[0mresults\u001b[0m\u001b[1;33m)\u001b[0m \u001b[1;33m-\u001b[0m \u001b[1;36m1\u001b[0m\u001b[1;33m:\u001b[0m\u001b[1;33m\u001b[0m\u001b[1;33m\u001b[0m\u001b[0m\n\u001b[1;32m--> 132\u001b[1;33m             \u001b[0mdata\u001b[0m \u001b[1;33m=\u001b[0m \u001b[0mself\u001b[0m\u001b[1;33m.\u001b[0m\u001b[0mmethod\u001b[0m\u001b[1;33m(\u001b[0m\u001b[0mmax_id\u001b[0m\u001b[1;33m=\u001b[0m\u001b[0mself\u001b[0m\u001b[1;33m.\u001b[0m\u001b[0mmax_id\u001b[0m\u001b[1;33m,\u001b[0m \u001b[0mparser\u001b[0m\u001b[1;33m=\u001b[0m\u001b[0mRawParser\u001b[0m\u001b[1;33m(\u001b[0m\u001b[1;33m)\u001b[0m\u001b[1;33m,\u001b[0m \u001b[1;33m*\u001b[0m\u001b[0mself\u001b[0m\u001b[1;33m.\u001b[0m\u001b[0margs\u001b[0m\u001b[1;33m,\u001b[0m \u001b[1;33m**\u001b[0m\u001b[0mself\u001b[0m\u001b[1;33m.\u001b[0m\u001b[0mkwargs\u001b[0m\u001b[1;33m)\u001b[0m\u001b[1;33m\u001b[0m\u001b[1;33m\u001b[0m\u001b[0m\n\u001b[0m\u001b[0;32m    133\u001b[0m \u001b[1;33m\u001b[0m\u001b[0m\n\u001b[0;32m    134\u001b[0m             \u001b[1;32mif\u001b[0m \u001b[0mhasattr\u001b[0m\u001b[1;33m(\u001b[0m\u001b[0mself\u001b[0m\u001b[1;33m.\u001b[0m\u001b[0mmethod\u001b[0m\u001b[1;33m,\u001b[0m \u001b[1;34m'__self__'\u001b[0m\u001b[1;33m)\u001b[0m\u001b[1;33m:\u001b[0m\u001b[1;33m\u001b[0m\u001b[1;33m\u001b[0m\u001b[0m\n",
      "\u001b[1;32m~\\anaconda3\\lib\\site-packages\\tweepy\\binder.py\u001b[0m in \u001b[0;36m_call\u001b[1;34m(*args, **kwargs)\u001b[0m\n\u001b[0;32m    251\u001b[0m                 \u001b[1;32mreturn\u001b[0m \u001b[0mmethod\u001b[0m\u001b[1;33m\u001b[0m\u001b[1;33m\u001b[0m\u001b[0m\n\u001b[0;32m    252\u001b[0m             \u001b[1;32melse\u001b[0m\u001b[1;33m:\u001b[0m\u001b[1;33m\u001b[0m\u001b[1;33m\u001b[0m\u001b[0m\n\u001b[1;32m--> 253\u001b[1;33m                 \u001b[1;32mreturn\u001b[0m \u001b[0mmethod\u001b[0m\u001b[1;33m.\u001b[0m\u001b[0mexecute\u001b[0m\u001b[1;33m(\u001b[0m\u001b[1;33m)\u001b[0m\u001b[1;33m\u001b[0m\u001b[1;33m\u001b[0m\u001b[0m\n\u001b[0m\u001b[0;32m    254\u001b[0m         \u001b[1;32mfinally\u001b[0m\u001b[1;33m:\u001b[0m\u001b[1;33m\u001b[0m\u001b[1;33m\u001b[0m\u001b[0m\n\u001b[0;32m    255\u001b[0m             \u001b[0mmethod\u001b[0m\u001b[1;33m.\u001b[0m\u001b[0msession\u001b[0m\u001b[1;33m.\u001b[0m\u001b[0mclose\u001b[0m\u001b[1;33m(\u001b[0m\u001b[1;33m)\u001b[0m\u001b[1;33m\u001b[0m\u001b[1;33m\u001b[0m\u001b[0m\n",
      "\u001b[1;32m~\\anaconda3\\lib\\site-packages\\tweepy\\binder.py\u001b[0m in \u001b[0;36mexecute\u001b[1;34m(self)\u001b[0m\n\u001b[0;32m    232\u001b[0m                     \u001b[1;32mraise\u001b[0m \u001b[0mRateLimitError\u001b[0m\u001b[1;33m(\u001b[0m\u001b[0merror_msg\u001b[0m\u001b[1;33m,\u001b[0m \u001b[0mresp\u001b[0m\u001b[1;33m)\u001b[0m\u001b[1;33m\u001b[0m\u001b[1;33m\u001b[0m\u001b[0m\n\u001b[0;32m    233\u001b[0m                 \u001b[1;32melse\u001b[0m\u001b[1;33m:\u001b[0m\u001b[1;33m\u001b[0m\u001b[1;33m\u001b[0m\u001b[0m\n\u001b[1;32m--> 234\u001b[1;33m                     \u001b[1;32mraise\u001b[0m \u001b[0mTweepError\u001b[0m\u001b[1;33m(\u001b[0m\u001b[0merror_msg\u001b[0m\u001b[1;33m,\u001b[0m \u001b[0mresp\u001b[0m\u001b[1;33m,\u001b[0m \u001b[0mapi_code\u001b[0m\u001b[1;33m=\u001b[0m\u001b[0mapi_error_code\u001b[0m\u001b[1;33m)\u001b[0m\u001b[1;33m\u001b[0m\u001b[1;33m\u001b[0m\u001b[0m\n\u001b[0m\u001b[0;32m    235\u001b[0m \u001b[1;33m\u001b[0m\u001b[0m\n\u001b[0;32m    236\u001b[0m             \u001b[1;31m# Parse the response payload\u001b[0m\u001b[1;33m\u001b[0m\u001b[1;33m\u001b[0m\u001b[1;33m\u001b[0m\u001b[0m\n",
      "\u001b[1;31mTweepError\u001b[0m: Twitter error response: status code = 429"
     ]
    }
   ],
   "source": [
    "# Iterate through the first 200 statuses in the home timeline\n",
    "for status in tweepy.Cursor(api.home_timeline).items(200):\n",
    "    # Process the status here\n",
    "    print(status.text)"
   ]
  },
  {
   "cell_type": "code",
   "execution_count": 42,
   "metadata": {},
   "outputs": [
    {
     "data": {
      "text/plain": [
       "'Awanish'"
      ]
     },
     "execution_count": 42,
     "metadata": {},
     "output_type": "execute_result"
    }
   ],
   "source": [
    "friend.name"
   ]
  },
  {
   "cell_type": "code",
   "execution_count": 43,
   "metadata": {},
   "outputs": [
    {
     "name": "stdout",
     "output_type": "stream",
     "text": [
      "Bihar Health Dept\n",
      "PS5 - PlayStation 5 News\n",
      "Teach For India\n",
      "Colaboratory\n",
      "#antifascist. ProtestsOfIndia\n",
      "Shubham Rana\n",
      "Akanksha\n",
      "Debashis\n",
      "YouTube\n",
      "Intellipaat\n",
      "Nitish Gupta\n",
      "Tableau Software\n",
      "Kislay Keshari\n",
      "Sumit Datta\n",
      "🐥\n",
      "Aayushi Johari\n",
      "Lovleen Bhatia\n",
      "Shubham Sinha\n",
      "Ryan Reynolds\n",
      "CX Emotion\n",
      "ipfconline\n",
      "Mother Of Sarcasm\n",
      "Mashable\n",
      "The New York Times\n",
      "WIRED\n",
      "Engadget\n",
      "Gizmodo\n",
      "vidIQ\n",
      "gSrikar\n",
      "Vardhan NS\n",
      "Mars Cyrillo\n",
      "Barack Obama\n",
      "NASA\n",
      "Andreas (BEWARE of giveaway scams!)\n",
      "vitalik.eth\n",
      "Charlie Lee [LTC⚡]\n",
      "Bitfinex\n",
      "Roger Ver\n",
      "Erik Voorhees\n",
      "CCN - Capital & Celeb News\n",
      "Binance\n",
      "Coinbase\n",
      "Cointelegraph\n",
      "Bitcoin News\n",
      "Bittrex\n",
      "Daily Quotes thought\n",
      "Arvind Kejriwal\n",
      "Zee News English\n",
      "News18\n",
      "The Indian Express\n",
      "The Hindu\n",
      "Hindustan Times\n",
      "IndiaToday\n",
      "TIMES NOW\n",
      "The Times Of India\n",
      "NDTV\n",
      "ABP News\n",
      "AajTak\n",
      "Ministry of Railways\n",
      "Suresh Prabhu\n",
      "Piyush Goyal\n",
      "Subramanian Swamy\n",
      "Smriti Z Irani\n",
      "Nitin Gadkari\n",
      "Manohar Parrikar Memorial\n",
      "Rajnath Singh\n",
      "Amit Shah\n",
      "Arun Jaitley\n",
      "PMO India\n",
      "Ratan N. Tata\n",
      "Tim Cook\n",
      "Leonardo DiCaprio\n",
      "Nandan Nilekani\n",
      "Sundar Pichai\n",
      "TechCrunch\n",
      "Elon Musk\n",
      "TED Talks\n",
      "Google\n",
      "Bill Gates\n",
      "BengaluruCityPolice\n",
      "YourStory\n",
      "Swatee Chand\n",
      "Kate Allen\n",
      "Upstart\n",
      "Yandex\n",
      "Hilary Mason\n",
      "Barry Libert\n",
      "Davar Ardalan\n",
      "Oriol Vinyals\n",
      "Google Cloud Tech\n",
      "Chris Applegate\n",
      "Recorded Future\n",
      "Monika Auger\n",
      "Toronto Machine Learning Society (TMLS)\n",
      "Machine Learning\n",
      "Scott #BLM #ACAB #AbolishThePolice Menor\n",
      "Pete Skomoroch\n",
      "Reza Zadeh\n",
      "Michael Fisher\n",
      "ParisMachineLearning\n",
      "SF Machine Learning\n",
      "Machine Learning\n",
      "Machine Learning Lab\n",
      "/MachineLearning\n",
      "Tryolabs\n",
      "Open Architecture Interoperability\n",
      "ICML Conference\n",
      "Ravi Kikan\n",
      "Machine Learning\n",
      "Machine Learning Department at CMU\n",
      "United Nations in India\n",
      "CNN\n",
      "Narendra Modi\n",
      "SS Ahluwalia\n",
      "Ravi Shankar Prasad\n",
      "Daniel Hein\n",
      "Shashank Bilonia\n",
      "Sahiti Kappagantula\n",
      "NIH\n",
      "Godfrey Rono\n",
      "Matt Fedorovich\n",
      "AI\n",
      "Austen\n",
      "Mike Quindazzi ✨\n",
      "Cisco DevNet\n",
      "TensorFlow\n",
      "Machine Learning Lab\n",
      "TriumphIndiaOfficial\n",
      "OVERDRIVE\n",
      "Royal Enfield\n",
      "Edureka\n",
      "Machine Learning and NLP\n",
      "Awanish\n"
     ]
    }
   ],
   "source": [
    "# Iterate through all of the authenticated user's friends\n",
    "for friend in tweepy.Cursor(api.friends).items():\n",
    "    # Process the friend here\n",
    "    print(friend.name)"
   ]
  },
  {
   "cell_type": "code",
   "execution_count": 44,
   "metadata": {},
   "outputs": [
    {
     "data": {
      "text/plain": [
       "Status(_api=<tweepy.api.API object at 0x000002646228F520>, _json={'created_at': 'Wed Jul 14 15:33:13 +0000 2021', 'id': 1415333571229896711, 'id_str': '1415333571229896711', 'text': 'This afternoon, I’ll be meeting with a bipartisan group of governors and mayors to discuss the Bipartisan Infrastru… https://t.co/GfPz76qqWs', 'truncated': True, 'entities': {'hashtags': [], 'symbols': [], 'user_mentions': [], 'urls': [{'url': 'https://t.co/GfPz76qqWs', 'expanded_url': 'https://twitter.com/i/web/status/1415333571229896711', 'display_url': 'twitter.com/i/web/status/1…', 'indices': [117, 140]}]}, 'source': '<a href=\"https://www.sprinklr.com\" rel=\"nofollow\">The White House</a>', 'in_reply_to_status_id': None, 'in_reply_to_status_id_str': None, 'in_reply_to_user_id': None, 'in_reply_to_user_id_str': None, 'in_reply_to_screen_name': None, 'user': {'id': 1349149096909668363, 'id_str': '1349149096909668363', 'name': 'President Biden', 'screen_name': 'POTUS', 'location': '', 'description': '46th President of the United States, husband to @FLOTUS, proud dad & pop. Tweets may be archived: https://t.co/IURuMIrzxb', 'url': 'https://t.co/IxLjEB2zlE', 'entities': {'url': {'urls': [{'url': 'https://t.co/IxLjEB2zlE', 'expanded_url': 'http://WhiteHouse.gov', 'display_url': 'WhiteHouse.gov', 'indices': [0, 23]}]}, 'description': {'urls': [{'url': 'https://t.co/IURuMIrzxb', 'expanded_url': 'http://whitehouse.gov/privacy', 'display_url': 'whitehouse.gov/privacy', 'indices': [98, 121]}]}}, 'protected': False, 'followers_count': 12628087, 'friends_count': 12, 'listed_count': 12359, 'created_at': 'Wed Jan 13 00:37:08 +0000 2021', 'favourites_count': 0, 'utc_offset': None, 'time_zone': None, 'geo_enabled': False, 'verified': True, 'statuses_count': 1106, 'lang': None, 'contributors_enabled': False, 'is_translator': False, 'is_translation_enabled': False, 'profile_background_color': 'F5F8FA', 'profile_background_image_url': None, 'profile_background_image_url_https': None, 'profile_background_tile': False, 'profile_image_url': 'http://pbs.twimg.com/profile_images/1380530524779859970/TfwVAbyX_normal.jpg', 'profile_image_url_https': 'https://pbs.twimg.com/profile_images/1380530524779859970/TfwVAbyX_normal.jpg', 'profile_banner_url': 'https://pbs.twimg.com/profile_banners/1349149096909668363/1625108660', 'profile_link_color': '1DA1F2', 'profile_sidebar_border_color': 'C0DEED', 'profile_sidebar_fill_color': 'DDEEF6', 'profile_text_color': '333333', 'profile_use_background_image': True, 'has_extended_profile': True, 'default_profile': True, 'default_profile_image': False, 'following': False, 'follow_request_sent': False, 'notifications': False, 'translator_type': 'none', 'withheld_in_countries': []}, 'geo': None, 'coordinates': None, 'place': None, 'contributors': None, 'is_quote_status': False, 'retweet_count': 3284, 'favorite_count': 25473, 'favorited': False, 'retweeted': False, 'lang': 'en'}, created_at=datetime.datetime(2021, 7, 14, 15, 33, 13), id=1415333571229896711, id_str='1415333571229896711', text='This afternoon, I’ll be meeting with a bipartisan group of governors and mayors to discuss the Bipartisan Infrastru… https://t.co/GfPz76qqWs', truncated=True, entities={'hashtags': [], 'symbols': [], 'user_mentions': [], 'urls': [{'url': 'https://t.co/GfPz76qqWs', 'expanded_url': 'https://twitter.com/i/web/status/1415333571229896711', 'display_url': 'twitter.com/i/web/status/1…', 'indices': [117, 140]}]}, source='The White House', source_url='https://www.sprinklr.com', in_reply_to_status_id=None, in_reply_to_status_id_str=None, in_reply_to_user_id=None, in_reply_to_user_id_str=None, in_reply_to_screen_name=None, author=User(_api=<tweepy.api.API object at 0x000002646228F520>, _json={'id': 1349149096909668363, 'id_str': '1349149096909668363', 'name': 'President Biden', 'screen_name': 'POTUS', 'location': '', 'description': '46th President of the United States, husband to @FLOTUS, proud dad & pop. Tweets may be archived: https://t.co/IURuMIrzxb', 'url': 'https://t.co/IxLjEB2zlE', 'entities': {'url': {'urls': [{'url': 'https://t.co/IxLjEB2zlE', 'expanded_url': 'http://WhiteHouse.gov', 'display_url': 'WhiteHouse.gov', 'indices': [0, 23]}]}, 'description': {'urls': [{'url': 'https://t.co/IURuMIrzxb', 'expanded_url': 'http://whitehouse.gov/privacy', 'display_url': 'whitehouse.gov/privacy', 'indices': [98, 121]}]}}, 'protected': False, 'followers_count': 12628087, 'friends_count': 12, 'listed_count': 12359, 'created_at': 'Wed Jan 13 00:37:08 +0000 2021', 'favourites_count': 0, 'utc_offset': None, 'time_zone': None, 'geo_enabled': False, 'verified': True, 'statuses_count': 1106, 'lang': None, 'contributors_enabled': False, 'is_translator': False, 'is_translation_enabled': False, 'profile_background_color': 'F5F8FA', 'profile_background_image_url': None, 'profile_background_image_url_https': None, 'profile_background_tile': False, 'profile_image_url': 'http://pbs.twimg.com/profile_images/1380530524779859970/TfwVAbyX_normal.jpg', 'profile_image_url_https': 'https://pbs.twimg.com/profile_images/1380530524779859970/TfwVAbyX_normal.jpg', 'profile_banner_url': 'https://pbs.twimg.com/profile_banners/1349149096909668363/1625108660', 'profile_link_color': '1DA1F2', 'profile_sidebar_border_color': 'C0DEED', 'profile_sidebar_fill_color': 'DDEEF6', 'profile_text_color': '333333', 'profile_use_background_image': True, 'has_extended_profile': True, 'default_profile': True, 'default_profile_image': False, 'following': False, 'follow_request_sent': False, 'notifications': False, 'translator_type': 'none', 'withheld_in_countries': []}, id=1349149096909668363, id_str='1349149096909668363', name='President Biden', screen_name='POTUS', location='', description='46th President of the United States, husband to @FLOTUS, proud dad & pop. Tweets may be archived: https://t.co/IURuMIrzxb', url='https://t.co/IxLjEB2zlE', entities={'url': {'urls': [{'url': 'https://t.co/IxLjEB2zlE', 'expanded_url': 'http://WhiteHouse.gov', 'display_url': 'WhiteHouse.gov', 'indices': [0, 23]}]}, 'description': {'urls': [{'url': 'https://t.co/IURuMIrzxb', 'expanded_url': 'http://whitehouse.gov/privacy', 'display_url': 'whitehouse.gov/privacy', 'indices': [98, 121]}]}}, protected=False, followers_count=12628087, friends_count=12, listed_count=12359, created_at=datetime.datetime(2021, 1, 13, 0, 37, 8), favourites_count=0, utc_offset=None, time_zone=None, geo_enabled=False, verified=True, statuses_count=1106, lang=None, contributors_enabled=False, is_translator=False, is_translation_enabled=False, profile_background_color='F5F8FA', profile_background_image_url=None, profile_background_image_url_https=None, profile_background_tile=False, profile_image_url='http://pbs.twimg.com/profile_images/1380530524779859970/TfwVAbyX_normal.jpg', profile_image_url_https='https://pbs.twimg.com/profile_images/1380530524779859970/TfwVAbyX_normal.jpg', profile_banner_url='https://pbs.twimg.com/profile_banners/1349149096909668363/1625108660', profile_link_color='1DA1F2', profile_sidebar_border_color='C0DEED', profile_sidebar_fill_color='DDEEF6', profile_text_color='333333', profile_use_background_image=True, has_extended_profile=True, default_profile=True, default_profile_image=False, following=False, follow_request_sent=False, notifications=False, translator_type='none', withheld_in_countries=[]), user=User(_api=<tweepy.api.API object at 0x000002646228F520>, _json={'id': 1349149096909668363, 'id_str': '1349149096909668363', 'name': 'President Biden', 'screen_name': 'POTUS', 'location': '', 'description': '46th President of the United States, husband to @FLOTUS, proud dad & pop. Tweets may be archived: https://t.co/IURuMIrzxb', 'url': 'https://t.co/IxLjEB2zlE', 'entities': {'url': {'urls': [{'url': 'https://t.co/IxLjEB2zlE', 'expanded_url': 'http://WhiteHouse.gov', 'display_url': 'WhiteHouse.gov', 'indices': [0, 23]}]}, 'description': {'urls': [{'url': 'https://t.co/IURuMIrzxb', 'expanded_url': 'http://whitehouse.gov/privacy', 'display_url': 'whitehouse.gov/privacy', 'indices': [98, 121]}]}}, 'protected': False, 'followers_count': 12628087, 'friends_count': 12, 'listed_count': 12359, 'created_at': 'Wed Jan 13 00:37:08 +0000 2021', 'favourites_count': 0, 'utc_offset': None, 'time_zone': None, 'geo_enabled': False, 'verified': True, 'statuses_count': 1106, 'lang': None, 'contributors_enabled': False, 'is_translator': False, 'is_translation_enabled': False, 'profile_background_color': 'F5F8FA', 'profile_background_image_url': None, 'profile_background_image_url_https': None, 'profile_background_tile': False, 'profile_image_url': 'http://pbs.twimg.com/profile_images/1380530524779859970/TfwVAbyX_normal.jpg', 'profile_image_url_https': 'https://pbs.twimg.com/profile_images/1380530524779859970/TfwVAbyX_normal.jpg', 'profile_banner_url': 'https://pbs.twimg.com/profile_banners/1349149096909668363/1625108660', 'profile_link_color': '1DA1F2', 'profile_sidebar_border_color': 'C0DEED', 'profile_sidebar_fill_color': 'DDEEF6', 'profile_text_color': '333333', 'profile_use_background_image': True, 'has_extended_profile': True, 'default_profile': True, 'default_profile_image': False, 'following': False, 'follow_request_sent': False, 'notifications': False, 'translator_type': 'none', 'withheld_in_countries': []}, id=1349149096909668363, id_str='1349149096909668363', name='President Biden', screen_name='POTUS', location='', description='46th President of the United States, husband to @FLOTUS, proud dad & pop. Tweets may be archived: https://t.co/IURuMIrzxb', url='https://t.co/IxLjEB2zlE', entities={'url': {'urls': [{'url': 'https://t.co/IxLjEB2zlE', 'expanded_url': 'http://WhiteHouse.gov', 'display_url': 'WhiteHouse.gov', 'indices': [0, 23]}]}, 'description': {'urls': [{'url': 'https://t.co/IURuMIrzxb', 'expanded_url': 'http://whitehouse.gov/privacy', 'display_url': 'whitehouse.gov/privacy', 'indices': [98, 121]}]}}, protected=False, followers_count=12628087, friends_count=12, listed_count=12359, created_at=datetime.datetime(2021, 1, 13, 0, 37, 8), favourites_count=0, utc_offset=None, time_zone=None, geo_enabled=False, verified=True, statuses_count=1106, lang=None, contributors_enabled=False, is_translator=False, is_translation_enabled=False, profile_background_color='F5F8FA', profile_background_image_url=None, profile_background_image_url_https=None, profile_background_tile=False, profile_image_url='http://pbs.twimg.com/profile_images/1380530524779859970/TfwVAbyX_normal.jpg', profile_image_url_https='https://pbs.twimg.com/profile_images/1380530524779859970/TfwVAbyX_normal.jpg', profile_banner_url='https://pbs.twimg.com/profile_banners/1349149096909668363/1625108660', profile_link_color='1DA1F2', profile_sidebar_border_color='C0DEED', profile_sidebar_fill_color='DDEEF6', profile_text_color='333333', profile_use_background_image=True, has_extended_profile=True, default_profile=True, default_profile_image=False, following=False, follow_request_sent=False, notifications=False, translator_type='none', withheld_in_countries=[]), geo=None, coordinates=None, place=None, contributors=None, is_quote_status=False, retweet_count=3284, favorite_count=25473, favorited=False, retweeted=False, lang='en')"
      ]
     },
     "execution_count": 44,
     "metadata": {},
     "output_type": "execute_result"
    }
   ],
   "source": [
    "tweet"
   ]
  },
  {
   "cell_type": "code",
   "execution_count": 45,
   "metadata": {},
   "outputs": [],
   "source": [
    "import pandas as pd\n",
    "# fuction to extract data from tweet object\n",
    "def extract_tweet_attributes(tweet_object):\n",
    "    # create empty list\n",
    "    tweet_list =[]\n",
    "    # loop through tweet objects\n",
    "    for tweet in tweet_object:\n",
    "        tweet_id = tweet.id # unique integer identifier for tweet\n",
    "        text = tweet.text # utf-8 text of tweet\n",
    "        favorite_count = tweet.favorite_count\n",
    "        retweet_count = tweet.retweet_count\n",
    "        created_at = tweet.created_at # utc time tweet created\n",
    "        source = tweet.source # utility used to post tweet\n",
    "        reply_to_status = tweet.in_reply_to_status_id # if reply int of orginal tweet id\n",
    "        reply_to_user = tweet.in_reply_to_screen_name # if reply original tweetes screenname\n",
    "        retweets = tweet.retweet_count # number of times this tweet retweeted\n",
    "        favorites = tweet.favorite_count # number of time this tweet liked\n",
    "        # append attributes to list\n",
    "        tweet_list.append({'tweet_id':tweet_id, \n",
    "                          'text':text, \n",
    "                          'favorite_count':favorite_count,\n",
    "                          'retweet_count':retweet_count,\n",
    "                          'created_at':created_at, \n",
    "                          'source':source, \n",
    "                          'reply_to_status':reply_to_status, \n",
    "                          'reply_to_user':reply_to_user,\n",
    "                          'retweets':retweets,\n",
    "                          'favorites':favorites})\n",
    "    # create dataframe   \n",
    "    df = pd.DataFrame(tweet_list, columns=['tweet_id',\n",
    "                                           'text',\n",
    "                                           'favorite_count',\n",
    "                                           'retweet_count',\n",
    "                                           'created_at',\n",
    "                                           'source',\n",
    "                                           'reply_to_status',\n",
    "                                           'reply_to_user',\n",
    "                                           'retweets',\n",
    "                                           'favorites'])\n",
    "    return df\n",
    "\n",
    "\n",
    "df = extract_tweet_attributes(tweets)"
   ]
  },
  {
   "cell_type": "code",
   "execution_count": 46,
   "metadata": {},
   "outputs": [
    {
     "data": {
      "text/html": [
       "<div>\n",
       "<style scoped>\n",
       "    .dataframe tbody tr th:only-of-type {\n",
       "        vertical-align: middle;\n",
       "    }\n",
       "\n",
       "    .dataframe tbody tr th {\n",
       "        vertical-align: top;\n",
       "    }\n",
       "\n",
       "    .dataframe thead th {\n",
       "        text-align: right;\n",
       "    }\n",
       "</style>\n",
       "<table border=\"1\" class=\"dataframe\">\n",
       "  <thead>\n",
       "    <tr style=\"text-align: right;\">\n",
       "      <th></th>\n",
       "      <th>tweet_id</th>\n",
       "      <th>text</th>\n",
       "      <th>favorite_count</th>\n",
       "      <th>retweet_count</th>\n",
       "      <th>created_at</th>\n",
       "      <th>source</th>\n",
       "      <th>reply_to_status</th>\n",
       "      <th>reply_to_user</th>\n",
       "      <th>retweets</th>\n",
       "      <th>favorites</th>\n",
       "    </tr>\n",
       "  </thead>\n",
       "  <tbody>\n",
       "    <tr>\n",
       "      <th>0</th>\n",
       "      <td>1416418588546805765</td>\n",
       "      <td>Read my full statement: \\n \\n https://t.co/mCl...</td>\n",
       "      <td>595</td>\n",
       "      <td>126</td>\n",
       "      <td>2021-07-17 15:24:41</td>\n",
       "      <td>The White House</td>\n",
       "      <td>1.416419e+18</td>\n",
       "      <td>POTUS</td>\n",
       "      <td>126</td>\n",
       "      <td>595</td>\n",
       "    </tr>\n",
       "    <tr>\n",
       "      <th>1</th>\n",
       "      <td>1416418580653039625</td>\n",
       "      <td>Yesterday’s Federal court ruling is deeply dis...</td>\n",
       "      <td>1396</td>\n",
       "      <td>285</td>\n",
       "      <td>2021-07-17 15:24:40</td>\n",
       "      <td>The White House</td>\n",
       "      <td>NaN</td>\n",
       "      <td>None</td>\n",
       "      <td>285</td>\n",
       "      <td>1396</td>\n",
       "    </tr>\n",
       "    <tr>\n",
       "      <th>2</th>\n",
       "      <td>1416123340079747082</td>\n",
       "      <td>The Build Back Better Agenda combined with the...</td>\n",
       "      <td>12216</td>\n",
       "      <td>1940</td>\n",
       "      <td>2021-07-16 19:51:29</td>\n",
       "      <td>The White House</td>\n",
       "      <td>NaN</td>\n",
       "      <td>None</td>\n",
       "      <td>1940</td>\n",
       "      <td>12216</td>\n",
       "    </tr>\n",
       "    <tr>\n",
       "      <th>3</th>\n",
       "      <td>1416104711955095552</td>\n",
       "      <td>The Build Back Better Agenda starts with educa...</td>\n",
       "      <td>32182</td>\n",
       "      <td>4596</td>\n",
       "      <td>2021-07-16 18:37:27</td>\n",
       "      <td>The White House</td>\n",
       "      <td>NaN</td>\n",
       "      <td>None</td>\n",
       "      <td>4596</td>\n",
       "      <td>32182</td>\n",
       "    </tr>\n",
       "    <tr>\n",
       "      <th>4</th>\n",
       "      <td>1416079414719307779</td>\n",
       "      <td>As the first woman chancellor, Angela Merkel’s...</td>\n",
       "      <td>71363</td>\n",
       "      <td>7304</td>\n",
       "      <td>2021-07-16 16:56:56</td>\n",
       "      <td>The White House</td>\n",
       "      <td>NaN</td>\n",
       "      <td>None</td>\n",
       "      <td>7304</td>\n",
       "      <td>71363</td>\n",
       "    </tr>\n",
       "  </tbody>\n",
       "</table>\n",
       "</div>"
      ],
      "text/plain": [
       "              tweet_id                                               text  \\\n",
       "0  1416418588546805765  Read my full statement: \\n \\n https://t.co/mCl...   \n",
       "1  1416418580653039625  Yesterday’s Federal court ruling is deeply dis...   \n",
       "2  1416123340079747082  The Build Back Better Agenda combined with the...   \n",
       "3  1416104711955095552  The Build Back Better Agenda starts with educa...   \n",
       "4  1416079414719307779  As the first woman chancellor, Angela Merkel’s...   \n",
       "\n",
       "   favorite_count  retweet_count          created_at           source  \\\n",
       "0             595            126 2021-07-17 15:24:41  The White House   \n",
       "1            1396            285 2021-07-17 15:24:40  The White House   \n",
       "2           12216           1940 2021-07-16 19:51:29  The White House   \n",
       "3           32182           4596 2021-07-16 18:37:27  The White House   \n",
       "4           71363           7304 2021-07-16 16:56:56  The White House   \n",
       "\n",
       "   reply_to_status reply_to_user  retweets  favorites  \n",
       "0     1.416419e+18         POTUS       126        595  \n",
       "1              NaN          None       285       1396  \n",
       "2              NaN          None      1940      12216  \n",
       "3              NaN          None      4596      32182  \n",
       "4              NaN          None      7304      71363  "
      ]
     },
     "execution_count": 46,
     "metadata": {},
     "output_type": "execute_result"
    }
   ],
   "source": [
    "df.head()"
   ]
  },
  {
   "cell_type": "code",
   "execution_count": 47,
   "metadata": {
    "scrolled": true
   },
   "outputs": [
    {
     "data": {
      "text/plain": [
       "0     Read my full statement: \\n \\n https://t.co/mCl...\n",
       "1     Yesterday’s Federal court ruling is deeply dis...\n",
       "2     The Build Back Better Agenda combined with the...\n",
       "3     The Build Back Better Agenda starts with educa...\n",
       "4     As the first woman chancellor, Angela Merkel’s...\n",
       "5     Folks, it’s never been more convenient or more...\n",
       "6     Under Chancellor Merkel, the friendship and co...\n",
       "7     It was an honor to welcome my dear friend Chan...\n",
       "8     Tune in as I host a press conference with Germ...\n",
       "9     There’s just one month left to sign up for hea...\n",
       "10    Today, help is here. And my Build Back Better ...\n",
       "11    To give you a sense of how transformative the ...\n",
       "12    The expanded Child Tax Credit is one of the la...\n",
       "13    Tune in as the Vice President and I deliver re...\n",
       "14    I look forward to welcoming German Chancellor ...\n",
       "15    My Build Back Better Agenda will provide acces...\n",
       "16    Today is a historic day for our country. Becau...\n",
       "17    Thanks for stopping by, Olivia, and for using ...\n",
       "18    Today, I stopped by Capitol Hill to continue m...\n",
       "19    This afternoon, I’ll be meeting with a biparti...\n",
       "Name: text, dtype: object"
      ]
     },
     "execution_count": 47,
     "metadata": {},
     "output_type": "execute_result"
    }
   ],
   "source": [
    "df['text']"
   ]
  },
  {
   "cell_type": "markdown",
   "metadata": {},
   "source": [
    "# Removing user handle "
   ]
  },
  {
   "cell_type": "code",
   "execution_count": 48,
   "metadata": {},
   "outputs": [
    {
     "data": {
      "text/plain": [
       "0     Read my full statement: \\n \\n https://t.co/mCl...\n",
       "1     Yesterday’s Federal court ruling is deeply dis...\n",
       "2     The Build Back Better Agenda combined with the...\n",
       "3     The Build Back Better Agenda starts with educa...\n",
       "4     As the first woman chancellor, Angela Merkel’s...\n",
       "5     Folks, it’s never been more convenient or more...\n",
       "6     Under Chancellor Merkel, the friendship and co...\n",
       "7     It was an honor to welcome my dear friend Chan...\n",
       "8     Tune in as I host a press conference with Germ...\n",
       "9     There’s just one month left to sign up for hea...\n",
       "10    Today, help is here. And my Build Back Better ...\n",
       "11    To give you a sense of how transformative the ...\n",
       "12    The expanded Child Tax Credit is one of the la...\n",
       "13    Tune in as the Vice President and I deliver re...\n",
       "14    I look forward to welcoming German Chancellor ...\n",
       "15    My Build Back Better Agenda will provide acces...\n",
       "16    Today is a historic day for our country. Becau...\n",
       "17    Thanks for stopping by, Olivia, and for using ...\n",
       "18    Today, I stopped by Capitol Hill to continue m...\n",
       "19    This afternoon, I’ll be meeting with a biparti...\n",
       "Name: tidy_tweet, dtype: object"
      ]
     },
     "execution_count": 48,
     "metadata": {},
     "output_type": "execute_result"
    }
   ],
   "source": [
    "# removing user handle \n",
    "df['tidy_tweet'] = df['text'].replace(to_replace ='(@[\\w]+)', value ='', regex = True) # removal of @tag\n",
    "df['tidy_tweet'] = df['tidy_tweet'].replace(to_replace =('RT'), value ='',regex = False) #Retweet\n",
    "df['tidy_tweet']"
   ]
  },
  {
   "cell_type": "markdown",
   "metadata": {},
   "source": [
    "# Remove any links from the tweet"
   ]
  },
  {
   "cell_type": "code",
   "execution_count": 49,
   "metadata": {},
   "outputs": [
    {
     "data": {
      "text/plain": [
       "0                       Read my full statement: \\n \\n \u0000\n",
       "1     Yesterday’s Federal court ruling is deeply dis...\n",
       "2     The Build Back Better Agenda combined with the...\n",
       "3     The Build Back Better Agenda starts with educa...\n",
       "4     As the first woman chancellor, Angela Merkel’s...\n",
       "5     Folks, it’s never been more convenient or more...\n",
       "6     Under Chancellor Merkel, the friendship and co...\n",
       "7     It was an honor to welcome my dear friend Chan...\n",
       "8     Tune in as I host a press conference with Germ...\n",
       "9     There’s just one month left to sign up for hea...\n",
       "10    Today, help is here. And my Build Back Better ...\n",
       "11    To give you a sense of how transformative the ...\n",
       "12    The expanded Child Tax Credit is one of the la...\n",
       "13    Tune in as the Vice President and I deliver re...\n",
       "14    I look forward to welcoming German Chancellor ...\n",
       "15    My Build Back Better Agenda will provide acces...\n",
       "16    Today is a historic day for our country. Becau...\n",
       "17    Thanks for stopping by, Olivia, and for using ...\n",
       "18    Today, I stopped by Capitol Hill to continue m...\n",
       "19    This afternoon, I’ll be meeting with a biparti...\n",
       "Name: tidy_tweet, dtype: object"
      ]
     },
     "execution_count": 49,
     "metadata": {},
     "output_type": "execute_result"
    }
   ],
   "source": [
    "#remove any links from the tweet: Links not required for performing sentiment analysis.\n",
    "df['tidy_tweet'] = df['tidy_tweet'].str.replace('((www\\.[\\s]+)|(https?://[^\\s]+))','\\0',regex=True) # remove www or https links\n",
    "df['tidy_tweet']"
   ]
  },
  {
   "cell_type": "markdown",
   "metadata": {},
   "source": [
    "# Remove special characters, numbers, punctuations:"
   ]
  },
  {
   "cell_type": "code",
   "execution_count": 50,
   "metadata": {},
   "outputs": [],
   "source": [
    "# remove special characters, numbers, punctuations: None of them would add any value to the sentiment score.\n",
    "df['tidy_tweet'] = df['tidy_tweet'].str.replace(\"[^a-zA-Z]+\", \" \",regex=True)"
   ]
  },
  {
   "cell_type": "code",
   "execution_count": 51,
   "metadata": {},
   "outputs": [
    {
     "data": {
      "text/plain": [
       "0                               Read my full statement \n",
       "1     Yesterday s Federal court ruling is deeply dis...\n",
       "2     The Build Back Better Agenda combined with the...\n",
       "3     The Build Back Better Agenda starts with educa...\n",
       "4     As the first woman chancellor Angela Merkel s ...\n",
       "5     Folks it s never been more convenient or more ...\n",
       "6     Under Chancellor Merkel the friendship and coo...\n",
       "7     It was an honor to welcome my dear friend Chan...\n",
       "8     Tune in as I host a press conference with Germ...\n",
       "9     There s just one month left to sign up for hea...\n",
       "10    Today help is here And my Build Back Better Ag...\n",
       "11    To give you a sense of how transformative the ...\n",
       "12    The expanded Child Tax Credit is one of the la...\n",
       "13    Tune in as the Vice President and I deliver re...\n",
       "14    I look forward to welcoming German Chancellor ...\n",
       "15    My Build Back Better Agenda will provide acces...\n",
       "16    Today is a historic day for our country Becaus...\n",
       "17    Thanks for stopping by Olivia and for using yo...\n",
       "18    Today I stopped by Capitol Hill to continue ma...\n",
       "19    This afternoon I ll be meeting with a bipartis...\n",
       "Name: tidy_tweet, dtype: object"
      ]
     },
     "execution_count": 51,
     "metadata": {},
     "output_type": "execute_result"
    }
   ],
   "source": [
    "df['tidy_tweet']"
   ]
  },
  {
   "cell_type": "markdown",
   "metadata": {},
   "source": [
    "# Tokenising and removing Stop Words"
   ]
  },
  {
   "cell_type": "code",
   "execution_count": 52,
   "metadata": {},
   "outputs": [],
   "source": [
    "df[\"tidy_tweet\"] = df[\"tidy_tweet\"].str.lower()\n",
    "df[\"tidy_tweet\"] = df[\"tidy_tweet\"].str.split()\n",
    "from nltk.corpus import stopwords\n",
    "\n",
    "stop = stopwords.words('english')"
   ]
  },
  {
   "cell_type": "code",
   "execution_count": 53,
   "metadata": {},
   "outputs": [
    {
     "data": {
      "text/plain": [
       "0                               [read, full, statement]\n",
       "1     [yesterday, federal, court, ruling, deeply, di...\n",
       "2     [build, back, better, agenda, combined, bipart...\n",
       "3     [build, back, better, agenda, starts, educatio...\n",
       "4     [first, woman, chancellor, angela, merkel, lif...\n",
       "5     [folks, never, convenient, important, get, vac...\n",
       "6     [chancellor, merkel, friendship, cooperation, ...\n",
       "7     [honor, welcome, dear, friend, chancellor, mer...\n",
       "8     [tune, host, press, conference, german, chance...\n",
       "9     [one, month, left, sign, health, insurance, co...\n",
       "10    [today, help, build, back, better, agenda, kee...\n",
       "11    [give, sense, transformative, expanded, child,...\n",
       "12    [expanded, child, tax, credit, one, largest, e...\n",
       "13    [tune, vice, president, deliver, remarks, star...\n",
       "14    [look, forward, welcoming, german, chancellor,...\n",
       "15    [build, back, better, agenda, provide, access,...\n",
       "16    [today, historic, day, country, beginning, mor...\n",
       "17    [thanks, stopping, olivia, using, voice, urge,...\n",
       "18    [today, stopped, capitol, hill, continue, maki...\n",
       "19    [afternoon, meeting, bipartisan, group, govern...\n",
       "Name: tidy_tweet, dtype: object"
      ]
     },
     "execution_count": 53,
     "metadata": {},
     "output_type": "execute_result"
    }
   ],
   "source": [
    "df['tidy_tweet']=df['tidy_tweet'].apply(lambda x: [item for item in x if item not in stop])\n",
    "df['tidy_tweet']"
   ]
  },
  {
   "cell_type": "code",
   "execution_count": 56,
   "metadata": {},
   "outputs": [
    {
     "data": {
      "text/plain": [
       "['This',\n",
       " 'is',\n",
       " 'a',\n",
       " 'cooool',\n",
       " '#dummysmiley',\n",
       " ':',\n",
       " ':-)',\n",
       " ':-P',\n",
       " '<3',\n",
       " 'and',\n",
       " 'some',\n",
       " 'arrows',\n",
       " '<',\n",
       " '>',\n",
       " '->',\n",
       " '<--']"
      ]
     },
     "execution_count": 56,
     "metadata": {},
     "output_type": "execute_result"
    }
   ],
   "source": [
    "#Alternate Method: Using TweetTokenizer to tokenize the tweet\n",
    "from nltk.tokenize import TweetTokenizer\n",
    "\n",
    "tt = TweetTokenizer()\n",
    "s0 = \"This is a cooool #dummysmiley: :-) :-P <3 and some arrows < > -> <--\"\n",
    "tt.tokenize(s0)"
   ]
  },
  {
   "cell_type": "code",
   "execution_count": 54,
   "metadata": {},
   "outputs": [],
   "source": [
    "def rejoin_words(row):\n",
    "    my_list = row['tidy_tweet']\n",
    "    joined_words = ( \" \".join(my_list))\n",
    "    return joined_words\n",
    "\n",
    "df['tidy_tweet'] = df.apply(rejoin_words, axis=1)"
   ]
  },
  {
   "cell_type": "code",
   "execution_count": 55,
   "metadata": {},
   "outputs": [
    {
     "data": {
      "text/plain": [
       "0                                   read full statement\n",
       "1     yesterday federal court ruling deeply disappoi...\n",
       "2     build back better agenda combined bipartisan i...\n",
       "3     build back better agenda starts education goin...\n",
       "4     first woman chancellor angela merkel life one ...\n",
       "5     folks never convenient important get vaccinate...\n",
       "6     chancellor merkel friendship cooperation germa...\n",
       "7     honor welcome dear friend chancellor merkel wh...\n",
       "8     tune host press conference german chancellor a...\n",
       "9       one month left sign health insurance costs time\n",
       "10    today help build back better agenda keeps tax ...\n",
       "11    give sense transformative expanded child tax c...\n",
       "12    expanded child tax credit one largest ever sin...\n",
       "13    tune vice president deliver remarks start mont...\n",
       "14    look forward welcoming german chancellor angel...\n",
       "15    build back better agenda provide access qualit...\n",
       "16    today historic day country beginning morning n...\n",
       "17    thanks stopping olivia using voice urge young ...\n",
       "18    today stopped capitol hill continue making cas...\n",
       "19    afternoon meeting bipartisan group governors m...\n",
       "Name: tidy_tweet, dtype: object"
      ]
     },
     "execution_count": 55,
     "metadata": {},
     "output_type": "execute_result"
    }
   ],
   "source": [
    "df['tidy_tweet']"
   ]
  },
  {
   "cell_type": "markdown",
   "metadata": {},
   "source": [
    "# Applying Lemmatization"
   ]
  },
  {
   "cell_type": "code",
   "execution_count": 57,
   "metadata": {},
   "outputs": [],
   "source": [
    "import nltk\n",
    "w_tokenizer = nltk.tokenize.WhitespaceTokenizer() # tokenize based on spaces, /t or /n\n",
    "lemmatizer = nltk.stem.WordNetLemmatizer()\n",
    "\n",
    "def lemmatize_text(text):\n",
    "    return [lemmatizer.lemmatize(w) for w in w_tokenizer.tokenize(text)]\n",
    "\n",
    "df['tidy_tweet'] = df['tidy_tweet'].apply(lemmatize_text)"
   ]
  },
  {
   "cell_type": "code",
   "execution_count": 58,
   "metadata": {},
   "outputs": [
    {
     "data": {
      "text/plain": [
       "0                               [read, full, statement]\n",
       "1     [yesterday, federal, court, ruling, deeply, di...\n",
       "2     [build, back, better, agenda, combined, bipart...\n",
       "3     [build, back, better, agenda, start, education...\n",
       "4     [first, woman, chancellor, angela, merkel, lif...\n",
       "5     [folk, never, convenient, important, get, vacc...\n",
       "6     [chancellor, merkel, friendship, cooperation, ...\n",
       "7     [honor, welcome, dear, friend, chancellor, mer...\n",
       "8     [tune, host, press, conference, german, chance...\n",
       "9     [one, month, left, sign, health, insurance, co...\n",
       "10    [today, help, build, back, better, agenda, kee...\n",
       "11    [give, sense, transformative, expanded, child,...\n",
       "12    [expanded, child, tax, credit, one, largest, e...\n",
       "13    [tune, vice, president, deliver, remark, start...\n",
       "14    [look, forward, welcoming, german, chancellor,...\n",
       "15    [build, back, better, agenda, provide, access,...\n",
       "16    [today, historic, day, country, beginning, mor...\n",
       "17    [thanks, stopping, olivia, using, voice, urge,...\n",
       "18    [today, stopped, capitol, hill, continue, maki...\n",
       "19    [afternoon, meeting, bipartisan, group, govern...\n",
       "Name: tidy_tweet, dtype: object"
      ]
     },
     "execution_count": 58,
     "metadata": {},
     "output_type": "execute_result"
    }
   ],
   "source": [
    "df['tidy_tweet']"
   ]
  },
  {
   "cell_type": "code",
   "execution_count": 59,
   "metadata": {},
   "outputs": [],
   "source": [
    "def rejoin_words(row):\n",
    "    my_list = row['tidy_tweet']\n",
    "    joined_words = ( \" \".join(my_list))\n",
    "    return joined_words\n",
    "\n",
    "df['tidy_tweet'] = df.apply(rejoin_words, axis=1)"
   ]
  },
  {
   "cell_type": "code",
   "execution_count": 60,
   "metadata": {},
   "outputs": [
    {
     "data": {
      "text/plain": [
       "0                                   read full statement\n",
       "1     yesterday federal court ruling deeply disappoi...\n",
       "2     build back better agenda combined bipartisan i...\n",
       "3     build back better agenda start education going...\n",
       "4     first woman chancellor angela merkel life one ...\n",
       "5     folk never convenient important get vaccinated...\n",
       "6     chancellor merkel friendship cooperation germa...\n",
       "7     honor welcome dear friend chancellor merkel wh...\n",
       "8     tune host press conference german chancellor a...\n",
       "9        one month left sign health insurance cost time\n",
       "10    today help build back better agenda keep tax c...\n",
       "11    give sense transformative expanded child tax c...\n",
       "12    expanded child tax credit one largest ever sin...\n",
       "13    tune vice president deliver remark start month...\n",
       "14    look forward welcoming german chancellor angel...\n",
       "15    build back better agenda provide access qualit...\n",
       "16    today historic day country beginning morning n...\n",
       "17    thanks stopping olivia using voice urge young ...\n",
       "18    today stopped capitol hill continue making cas...\n",
       "19    afternoon meeting bipartisan group governor ma...\n",
       "Name: tidy_tweet, dtype: object"
      ]
     },
     "execution_count": 60,
     "metadata": {},
     "output_type": "execute_result"
    }
   ],
   "source": [
    "df['tidy_tweet']"
   ]
  },
  {
   "cell_type": "code",
   "execution_count": 61,
   "metadata": {},
   "outputs": [
    {
     "data": {
      "text/html": [
       "<div>\n",
       "<style scoped>\n",
       "    .dataframe tbody tr th:only-of-type {\n",
       "        vertical-align: middle;\n",
       "    }\n",
       "\n",
       "    .dataframe tbody tr th {\n",
       "        vertical-align: top;\n",
       "    }\n",
       "\n",
       "    .dataframe thead th {\n",
       "        text-align: right;\n",
       "    }\n",
       "</style>\n",
       "<table border=\"1\" class=\"dataframe\">\n",
       "  <thead>\n",
       "    <tr style=\"text-align: right;\">\n",
       "      <th></th>\n",
       "      <th>tweet_id</th>\n",
       "      <th>text</th>\n",
       "      <th>favorite_count</th>\n",
       "      <th>retweet_count</th>\n",
       "      <th>created_at</th>\n",
       "      <th>source</th>\n",
       "      <th>reply_to_status</th>\n",
       "      <th>reply_to_user</th>\n",
       "      <th>retweets</th>\n",
       "      <th>favorites</th>\n",
       "      <th>tidy_tweet</th>\n",
       "    </tr>\n",
       "  </thead>\n",
       "  <tbody>\n",
       "    <tr>\n",
       "      <th>0</th>\n",
       "      <td>1416418588546805765</td>\n",
       "      <td>Read my full statement: \\n \\n https://t.co/mCl...</td>\n",
       "      <td>595</td>\n",
       "      <td>126</td>\n",
       "      <td>2021-07-17 15:24:41</td>\n",
       "      <td>The White House</td>\n",
       "      <td>1.416419e+18</td>\n",
       "      <td>POTUS</td>\n",
       "      <td>126</td>\n",
       "      <td>595</td>\n",
       "      <td>read full statement</td>\n",
       "    </tr>\n",
       "    <tr>\n",
       "      <th>1</th>\n",
       "      <td>1416418580653039625</td>\n",
       "      <td>Yesterday’s Federal court ruling is deeply dis...</td>\n",
       "      <td>1396</td>\n",
       "      <td>285</td>\n",
       "      <td>2021-07-17 15:24:40</td>\n",
       "      <td>The White House</td>\n",
       "      <td>NaN</td>\n",
       "      <td>None</td>\n",
       "      <td>285</td>\n",
       "      <td>1396</td>\n",
       "      <td>yesterday federal court ruling deeply disappoi...</td>\n",
       "    </tr>\n",
       "    <tr>\n",
       "      <th>2</th>\n",
       "      <td>1416123340079747082</td>\n",
       "      <td>The Build Back Better Agenda combined with the...</td>\n",
       "      <td>12216</td>\n",
       "      <td>1940</td>\n",
       "      <td>2021-07-16 19:51:29</td>\n",
       "      <td>The White House</td>\n",
       "      <td>NaN</td>\n",
       "      <td>None</td>\n",
       "      <td>1940</td>\n",
       "      <td>12216</td>\n",
       "      <td>build back better agenda combined bipartisan i...</td>\n",
       "    </tr>\n",
       "    <tr>\n",
       "      <th>3</th>\n",
       "      <td>1416104711955095552</td>\n",
       "      <td>The Build Back Better Agenda starts with educa...</td>\n",
       "      <td>32182</td>\n",
       "      <td>4596</td>\n",
       "      <td>2021-07-16 18:37:27</td>\n",
       "      <td>The White House</td>\n",
       "      <td>NaN</td>\n",
       "      <td>None</td>\n",
       "      <td>4596</td>\n",
       "      <td>32182</td>\n",
       "      <td>build back better agenda start education going...</td>\n",
       "    </tr>\n",
       "    <tr>\n",
       "      <th>4</th>\n",
       "      <td>1416079414719307779</td>\n",
       "      <td>As the first woman chancellor, Angela Merkel’s...</td>\n",
       "      <td>71363</td>\n",
       "      <td>7304</td>\n",
       "      <td>2021-07-16 16:56:56</td>\n",
       "      <td>The White House</td>\n",
       "      <td>NaN</td>\n",
       "      <td>None</td>\n",
       "      <td>7304</td>\n",
       "      <td>71363</td>\n",
       "      <td>first woman chancellor angela merkel life one ...</td>\n",
       "    </tr>\n",
       "  </tbody>\n",
       "</table>\n",
       "</div>"
      ],
      "text/plain": [
       "              tweet_id                                               text  \\\n",
       "0  1416418588546805765  Read my full statement: \\n \\n https://t.co/mCl...   \n",
       "1  1416418580653039625  Yesterday’s Federal court ruling is deeply dis...   \n",
       "2  1416123340079747082  The Build Back Better Agenda combined with the...   \n",
       "3  1416104711955095552  The Build Back Better Agenda starts with educa...   \n",
       "4  1416079414719307779  As the first woman chancellor, Angela Merkel’s...   \n",
       "\n",
       "   favorite_count  retweet_count          created_at           source  \\\n",
       "0             595            126 2021-07-17 15:24:41  The White House   \n",
       "1            1396            285 2021-07-17 15:24:40  The White House   \n",
       "2           12216           1940 2021-07-16 19:51:29  The White House   \n",
       "3           32182           4596 2021-07-16 18:37:27  The White House   \n",
       "4           71363           7304 2021-07-16 16:56:56  The White House   \n",
       "\n",
       "   reply_to_status reply_to_user  retweets  favorites  \\\n",
       "0     1.416419e+18         POTUS       126        595   \n",
       "1              NaN          None       285       1396   \n",
       "2              NaN          None      1940      12216   \n",
       "3              NaN          None      4596      32182   \n",
       "4              NaN          None      7304      71363   \n",
       "\n",
       "                                          tidy_tweet  \n",
       "0                                read full statement  \n",
       "1  yesterday federal court ruling deeply disappoi...  \n",
       "2  build back better agenda combined bipartisan i...  \n",
       "3  build back better agenda start education going...  \n",
       "4  first woman chancellor angela merkel life one ...  "
      ]
     },
     "execution_count": 61,
     "metadata": {},
     "output_type": "execute_result"
    }
   ],
   "source": [
    "df.head()"
   ]
  },
  {
   "cell_type": "code",
   "execution_count": 62,
   "metadata": {},
   "outputs": [
    {
     "data": {
      "text/plain": [
       "tweet_id            0\n",
       "text                0\n",
       "favorite_count      0\n",
       "retweet_count       0\n",
       "created_at          0\n",
       "source              0\n",
       "reply_to_status    19\n",
       "reply_to_user      19\n",
       "retweets            0\n",
       "favorites           0\n",
       "tidy_tweet          0\n",
       "dtype: int64"
      ]
     },
     "execution_count": 62,
     "metadata": {},
     "output_type": "execute_result"
    }
   ],
   "source": [
    "df.isnull().sum()"
   ]
  },
  {
   "cell_type": "markdown",
   "metadata": {},
   "source": [
    "# Check the Sentiment using TextBlob"
   ]
  },
  {
   "cell_type": "code",
   "execution_count": 45,
   "metadata": {},
   "outputs": [],
   "source": [
    "#!pip install textblob"
   ]
  },
  {
   "cell_type": "code",
   "execution_count": null,
   "metadata": {},
   "outputs": [],
   "source": [
    "# https://textblob.readthedocs.io/en/dev/"
   ]
  },
  {
   "cell_type": "code",
   "execution_count": 75,
   "metadata": {},
   "outputs": [],
   "source": [
    "from textblob import TextBlob\n",
    "df[['polarity', 'subjectivity']] = df['tidy_tweet'].apply(lambda Text: pd.Series(TextBlob(Text).sentiment))"
   ]
  },
  {
   "cell_type": "code",
   "execution_count": 64,
   "metadata": {},
   "outputs": [
    {
     "data": {
      "text/plain": [
       "'\\nThe sentiment property returns a namedtuple of the form Sentiment(polarity, subjectivity). \\nThe polarity score is a float within the range [-1.0, 1.0]. \\nThe subjectivity is a float within the range [0.0, 1.0] where 0.0 is very objective \\nand 1.0 is very subjective\\n'"
      ]
     },
     "execution_count": 64,
     "metadata": {},
     "output_type": "execute_result"
    }
   ],
   "source": [
    "\"\"\"\n",
    "The sentiment property returns a namedtuple of the form Sentiment(polarity, subjectivity). \n",
    "The polarity score is a float within the range [-1.0, 1.0]. \n",
    "The subjectivity is a float within the range [0.0, 1.0] where 0.0 is very objective \n",
    "and 1.0 is very subjective\n",
    "\"\"\";"
   ]
  },
  {
   "cell_type": "code",
   "execution_count": 69,
   "metadata": {},
   "outputs": [
    {
     "data": {
      "text/plain": [
       "Sentiment(polarity=0.85, subjectivity=1.0)"
      ]
     },
     "execution_count": 69,
     "metadata": {},
     "output_type": "execute_result"
    }
   ],
   "source": [
    "sent = \"This is a beautiful picture\"\n",
    "TextBlob(sent).sentiment"
   ]
  },
  {
   "cell_type": "code",
   "execution_count": 70,
   "metadata": {},
   "outputs": [
    {
     "data": {
      "text/plain": [
       "Sentiment(polarity=0.0, subjectivity=0.0)"
      ]
     },
     "execution_count": 70,
     "metadata": {},
     "output_type": "execute_result"
    }
   ],
   "source": [
    "sent = \"you have to perform sentiment analysis\"\n",
    "TextBlob(sent).sentiment"
   ]
  },
  {
   "cell_type": "code",
   "execution_count": 82,
   "metadata": {},
   "outputs": [
    {
     "data": {
      "text/plain": [
       "Sentiment(polarity=-0.5722222222222223, subjectivity=1.0)"
      ]
     },
     "execution_count": 82,
     "metadata": {},
     "output_type": "execute_result"
    }
   ],
   "source": [
    "sent = \"This is a beautiful picture :( :( :( :( :( :( :( :( \"\n",
    "TextBlob(sent).sentiment"
   ]
  },
  {
   "cell_type": "code",
   "execution_count": 72,
   "metadata": {},
   "outputs": [
    {
     "data": {
      "text/plain": [
       "Sentiment(polarity=0.925, subjectivity=1.0)"
      ]
     },
     "execution_count": 72,
     "metadata": {},
     "output_type": "execute_result"
    }
   ],
   "source": [
    "sent = \"This is a beautiful picture :D\"\n",
    "TextBlob(sent).sentiment"
   ]
  },
  {
   "cell_type": "code",
   "execution_count": 73,
   "metadata": {},
   "outputs": [
    {
     "data": {
      "text/plain": [
       "Sentiment(polarity=-1.0, subjectivity=1.0)"
      ]
     },
     "execution_count": 73,
     "metadata": {},
     "output_type": "execute_result"
    }
   ],
   "source": [
    "sent = \"this is a worst movie\"\n",
    "TextBlob(sent).sentiment"
   ]
  },
  {
   "cell_type": "code",
   "execution_count": 74,
   "metadata": {},
   "outputs": [
    {
     "data": {
      "text/plain": [
       "Sentiment(polarity=-1.0, subjectivity=1.0)"
      ]
     },
     "execution_count": 74,
     "metadata": {},
     "output_type": "execute_result"
    }
   ],
   "source": [
    "sent = \"worst movie should not be shown\"\n",
    "TextBlob(sent).sentiment"
   ]
  },
  {
   "cell_type": "code",
   "execution_count": 76,
   "metadata": {},
   "outputs": [
    {
     "data": {
      "text/html": [
       "<div>\n",
       "<style scoped>\n",
       "    .dataframe tbody tr th:only-of-type {\n",
       "        vertical-align: middle;\n",
       "    }\n",
       "\n",
       "    .dataframe tbody tr th {\n",
       "        vertical-align: top;\n",
       "    }\n",
       "\n",
       "    .dataframe thead th {\n",
       "        text-align: right;\n",
       "    }\n",
       "</style>\n",
       "<table border=\"1\" class=\"dataframe\">\n",
       "  <thead>\n",
       "    <tr style=\"text-align: right;\">\n",
       "      <th></th>\n",
       "      <th>text</th>\n",
       "      <th>polarity</th>\n",
       "      <th>subjectivity</th>\n",
       "    </tr>\n",
       "  </thead>\n",
       "  <tbody>\n",
       "    <tr>\n",
       "      <th>0</th>\n",
       "      <td>Read my full statement: \\n \\n https://t.co/mCl...</td>\n",
       "      <td>0.350000</td>\n",
       "      <td>0.550000</td>\n",
       "    </tr>\n",
       "    <tr>\n",
       "      <th>1</th>\n",
       "      <td>Yesterday’s Federal court ruling is deeply dis...</td>\n",
       "      <td>-0.300000</td>\n",
       "      <td>0.550000</td>\n",
       "    </tr>\n",
       "    <tr>\n",
       "      <th>2</th>\n",
       "      <td>The Build Back Better Agenda combined with the...</td>\n",
       "      <td>0.250000</td>\n",
       "      <td>0.250000</td>\n",
       "    </tr>\n",
       "    <tr>\n",
       "      <th>3</th>\n",
       "      <td>The Build Back Better Agenda starts with educa...</td>\n",
       "      <td>0.250000</td>\n",
       "      <td>0.250000</td>\n",
       "    </tr>\n",
       "    <tr>\n",
       "      <th>4</th>\n",
       "      <td>As the first woman chancellor, Angela Merkel’s...</td>\n",
       "      <td>0.250000</td>\n",
       "      <td>0.333333</td>\n",
       "    </tr>\n",
       "    <tr>\n",
       "      <th>5</th>\n",
       "      <td>Folks, it’s never been more convenient or more...</td>\n",
       "      <td>0.400000</td>\n",
       "      <td>1.000000</td>\n",
       "    </tr>\n",
       "    <tr>\n",
       "      <th>6</th>\n",
       "      <td>Under Chancellor Merkel, the friendship and co...</td>\n",
       "      <td>0.000000</td>\n",
       "      <td>0.000000</td>\n",
       "    </tr>\n",
       "    <tr>\n",
       "      <th>7</th>\n",
       "      <td>It was an honor to welcome my dear friend Chan...</td>\n",
       "      <td>0.400000</td>\n",
       "      <td>0.450000</td>\n",
       "    </tr>\n",
       "    <tr>\n",
       "      <th>8</th>\n",
       "      <td>Tune in as I host a press conference with Germ...</td>\n",
       "      <td>0.000000</td>\n",
       "      <td>0.000000</td>\n",
       "    </tr>\n",
       "    <tr>\n",
       "      <th>9</th>\n",
       "      <td>There’s just one month left to sign up for hea...</td>\n",
       "      <td>0.000000</td>\n",
       "      <td>0.000000</td>\n",
       "    </tr>\n",
       "    <tr>\n",
       "      <th>10</th>\n",
       "      <td>Today, help is here. And my Build Back Better ...</td>\n",
       "      <td>0.250000</td>\n",
       "      <td>0.250000</td>\n",
       "    </tr>\n",
       "    <tr>\n",
       "      <th>11</th>\n",
       "      <td>To give you a sense of how transformative the ...</td>\n",
       "      <td>0.000000</td>\n",
       "      <td>0.000000</td>\n",
       "    </tr>\n",
       "    <tr>\n",
       "      <th>12</th>\n",
       "      <td>The expanded Child Tax Credit is one of the la...</td>\n",
       "      <td>-0.071429</td>\n",
       "      <td>0.214286</td>\n",
       "    </tr>\n",
       "    <tr>\n",
       "      <th>13</th>\n",
       "      <td>Tune in as the Vice President and I deliver re...</td>\n",
       "      <td>0.000000</td>\n",
       "      <td>0.000000</td>\n",
       "    </tr>\n",
       "    <tr>\n",
       "      <th>14</th>\n",
       "      <td>I look forward to welcoming German Chancellor ...</td>\n",
       "      <td>0.000000</td>\n",
       "      <td>0.000000</td>\n",
       "    </tr>\n",
       "    <tr>\n",
       "      <th>15</th>\n",
       "      <td>My Build Back Better Agenda will provide acces...</td>\n",
       "      <td>0.166667</td>\n",
       "      <td>0.166667</td>\n",
       "    </tr>\n",
       "    <tr>\n",
       "      <th>16</th>\n",
       "      <td>Today is a historic day for our country. Becau...</td>\n",
       "      <td>0.050000</td>\n",
       "      <td>0.200000</td>\n",
       "    </tr>\n",
       "    <tr>\n",
       "      <th>17</th>\n",
       "      <td>Thanks for stopping by, Olivia, and for using ...</td>\n",
       "      <td>0.150000</td>\n",
       "      <td>0.300000</td>\n",
       "    </tr>\n",
       "    <tr>\n",
       "      <th>18</th>\n",
       "      <td>Today, I stopped by Capitol Hill to continue m...</td>\n",
       "      <td>0.000000</td>\n",
       "      <td>0.000000</td>\n",
       "    </tr>\n",
       "    <tr>\n",
       "      <th>19</th>\n",
       "      <td>This afternoon, I’ll be meeting with a biparti...</td>\n",
       "      <td>0.000000</td>\n",
       "      <td>0.000000</td>\n",
       "    </tr>\n",
       "  </tbody>\n",
       "</table>\n",
       "</div>"
      ],
      "text/plain": [
       "                                                 text  polarity  subjectivity\n",
       "0   Read my full statement: \\n \\n https://t.co/mCl...  0.350000      0.550000\n",
       "1   Yesterday’s Federal court ruling is deeply dis... -0.300000      0.550000\n",
       "2   The Build Back Better Agenda combined with the...  0.250000      0.250000\n",
       "3   The Build Back Better Agenda starts with educa...  0.250000      0.250000\n",
       "4   As the first woman chancellor, Angela Merkel’s...  0.250000      0.333333\n",
       "5   Folks, it’s never been more convenient or more...  0.400000      1.000000\n",
       "6   Under Chancellor Merkel, the friendship and co...  0.000000      0.000000\n",
       "7   It was an honor to welcome my dear friend Chan...  0.400000      0.450000\n",
       "8   Tune in as I host a press conference with Germ...  0.000000      0.000000\n",
       "9   There’s just one month left to sign up for hea...  0.000000      0.000000\n",
       "10  Today, help is here. And my Build Back Better ...  0.250000      0.250000\n",
       "11  To give you a sense of how transformative the ...  0.000000      0.000000\n",
       "12  The expanded Child Tax Credit is one of the la... -0.071429      0.214286\n",
       "13  Tune in as the Vice President and I deliver re...  0.000000      0.000000\n",
       "14  I look forward to welcoming German Chancellor ...  0.000000      0.000000\n",
       "15  My Build Back Better Agenda will provide acces...  0.166667      0.166667\n",
       "16  Today is a historic day for our country. Becau...  0.050000      0.200000\n",
       "17  Thanks for stopping by, Olivia, and for using ...  0.150000      0.300000\n",
       "18  Today, I stopped by Capitol Hill to continue m...  0.000000      0.000000\n",
       "19  This afternoon, I’ll be meeting with a biparti...  0.000000      0.000000"
      ]
     },
     "execution_count": 76,
     "metadata": {},
     "output_type": "execute_result"
    }
   ],
   "source": [
    "df[['text','polarity', 'subjectivity']]"
   ]
  },
  {
   "cell_type": "code",
   "execution_count": 77,
   "metadata": {},
   "outputs": [
    {
     "data": {
      "text/plain": [
       "'Thanks for stopping by, Olivia, and for using your voice to urge young people to get vaccinated. If we all do our p… https://t.co/BPP9dmr71h'"
      ]
     },
     "execution_count": 77,
     "metadata": {},
     "output_type": "execute_result"
    }
   ],
   "source": [
    "df['text'][17]"
   ]
  },
  {
   "cell_type": "code",
   "execution_count": 78,
   "metadata": {},
   "outputs": [
    {
     "name": "stdout",
     "output_type": "stream",
     "text": [
      "read full statement\n",
      "Sentiment(classification='neg', p_pos=0.4941920927537901, p_neg=0.5058079072462102)\n",
      "yesterday federal court ruling deeply disappointing court order affect current daca\n",
      "Sentiment(classification='pos', p_pos=0.9942479808316282, p_neg=0.0057520191683702255)\n",
      "build back better agenda combined bipartisan infrastructure framework generation invest\n",
      "Sentiment(classification='pos', p_pos=0.6451260446023079, p_neg=0.35487395539769206)\n",
      "build back better agenda start education going provide four additional year school every\n",
      "Sentiment(classification='pos', p_pos=0.9132233175699103, p_neg=0.08677668243009037)\n",
      "first woman chancellor angela merkel life one groundbreaking service germany world\n",
      "Sentiment(classification='pos', p_pos=0.9704109456577313, p_neg=0.029589054342266535)\n",
      "folk never convenient important get vaccinated watch dr fauci an\n",
      "Sentiment(classification='pos', p_pos=0.7889067595158831, p_neg=0.21109324048411698)\n",
      "chancellor merkel friendship cooperation germany united state grown stronger\n",
      "Sentiment(classification='pos', p_pos=0.9788064609554797, p_neg=0.021193539044521918)\n",
      "honor welcome dear friend chancellor merkel white house today meeting agreed th\n",
      "Sentiment(classification='pos', p_pos=0.8858191725833112, p_neg=0.11418082741669038)\n",
      "tune host press conference german chancellor angela merkel\n",
      "Sentiment(classification='pos', p_pos=0.8036053130929803, p_neg=0.19639468690702108)\n",
      "one month left sign health insurance cost time\n",
      "Sentiment(classification='pos', p_pos=0.6229598132870724, p_neg=0.3770401867129286)\n",
      "today help build back better agenda keep tax cut working family place year\n",
      "Sentiment(classification='pos', p_pos=0.882998198427104, p_neg=0.11700180157289355)\n",
      "give sense transformative expanded child tax credit going spur largest ever one\n",
      "Sentiment(classification='pos', p_pos=0.8662311342239528, p_neg=0.13376886577604724)\n",
      "expanded child tax credit one largest ever single year tax cut family child\n",
      "Sentiment(classification='pos', p_pos=0.6445042546212325, p_neg=0.35549574537876716)\n",
      "tune vice president deliver remark start monthly child tax credit relief payment\n",
      "Sentiment(classification='neg', p_pos=0.09738855609969595, p_neg=0.9026114439003073)\n",
      "look forward welcoming german chancellor angela merkel white house afternoon bilateral meeti\n",
      "Sentiment(classification='pos', p_pos=0.8094342089430667, p_neg=0.19056579105693197)\n",
      "build back better agenda provide access quality affordable child care middle class family pay n\n",
      "Sentiment(classification='pos', p_pos=0.9471822680904703, p_neg=0.052817731909528216)\n",
      "today historic day country beginning morning nearly working family started receiv\n",
      "Sentiment(classification='pos', p_pos=0.9455432484064286, p_neg=0.0544567515935706)\n",
      "thanks stopping olivia using voice urge young people get vaccinated p\n",
      "Sentiment(classification='pos', p_pos=0.9765145294805148, p_neg=0.02348547051948706)\n",
      "today stopped capitol hill continue making case bipartisan infrastructure framework bui\n",
      "Sentiment(classification='pos', p_pos=0.7478535946183318, p_neg=0.25214640538166855)\n",
      "afternoon meeting bipartisan group governor mayor discus bipartisan infrastru\n",
      "Sentiment(classification='pos', p_pos=0.7415223968400705, p_neg=0.2584776031599294)\n"
     ]
    }
   ],
   "source": [
    "from textblob.sentiments import NaiveBayesAnalyzer\n",
    "for tweet in df['tidy_tweet']:\n",
    "    print(tweet)\n",
    "    analysis = TextBlob(tweet,analyzer=NaiveBayesAnalyzer())\n",
    "    print(analysis.sentiment)  "
   ]
  },
  {
   "cell_type": "code",
   "execution_count": 83,
   "metadata": {},
   "outputs": [],
   "source": [
    "from sklearn.feature_extraction.text import CountVectorizer"
   ]
  },
  {
   "cell_type": "code",
   "execution_count": 84,
   "metadata": {},
   "outputs": [],
   "source": [
    "corpus = [\n",
    "...     'This is the first document.',\n",
    "...     'This document is the second document.',\n",
    "...     'And this is the third one.',\n",
    "...     'Is this the first document?',\n",
    "... ]"
   ]
  },
  {
   "cell_type": "code",
   "execution_count": 86,
   "metadata": {},
   "outputs": [
    {
     "data": {
      "text/plain": [
       "['This is the first document.',\n",
       " 'This document is the second document.',\n",
       " 'And this is the third one.',\n",
       " 'Is this the first document?']"
      ]
     },
     "execution_count": 86,
     "metadata": {},
     "output_type": "execute_result"
    }
   ],
   "source": [
    "corpus"
   ]
  },
  {
   "cell_type": "code",
   "execution_count": 87,
   "metadata": {},
   "outputs": [],
   "source": [
    "cv = CountVectorizer(ngram_range=(1, 1))"
   ]
  },
  {
   "cell_type": "code",
   "execution_count": 94,
   "metadata": {},
   "outputs": [],
   "source": [
    "cv2 = CountVectorizer(ngram_range=(1, 2))"
   ]
  },
  {
   "cell_type": "code",
   "execution_count": 92,
   "metadata": {},
   "outputs": [
    {
     "data": {
      "text/plain": [
       "['and', 'document', 'first', 'is', 'one', 'second', 'the', 'third', 'this']"
      ]
     },
     "execution_count": 92,
     "metadata": {},
     "output_type": "execute_result"
    }
   ],
   "source": [
    "X1 = cv.fit_transform(corpus)\n",
    "cv.get_feature_names()"
   ]
  },
  {
   "cell_type": "code",
   "execution_count": 95,
   "metadata": {},
   "outputs": [
    {
     "data": {
      "text/plain": [
       "['and',\n",
       " 'and this',\n",
       " 'document',\n",
       " 'document is',\n",
       " 'first',\n",
       " 'first document',\n",
       " 'is',\n",
       " 'is the',\n",
       " 'is this',\n",
       " 'one',\n",
       " 'second',\n",
       " 'second document',\n",
       " 'the',\n",
       " 'the first',\n",
       " 'the second',\n",
       " 'the third',\n",
       " 'third',\n",
       " 'third one',\n",
       " 'this',\n",
       " 'this document',\n",
       " 'this is',\n",
       " 'this the']"
      ]
     },
     "execution_count": 95,
     "metadata": {},
     "output_type": "execute_result"
    }
   ],
   "source": [
    "X2 = cv2.fit_transform(corpus)\n",
    "cv2.get_feature_names()"
   ]
  },
  {
   "cell_type": "code",
   "execution_count": null,
   "metadata": {},
   "outputs": [],
   "source": []
  }
 ],
 "metadata": {
  "kernelspec": {
   "display_name": "Python 3",
   "language": "python",
   "name": "python3"
  },
  "language_info": {
   "codemirror_mode": {
    "name": "ipython",
    "version": 3
   },
   "file_extension": ".py",
   "mimetype": "text/x-python",
   "name": "python",
   "nbconvert_exporter": "python",
   "pygments_lexer": "ipython3",
   "version": "3.8.8"
  }
 },
 "nbformat": 4,
 "nbformat_minor": 2
}
